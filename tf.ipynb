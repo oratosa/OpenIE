{
 "metadata": {
  "language_info": {
   "codemirror_mode": {
    "name": "ipython",
    "version": 3
   },
   "file_extension": ".py",
   "mimetype": "text/x-python",
   "name": "python",
   "nbconvert_exporter": "python",
   "pygments_lexer": "ipython3",
   "version": 3
  },
  "orig_nbformat": 2,
  "kernelspec": {
   "name": "python_defaultSpec_1595897377846",
   "display_name": "Python 3.7.7 64-bit ('allennlp': conda)"
  }
 },
 "nbformat": 4,
 "nbformat_minor": 2,
 "cells": [
  {
   "cell_type": "code",
   "execution_count": 1,
   "metadata": {},
   "outputs": [],
   "source": [
    "import pandas as pd\n",
    "from extraction import entityExtraction"
   ]
  },
  {
   "cell_type": "code",
   "execution_count": 4,
   "metadata": {},
   "outputs": [],
   "source": [
    "from db import connect\n",
    "connection = connect()"
   ]
  },
  {
   "cell_type": "code",
   "execution_count": 5,
   "metadata": {},
   "outputs": [],
   "source": [
    "sentence_df = pd.read_sql(sql='SELECT * FROM sentence;', con=connection, index_col=None)"
   ]
  },
  {
   "cell_type": "code",
   "execution_count": 11,
   "metadata": {},
   "outputs": [],
   "source": [
    "count = {}\n",
    "for message, sentence in zip(sentence_df['Message-ID'],sentence_df['Sentence']):\n",
    "    entities = entityExtraction(sentence) #entityのリストが返ってくる\n",
    "    if entities != []:\n",
    "        for entity in entities:\n",
    "            if entity not in count:\n",
    "                count[entity] = []\n",
    "            count[entity].append(message)    "
   ]
  },
  {
   "cell_type": "code",
   "execution_count": 13,
   "metadata": {},
   "outputs": [],
   "source": [
    "for entity in count.keys():\n",
    "    count[entity] = len(set(count[entity]))"
   ]
  },
  {
   "cell_type": "code",
   "execution_count": 16,
   "metadata": {
    "tags": []
   },
   "outputs": [],
   "source": [
    "count_sorted = sorted(count.items(), key=lambda x:x[1], reverse=True)"
   ]
  },
  {
   "cell_type": "code",
   "execution_count": 33,
   "metadata": {},
   "outputs": [],
   "source": [
    "with open('output/entity_count.txt', 'w') as f:\n",
    "    f.write('\\n'.join('{} {}'.format(x[0],x[1]) for x in count_sorted))"
   ]
  },
  {
   "cell_type": "code",
   "execution_count": 29,
   "metadata": {},
   "outputs": [
    {
     "output_type": "execute_result",
     "data": {
      "text/plain": "[('Phillip K Allen', 196),\n ('Phillip Allen', 56),\n ('Lucy', 46),\n ('Phillip K Allen/HOU/ECT@ECT', 44),\n ('Phillip', 43),\n ('today', 39),\n ('1', 34),\n ('2', 33),\n ('3', 33),\n ('first', 30),\n ('Jeff', 29),\n ('Tim Belden', 29),\n ('George', 26),\n ('two', 25),\n ('Enron', 24),\n ('Larry', 24),\n ('Keith', 24),\n ('Monday', 23),\n ('tomorrow', 23),\n ('one', 22),\n ('Mike Grigsby', 19),\n ('Friday', 19),\n ('San Marcos', 19),\n ('Enron North America Corp.', 18),\n ('HOU/ECT@ECT', 18),\n ('California', 18),\n ('ECT', 18),\n ('Thursday', 18),\n ('daily', 18),\n ('George Richards', 17),\n ('this week', 17),\n ('4', 17),\n ('Houston', 16),\n ('Larry Lewter', 16),\n ('monthly', 16),\n ('Robert Badeer/', 16),\n ('Scott Neal', 15),\n ('Jeff Dasovich', 15),\n ('Richard Shapiro', 14),\n ('James D Steffes', 14),\n ('Reagan', 14),\n ('Phillip.K.Allen@enron.com', 14),\n ('three', 14),\n ('Hunter S Shively/HOU/ECT@ECT', 13),\n ('this morning', 13),\n ('Susan J Mara', 13),\n ('Austin', 13),\n ('Christopher F Calger', 13),\n ('HOU/', 12),\n ('5', 12),\n ('John', 12),\n ('713', 12),\n ('Paul Kaufman', 12),\n ('Keith Holst', 11),\n ('10', 11),\n ('One', 11),\n ('second', 11),\n ('Wade', 11),\n ('yesterday', 11),\n ('Tuesday', 11),\n ('Joe Hartsoe/Corp/Enron@ENRON', 10),\n ('last week', 10),\n ('15,000', 10),\n ('Alan Comnes/', 10),\n ('10%', 10),\n ('2000', 9),\n ('Kevin M Presto', 9),\n ('95', 9),\n ('Wednesday', 9),\n ('Matt Motley', 9),\n ('John J Lavorato/Corp/Enron@Enron', 9),\n ('Gary', 9),\n ('Brenda', 9),\n ('Mark', 9),\n ('Keith Holst/HOU/ECT@ect', 8),\n ('Colleen Sullivan', 8),\n ('this year', 8),\n ('Mary', 8),\n ('William S Bradford/HOU/ECT@ECT', 8),\n ('George W. Richards Creekside', 8),\n ('Mike Swerzbin', 8),\n ('Mike', 8),\n ('Sandra McCubbin', 8),\n ('03/26/2001 10:01 AM', 8),\n ('Jay Reitmeyer', 7),\n ('Ina Rangel', 7),\n ('December', 7),\n ('Jim', 7),\n ('Fletcher J Sturm', 7),\n ('1/26', 7),\n ('next week', 7),\n ('12', 7),\n ('Richard Burchfield', 7),\n ('6', 7),\n ('Mary Hain/HOU/ECT@ECT', 7),\n ('October', 7),\n ('Marty Sunde/', 7),\n ('Michael Tribolet/Corp/Enron@Enron', 7),\n ('Richard B Sanders/HOU/ECT@ECT', 7),\n ('Scott Stoness/HOU/', 7)]"
     },
     "metadata": {},
     "execution_count": 29
    }
   ],
   "source": [
    "count_sorted[0:100]"
   ]
  },
  {
   "cell_type": "code",
   "execution_count": null,
   "metadata": {},
   "outputs": [],
   "source": []
  }
 ]
}