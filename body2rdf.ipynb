{
 "metadata": {
  "language_info": {
   "codemirror_mode": {
    "name": "ipython",
    "version": 3
   },
   "file_extension": ".py",
   "mimetype": "text/x-python",
   "name": "python",
   "nbconvert_exporter": "python",
   "pygments_lexer": "ipython3",
   "version": "3.7.7-final"
  },
  "orig_nbformat": 2,
  "kernelspec": {
   "name": "Python 3.7.7 64-bit ('allennlp': pyenv)",
   "display_name": "Python 3.7.7 64-bit ('allennlp': pyenv)",
   "metadata": {
    "interpreter": {
     "hash": "8f4757669d1e3b6bf7814273e110a25ebcc963326140dfe3c35ac4cabb3218b6"
    }
   }
  }
 },
 "nbformat": 4,
 "nbformat_minor": 2,
 "cells": [
  {
   "cell_type": "code",
   "execution_count": 1,
   "metadata": {},
   "outputs": [],
   "source": [
    "import os, sys, email, datetime, pprint, re, time, html, pickle\n",
    "import numpy as np\n",
    "import pandas as pd\n",
    "import nltk\n",
    "from nltk.metrics import *\n",
    "\n",
    "pd.options.display.max_colwidth = 1000"
   ]
  },
  {
   "cell_type": "code",
   "execution_count": 34,
   "metadata": {},
   "outputs": [],
   "source": [
    "with open('/Users/taroaso/myprojects/OpenIE/trec/output/tagme.pickle', mode=\"rb\") as f:\n",
    "    tagme_result = pickle.load(f)\n",
    "\n",
    "with open('/Users/taroaso/myprojects/OpenIE/trec/output/ner.pickle', mode=\"rb\") as f:\n",
    "     ner_result = pickle.load(f)\n",
    "\n",
    "with open('/Users/taroaso/myprojects/OpenIE/trec/output/type_translation.pickle', mode=\"rb\") as f:\n",
    "     translation = pickle.load(f)"
   ]
  },
  {
   "cell_type": "code",
   "execution_count": 3,
   "metadata": {},
   "outputs": [],
   "source": [
    "from entityLinking import getWikidataID"
   ]
  },
  {
   "cell_type": "code",
   "execution_count": 4,
   "metadata": {},
   "outputs": [
    {
     "output_type": "stream",
     "name": "stdout",
     "text": [
      "{'end': 268,\n",
      " 'id': 839715,\n",
      " 'link_probability': 1,\n",
      " 'rho': 0.7779867649078369,\n",
      " 'spot': 'numeric entity',\n",
      " 'start': 254,\n",
      " 'title': 'Numeric character reference'}\n",
      "{'batchcomplete': '',\n",
      " 'query': {'pages': {'839715': {'ns': 0,\n",
      "                                'pageid': 839715,\n",
      "                                'pageprops': {'defaultsort': 'Numeric '\n",
      "                                                             'Character '\n",
      "                                                             'Reference',\n",
      "                                              'wikibase_item': 'Q1204079'},\n",
      "                                'title': 'Numeric character reference'}}}}\n",
      "{'end': 287,\n",
      " 'id': 59126,\n",
      " 'link_probability': 0.37846481800079346,\n",
      " 'rho': 0.3699946403503418,\n",
      " 'spot': 'apostrophe',\n",
      " 'start': 277,\n",
      " 'title': 'Apostrophe'}\n",
      "{'batchcomplete': '',\n",
      " 'query': {'pages': {'59126': {'ns': 0,\n",
      "                               'pageid': 59126,\n",
      "                               'pageprops': {'wikibase-shortdesc': 'Punctuation '\n",
      "                                                                   'or '\n",
      "                                                                   'diacritical '\n",
      "                                                                   'mark',\n",
      "                                             'wikibase_item': 'Q436048'},\n",
      "                               'title': 'Apostrophe'}}}}\n",
      "{'end': 325,\n",
      " 'id': 12431,\n",
      " 'link_probability': 0.4061962068080902,\n",
      " 'rho': 0.32103094458580017,\n",
      " 'spot': 'Google search',\n",
      " 'start': 312,\n",
      " 'title': 'Google Search'}\n",
      "{'batchcomplete': '',\n",
      " 'query': {'pages': {'12431': {'ns': 0,\n",
      "                               'pageid': 12431,\n",
      "                               'pageprops': {'page_image_free': 'Google_Homepage.svg',\n",
      "                                             'wikibase-shortdesc': 'Web search '\n",
      "                                                                   'engine '\n",
      "                                                                   'developed '\n",
      "                                                                   'by Google',\n",
      "                                             'wikibase_item': 'Q9366'},\n",
      "                               'title': 'Google Search'}}}}\n"
     ]
    }
   ],
   "source": [
    "for result in tagme_result[\"003b01c10c55$f0f62060$f3468ed5@huftis\"]['annotations']:\n",
    "    try:\n",
    "        if result['rho'] >= 0.3:\n",
    "            res = getWikidataID(result['id'])\n",
    "            pprint.pprint(result)\n",
    "            pprint.pprint(res)\n",
    "    except:\n",
    "        pass"
   ]
  },
  {
   "cell_type": "code",
   "execution_count": 58,
   "metadata": {},
   "outputs": [
    {
     "output_type": "execute_result",
     "data": {
      "text/plain": [
       "[{'spot': 'doc', 'start': 21, 'end': 24, 'type': 'ORG'},\n",
       " {'spot': '<', 'start': 109, 'end': 110, 'type': 'NORP'},\n",
       " {'spot': 'xhtml', 'start': 177, 'end': 182, 'type': 'ORG'},\n",
       " {'spot': 'xhtml', 'start': 237, 'end': 242, 'type': 'ORG'},\n",
       " {'spot': 'xhtml', 'start': 342, 'end': 347, 'type': 'ORG'},\n",
       " {'spot': 'javascript', 'start': 352, 'end': 362, 'type': 'PERSON'},\n",
       " {'spot': 'two', 'start': 427, 'end': 430, 'type': 'CARDINAL'},\n",
       " {'spot': 'john russell ve3ll@rac.ca',\n",
       "  'start': 439,\n",
       "  'end': 464,\n",
       "  'type': 'PERSON'},\n",
       " {'spot': \"L's\", 'start': 476, 'end': 479, 'type': 'ORG'}]"
      ]
     },
     "metadata": {},
     "execution_count": 58
    }
   ],
   "source": [
    "ner_result[uid]"
   ]
  },
  {
   "cell_type": "code",
   "execution_count": 8,
   "metadata": {},
   "outputs": [],
   "source": [
    "from rdflib import Graph, Literal, RDF, URIRef, BNode, Namespace\n",
    "from rdflib.namespace import CSVW, DC, DCAT, DCTERMS, DOAP, FOAF, ODRL2, ORG, OWL, \\\n",
    "                           PROF, PROV, RDF, RDFS, SDO, SH, SKOS, SOSA, SSN, TIME, \\\n",
    "                           VOID, XMLNS, XSD\n",
    "BASE = Namespace(\"http://www.kde.cs.tsukuba.ac.jp/~aso/trec#\")\n",
    "#EMAIL = Namespace(\"http://www.w3.org/2000/10/swap/pim/email#\")\n",
    "OLIA = Namespace(\"http://purl.org/olia/olia.owl#\")\n",
    "NERD = Namespace(\"http://nerd.eurecom.fr/ontology#\")\n",
    "NIF = Namespace(\"http://persistence.uni-leipzig.org/nlp2rdf/ontologies/nif-core#\")\n",
    "ITSRDF = Namespace(\"https://www.w3.org/2005/11/its/rdf#\")\n",
    "WD = Namespace(\"http://www.wikidata.org/entity/\")"
   ]
  },
  {
   "cell_type": "code",
   "execution_count": 76,
   "metadata": {},
   "outputs": [],
   "source": [
    "# RDFグラフ\n",
    "g = Graph()\n",
    "g.bind('',BASE)\n",
    "g.bind('schema',SDO)\n",
    "g.bind('foaf',FOAF)\n",
    "g.bind('owl',OWL)\n",
    "g.bind('rdf',RDF)\n",
    "g.bind('rdfs',RDFS)\n",
    "g.bind('olia',OLIA)\n",
    "g.bind('nerd',NERD)\n",
    "g.bind('nif',NIF)\n",
    "g.bind('itsrdf',ITSRDF)\n",
    "g.bind('wd',WD)"
   ]
  },
  {
   "cell_type": "code",
   "execution_count": 77,
   "metadata": {},
   "outputs": [],
   "source": [
    "result = list(tagme_result.items())"
   ]
  },
  {
   "cell_type": "code",
   "execution_count": 78,
   "metadata": {},
   "outputs": [],
   "source": [
    "uid = result[1][0]\n",
    "\n",
    "##URI参照されるリソースは表記を変換する\n",
    "emailmessage = re.sub(r'[^a-zA-Z_0-9]','_',uid) \n",
    "\n",
    "for annotation in result[1][1]['annotations']:\n",
    "    if annotation['link_probability'] >= 0.3:\n",
    "        spot = annotation['spot']\n",
    "        start = annotation['start']\n",
    "        end = annotation['end']\n",
    "        offset_based_string = emailmessage + '#offset_' + str(start) + '_' + str(end)\n",
    "        # Entity, Mentionに共通する記述\n",
    "        g.add((BASE[emailmessage],SDO.mentions,BASE[offset_based_string]))\n",
    "        g.add((BASE[offset_based_string],RDF.type,NIF.String))\n",
    "        g.add((BASE[offset_based_string],NIF.beginIndex,Literal(start,datatype=XSD.integer)))\n",
    "        g.add((BASE[offset_based_string],NIF.endIndex,Literal(end,datatype=XSD.integer)))\n",
    "        g.add((BASE[offset_based_string],NIF.isString,Literal(spot,lang='en')))\n",
    "        # Entity\n",
    "        if 'rho' in annotation:\n",
    "            rho = annotation['rho']\n",
    "            pid = annotation['id']\n",
    "            # 閾値0.3以上のEntityを記述する\n",
    "            if annotation['rho'] >= 0.3:\n",
    "                res = getWikidataID(pid)\n",
    "                wid = res['query']['pages'][str(pid)]['pageprops']['wikibase_item']\n",
    "                g.add((BASE[offset_based_string],ITSRDF.taIdentRef,WD[wid]))\n",
    "                g.add((BASE[offset_based_string],ITSRDF.taConfidence,Literal(rho,datatype=XSD.decimal)))\n",
    "            # 閾値0.3未満のEntityはMentionと同じ記述\n",
    "            else:\n",
    "                link_probability = annotation['link_probability']\n",
    "                g.add((BASE[offset_based_string],RDF.type,NIF.EntityOccurrence))\n",
    "                g.add((BASE[offset_based_string],NIF.entityOccurrenceConf,Literal(link_probability,datatype=XSD.decimal)))\n",
    "                for ner in ner_result[uid]:\n",
    "                    if ner['spot'] == spot:\n",
    "                        spacy_type = ner['type']\n",
    "                        schema_type = translation[spacy_type]\n",
    "                        g.add((BASE[offset_based_string],ITSRDF.taClassRef,SDO[schema_type]))\n",
    "                    else:\n",
    "                        schema_type = 'Thing'\n",
    "                        g.add((BASE[offset_based_string],ITSRDF.taClassRef,SDO[schema_type]))    \n",
    "        # Mention\n",
    "        else:\n",
    "            link_probability = annotation['link_probability']\n",
    "            g.add((BASE[offset_based_string],RDF.type,NIF.EntityOccurrence))\n",
    "            g.add((BASE[offset_based_string],NIF.entityOccurrenceConf,Literal(link_probability,datatype=XSD.decimal)))\n",
    "            for ner in ner_result[uid]:\n",
    "                if ner['spot'] == spot:\n",
    "                    spacy_type = ner['type']\n",
    "                    schema_type = translation[spacy_type]\n",
    "                    g.add((BASE[offset_based_string],ITSRDF.taClassRef,SDO[schema_type]))\n",
    "                else:\n",
    "                    schema_type = 'Thing'\n",
    "                    g.add((BASE[offset_based_string],ITSRDF.taClassRef,SDO[schema_type]))        "
   ]
  },
  {
   "cell_type": "code",
   "execution_count": 79,
   "metadata": {},
   "outputs": [
    {
     "output_type": "stream",
     "name": "stdout",
     "text": [
      "@prefix : <http://www.kde.cs.tsukuba.ac.jp/~aso/trec#> .\n@prefix itsrdf: <https://www.w3.org/2005/11/its/rdf#> .\n@prefix nif: <http://persistence.uni-leipzig.org/nlp2rdf/ontologies/nif-core#> .\n@prefix schema: <https://schema.org/> .\n@prefix wd: <http://www.wikidata.org/entity/> .\n@prefix xsd: <http://www.w3.org/2001/XMLSchema#> .\n\n:40113E7E_20229_1133A43_localhost schema:mentions <http://www.kde.cs.tsukuba.ac.jp/~aso/trec#40113E7E_20229_1133A43_localhost#offset_114_123>,\n        <http://www.kde.cs.tsukuba.ac.jp/~aso/trec#40113E7E_20229_1133A43_localhost#offset_156_160>,\n        <http://www.kde.cs.tsukuba.ac.jp/~aso/trec#40113E7E_20229_1133A43_localhost#offset_177_182>,\n        <http://www.kde.cs.tsukuba.ac.jp/~aso/trec#40113E7E_20229_1133A43_localhost#offset_237_242>,\n        <http://www.kde.cs.tsukuba.ac.jp/~aso/trec#40113E7E_20229_1133A43_localhost#offset_277_281>,\n        <http://www.kde.cs.tsukuba.ac.jp/~aso/trec#40113E7E_20229_1133A43_localhost#offset_342_347>,\n        <http://www.kde.cs.tsukuba.ac.jp/~aso/trec#40113E7E_20229_1133A43_localhost#offset_352_362>,\n        <http://www.kde.cs.tsukuba.ac.jp/~aso/trec#40113E7E_20229_1133A43_localhost#offset_439_451>,\n        <http://www.kde.cs.tsukuba.ac.jp/~aso/trec#40113E7E_20229_1133A43_localhost#offset_486_491>,\n        <http://www.kde.cs.tsukuba.ac.jp/~aso/trec#40113E7E_20229_1133A43_localhost#offset_493_497>,\n        <http://www.kde.cs.tsukuba.ac.jp/~aso/trec#40113E7E_20229_1133A43_localhost#offset_505_511>,\n        <http://www.kde.cs.tsukuba.ac.jp/~aso/trec#40113E7E_20229_1133A43_localhost#offset_522_526>,\n        <http://www.kde.cs.tsukuba.ac.jp/~aso/trec#40113E7E_20229_1133A43_localhost#offset_534_540>,\n        <http://www.kde.cs.tsukuba.ac.jp/~aso/trec#40113E7E_20229_1133A43_localhost#offset_552_556>,\n        <http://www.kde.cs.tsukuba.ac.jp/~aso/trec#40113E7E_20229_1133A43_localhost#offset_564_570> .\n\n<http://www.kde.cs.tsukuba.ac.jp/~aso/trec#40113E7E_20229_1133A43_localhost#offset_114_123> a nif:String ;\n    nif:beginIndex 114 ;\n    nif:endIndex 123 ;\n    nif:isString \"start tag\"@en ;\n    itsrdf:taConfidence 0.34548264741897583 ;\n    itsrdf:taIdentRef wd:Q2115 .\n\n<http://www.kde.cs.tsukuba.ac.jp/~aso/trec#40113E7E_20229_1133A43_localhost#offset_156_160> a nif:EntityOccurrence,\n        nif:String ;\n    nif:beginIndex 156 ;\n    nif:endIndex 160 ;\n    nif:entityOccurrenceConf 0.45820432901382446 ;\n    nif:isString \"html\"@en ;\n    itsrdf:taClassRef schema:Thing .\n\n<http://www.kde.cs.tsukuba.ac.jp/~aso/trec#40113E7E_20229_1133A43_localhost#offset_177_182> a nif:String ;\n    nif:beginIndex 177 ;\n    nif:endIndex 182 ;\n    nif:isString \"xhtml\"@en ;\n    itsrdf:taConfidence 0.5575952529907227 ;\n    itsrdf:taIdentRef wd:Q166074 .\n\n<http://www.kde.cs.tsukuba.ac.jp/~aso/trec#40113E7E_20229_1133A43_localhost#offset_237_242> a nif:EntityOccurrence,\n        nif:String ;\n    nif:beginIndex 237 ;\n    nif:endIndex 242 ;\n    nif:entityOccurrenceConf 0.8057259917259216 ;\n    nif:isString \"xhtml\"@en ;\n    itsrdf:taClassRef schema:Organization,\n        schema:Thing .\n\n<http://www.kde.cs.tsukuba.ac.jp/~aso/trec#40113E7E_20229_1133A43_localhost#offset_277_281> a nif:EntityOccurrence,\n        nif:String ;\n    nif:beginIndex 277 ;\n    nif:endIndex 281 ;\n    nif:entityOccurrenceConf 0.45820432901382446 ;\n    nif:isString \"html\"@en ;\n    itsrdf:taClassRef schema:Thing .\n\n<http://www.kde.cs.tsukuba.ac.jp/~aso/trec#40113E7E_20229_1133A43_localhost#offset_342_347> a nif:String ;\n    nif:beginIndex 342 ;\n    nif:endIndex 347 ;\n    nif:isString \"xhtml\"@en ;\n    itsrdf:taConfidence 0.5027457475662231 ;\n    itsrdf:taIdentRef wd:Q166074 .\n\n<http://www.kde.cs.tsukuba.ac.jp/~aso/trec#40113E7E_20229_1133A43_localhost#offset_352_362> a nif:String ;\n    nif:beginIndex 352 ;\n    nif:endIndex 362 ;\n    nif:isString \"javascript\"@en ;\n    itsrdf:taConfidence 0.5380772352218628 ;\n    itsrdf:taIdentRef wd:Q2005 .\n\n<http://www.kde.cs.tsukuba.ac.jp/~aso/trec#40113E7E_20229_1133A43_localhost#offset_439_451> a nif:EntityOccurrence,\n        nif:String ;\n    nif:beginIndex 439 ;\n    nif:endIndex 451 ;\n    nif:entityOccurrenceConf 0.3198506534099579 ;\n    nif:isString \"john russell\"@en ;\n    itsrdf:taClassRef schema:Thing .\n\n<http://www.kde.cs.tsukuba.ac.jp/~aso/trec#40113E7E_20229_1133A43_localhost#offset_486_491> a nif:String ;\n    nif:beginIndex 486 ;\n    nif:endIndex 491 ;\n    nif:isString \"LLAMA\"@en ;\n    itsrdf:taConfidence 0.33395522832870483 ;\n    itsrdf:taIdentRef wd:Q42569 .\n\n<http://www.kde.cs.tsukuba.ac.jp/~aso/trec#40113E7E_20229_1133A43_localhost#offset_493_497> a nif:String ;\n    nif:beginIndex 493 ;\n    nif:endIndex 497 ;\n    nif:isString \"http\"@en ;\n    itsrdf:taConfidence 0.3087555766105652 ;\n    itsrdf:taIdentRef wd:Q8777 .\n\n<http://www.kde.cs.tsukuba.ac.jp/~aso/trec#40113E7E_20229_1133A43_localhost#offset_505_511> a nif:String ;\n    nif:beginIndex 505 ;\n    nif:endIndex 511 ;\n    nif:isString \"cogeco\"@en ;\n    itsrdf:taConfidence 0.5096057653427124 ;\n    itsrdf:taIdentRef wd:Q7887664 .\n\n<http://www.kde.cs.tsukuba.ac.jp/~aso/trec#40113E7E_20229_1133A43_localhost#offset_522_526> a nif:EntityOccurrence,\n        nif:String ;\n    nif:beginIndex 522 ;\n    nif:endIndex 526 ;\n    nif:entityOccurrenceConf 0.4951880872249603 ;\n    nif:isString \"http\"@en ;\n    itsrdf:taClassRef schema:Thing .\n\n<http://www.kde.cs.tsukuba.ac.jp/~aso/trec#40113E7E_20229_1133A43_localhost#offset_534_540> a nif:EntityOccurrence,\n        nif:String ;\n    nif:beginIndex 534 ;\n    nif:endIndex 540 ;\n    nif:entityOccurrenceConf 0.9174311757087708 ;\n    nif:isString \"cogeco\"@en ;\n    itsrdf:taClassRef schema:Thing .\n\n<http://www.kde.cs.tsukuba.ac.jp/~aso/trec#40113E7E_20229_1133A43_localhost#offset_552_556> a nif:EntityOccurrence,\n        nif:String ;\n    nif:beginIndex 552 ;\n    nif:endIndex 556 ;\n    nif:entityOccurrenceConf 0.4951880872249603 ;\n    nif:isString \"http\"@en ;\n    itsrdf:taClassRef schema:Thing .\n\n<http://www.kde.cs.tsukuba.ac.jp/~aso/trec#40113E7E_20229_1133A43_localhost#offset_564_570> a nif:EntityOccurrence,\n        nif:String ;\n    nif:beginIndex 564 ;\n    nif:endIndex 570 ;\n    nif:entityOccurrenceConf 0.9174311757087708 ;\n    nif:isString \"cogeco\"@en ;\n    itsrdf:taClassRef schema:Thing .\n\n\n"
     ]
    }
   ],
   "source": [
    "print(g.serialize(format=\"turtle\").decode(\"utf-8\"))"
   ]
  },
  {
   "cell_type": "code",
   "execution_count": null,
   "metadata": {},
   "outputs": [],
   "source": []
  }
 ]
}