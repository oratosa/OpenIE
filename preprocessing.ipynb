{
 "cells": [
  {
   "cell_type": "code",
   "execution_count": 13,
   "metadata": {
    "scrolled": false
   },
   "outputs": [],
   "source": [
    "import os, sys, email\n",
    "import numpy as np\n",
    "import pandas as pd\n",
    "\n",
    "from fileRetrieval import path_list\n",
    "from fileToDataFrame import fileToDataFrame"
   ]
  },
  {
   "cell_type": "code",
   "execution_count": 14,
   "metadata": {},
   "outputs": [],
   "source": [
    "# ディレクトリ 内のメールファイルを読み込む\n",
    "\n",
    "directory_path = \"enron/maildir/allen-p/\"\n",
    "\n",
    "file_list, dir_list=path_list(directory_path)"
   ]
  },
  {
   "cell_type": "code",
   "execution_count": 16,
   "metadata": {},
   "outputs": [],
   "source": [
    "# テキストファイルをデータフレームに格納する\n",
    "\n",
    "df = fileToDataFrame(file_list)"
   ]
  },
  {
   "cell_type": "code",
   "execution_count": 17,
   "metadata": {},
   "outputs": [
    {
     "name": "stdout",
     "output_type": "stream",
     "text": [
      "<class 'pandas.core.frame.DataFrame'>\n",
      "RangeIndex: 3034 entries, 0 to 3033\n",
      "Data columns (total 13 columns):\n",
      "Path          3034 non-null object\n",
      "Message-ID    3034 non-null object\n",
      "Date          3034 non-null object\n",
      "From          3034 non-null object\n",
      "To            2971 non-null object\n",
      "Cc            177 non-null object\n",
      "Bcc           177 non-null object\n",
      "X-From        3034 non-null object\n",
      "X-To          3034 non-null object\n",
      "X-cc          3034 non-null object\n",
      "X-bcc         3034 non-null object\n",
      "Subject       3034 non-null object\n",
      "Message       3034 non-null object\n",
      "dtypes: object(13)\n",
      "memory usage: 308.2+ KB\n"
     ]
    }
   ],
   "source": [
    "df.info()"
   ]
  },
  {
   "cell_type": "code",
   "execution_count": null,
   "metadata": {},
   "outputs": [],
   "source": []
  }
 ],
 "metadata": {
  "kernelspec": {
   "display_name": "Python 3",
   "language": "python",
   "name": "python3"
  },
  "language_info": {
   "codemirror_mode": {
    "name": "ipython",
    "version": 3
   },
   "file_extension": ".py",
   "mimetype": "text/x-python",
   "name": "python",
   "nbconvert_exporter": "python",
   "pygments_lexer": "ipython3",
   "version": "3.7.3"
  }
 },
 "nbformat": 4,
 "nbformat_minor": 2
}
