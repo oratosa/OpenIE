{
 "cells": [
  {
   "cell_type": "code",
   "execution_count": 1,
   "metadata": {
    "scrolled": false
   },
   "outputs": [],
   "source": [
    "import os, sys, email\n",
    "import numpy as np\n",
    "import pandas as pd"
   ]
  },
  {
   "cell_type": "code",
   "execution_count": 2,
   "metadata": {},
   "outputs": [],
   "source": [
    "from email.parser import Parser\n",
    "\n",
    "path = \"enron/maildir/allen-p/inbox/5.\"\n",
    "\n",
    "with open(path) as f:\n",
    "    mail = Parser().parse(f)"
   ]
  },
  {
   "cell_type": "code",
   "execution_count": 24,
   "metadata": {},
   "outputs": [],
   "source": [
    "cols = ['Path', 'Message-ID', 'Date', 'From', 'To', 'Cc', 'Bcc', 'X-From', 'X-To', 'X-cc', 'X-bcc', 'Subject', 'Message']\n",
    "df = pd.DataFrame(index=[], columns=cols)"
   ]
  },
  {
   "cell_type": "code",
   "execution_count": 25,
   "metadata": {},
   "outputs": [],
   "source": [
    "record = {}\n",
    "for header in cols:\n",
    "    if header == 'Path':\n",
    "        record[header] = path\n",
    "    elif header == 'Message':\n",
    "        record[header] = mail.get_payload()\n",
    "    else:\n",
    "        record[header]=mail.get(header)"
   ]
  },
  {
   "cell_type": "code",
   "execution_count": 26,
   "metadata": {
    "scrolled": true
   },
   "outputs": [
    {
     "data": {
      "text/html": [
       "<div>\n",
       "<style scoped>\n",
       "    .dataframe tbody tr th:only-of-type {\n",
       "        vertical-align: middle;\n",
       "    }\n",
       "\n",
       "    .dataframe tbody tr th {\n",
       "        vertical-align: top;\n",
       "    }\n",
       "\n",
       "    .dataframe thead th {\n",
       "        text-align: right;\n",
       "    }\n",
       "</style>\n",
       "<table border=\"1\" class=\"dataframe\">\n",
       "  <thead>\n",
       "    <tr style=\"text-align: right;\">\n",
       "      <th></th>\n",
       "      <th>Path</th>\n",
       "      <th>Message-ID</th>\n",
       "      <th>Date</th>\n",
       "      <th>From</th>\n",
       "      <th>To</th>\n",
       "      <th>Cc</th>\n",
       "      <th>Bcc</th>\n",
       "      <th>X-From</th>\n",
       "      <th>X-To</th>\n",
       "      <th>X-cc</th>\n",
       "      <th>X-bcc</th>\n",
       "      <th>Subject</th>\n",
       "      <th>Message</th>\n",
       "    </tr>\n",
       "  </thead>\n",
       "  <tbody>\n",
       "    <tr>\n",
       "      <th>0</th>\n",
       "      <td>enron/maildir/allen-p/inbox/5.</td>\n",
       "      <td>&lt;2952100.1075855377529.JavaMail.evans@thyme&gt;</td>\n",
       "      <td>Mon, 17 Dec 2001 08:40:38 -0800 (PST)</td>\n",
       "      <td>steven.matthews@ubspw.com</td>\n",
       "      <td>k..allen@enron.com</td>\n",
       "      <td>None</td>\n",
       "      <td>None</td>\n",
       "      <td>\"Matthews, Steven\" &lt;steven.matthews@ubspw.com&gt;...</td>\n",
       "      <td>Allen, Phillip K. &lt;/O=ENRON/OU=NA/CN=RECIPIENT...</td>\n",
       "      <td></td>\n",
       "      <td></td>\n",
       "      <td>Phillip Allen Muni Bond Proposal.xls</td>\n",
       "      <td>\\nPhillip,\\n\\nThis is the proposal for the 1mm...</td>\n",
       "    </tr>\n",
       "  </tbody>\n",
       "</table>\n",
       "</div>"
      ],
      "text/plain": [
       "                             Path  \\\n",
       "0  enron/maildir/allen-p/inbox/5.   \n",
       "\n",
       "                                     Message-ID  \\\n",
       "0  <2952100.1075855377529.JavaMail.evans@thyme>   \n",
       "\n",
       "                                    Date                       From  \\\n",
       "0  Mon, 17 Dec 2001 08:40:38 -0800 (PST)  steven.matthews@ubspw.com   \n",
       "\n",
       "                   To    Cc   Bcc  \\\n",
       "0  k..allen@enron.com  None  None   \n",
       "\n",
       "                                              X-From  \\\n",
       "0  \"Matthews, Steven\" <steven.matthews@ubspw.com>...   \n",
       "\n",
       "                                                X-To X-cc X-bcc  \\\n",
       "0  Allen, Phillip K. </O=ENRON/OU=NA/CN=RECIPIENT...              \n",
       "\n",
       "                                Subject  \\\n",
       "0  Phillip Allen Muni Bond Proposal.xls   \n",
       "\n",
       "                                             Message  \n",
       "0  \\nPhillip,\\n\\nThis is the proposal for the 1mm...  "
      ]
     },
     "execution_count": 26,
     "metadata": {},
     "output_type": "execute_result"
    }
   ],
   "source": [
    "df = df.append(record, ignore_index=True)\n",
    "df.head()"
   ]
  },
  {
   "cell_type": "code",
   "execution_count": null,
   "metadata": {},
   "outputs": [],
   "source": []
  }
 ],
 "metadata": {
  "kernelspec": {
   "display_name": "Python 3",
   "language": "python",
   "name": "python3"
  },
  "language_info": {
   "codemirror_mode": {
    "name": "ipython",
    "version": 3
   },
   "file_extension": ".py",
   "mimetype": "text/x-python",
   "name": "python",
   "nbconvert_exporter": "python",
   "pygments_lexer": "ipython3",
   "version": "3.7.3"
  }
 },
 "nbformat": 4,
 "nbformat_minor": 2
}
