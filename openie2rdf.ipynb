{
 "metadata": {
  "language_info": {
   "codemirror_mode": {
    "name": "ipython",
    "version": 3
   },
   "file_extension": ".py",
   "mimetype": "text/x-python",
   "name": "python",
   "nbconvert_exporter": "python",
   "pygments_lexer": "ipython3",
   "version": "3.7.7-final"
  },
  "orig_nbformat": 2,
  "kernelspec": {
   "name": "python3",
   "display_name": "Python 3",
   "language": "python"
  }
 },
 "nbformat": 4,
 "nbformat_minor": 2,
 "cells": [
  {
   "cell_type": "code",
   "execution_count": 1,
   "metadata": {},
   "outputs": [],
   "source": [
    "import os, sys, email, datetime, pprint, re, time, html, pickle\n",
    "import numpy as np\n",
    "import pandas as pd\n",
    "import nltk\n",
    "from nltk.metrics import *\n",
    "\n",
    "pd.options.display.max_colwidth = 1000"
   ]
  },
  {
   "cell_type": "code",
   "execution_count": 2,
   "metadata": {},
   "outputs": [],
   "source": [
    "### 自然言語処理\n",
    "import spacy \n",
    "nlp = spacy.load(\"en_core_web_sm\")\n",
    "\n",
    "from spacy.pipeline import Sentencizer\n",
    "sentencizer = Sentencizer()\n",
    "nlp.add_pipe(sentencizer)"
   ]
  },
  {
   "cell_type": "code",
   "execution_count": 3,
   "metadata": {},
   "outputs": [],
   "source": [
    "with open('/Users/taroaso/myprojects/OpenIE/trec/output/12/tagme.pickle', mode=\"rb\") as f:\n",
    "    tagme_result = pickle.load(f)\n",
    "\n",
    "with open('/Users/taroaso/myprojects/OpenIE/trec/output/12/ner.pickle', mode=\"rb\") as f:\n",
    "    ner_result = pickle.load(f)\n",
    "\n",
    "with open('/Users/taroaso/myprojects/OpenIE/trec/output/type_translation.pickle', mode=\"rb\") as f:\n",
    "    translation = pickle.load(f)\n",
    "\n",
    "with open('/Users/taroaso/myprojects/OpenIE/trec/output/12/openie_result.pickle', mode=\"rb\") as f:\n",
    "    openie = pickle.load(f)"
   ]
  },
  {
   "cell_type": "code",
   "execution_count": 4,
   "metadata": {},
   "outputs": [],
   "source": [
    "from rdflib import Graph, Literal, RDF, URIRef, BNode, Namespace\n",
    "from rdflib.namespace import CSVW, DC, DCAT, DCTERMS, DOAP, FOAF, ODRL2, ORG, OWL, \\\n",
    "                           PROF, PROV, RDF, RDFS, SDO, SH, SKOS, SOSA, SSN, TIME, \\\n",
    "                           VOID, XMLNS, XSD\n",
    "BASE = Namespace(\"http://www.kde.cs.tsukuba.ac.jp/~aso/w3c-email/\")\n",
    "EMAIL = Namespace(\"http://www.w3.org/2000/10/swap/pim/email#\")\n",
    "OLIA = Namespace(\"http://purl.org/olia/olia.owl#\")\n",
    "NERD = Namespace(\"http://nerd.eurecom.fr/ontology#\")\n",
    "NIF = Namespace(\"http://persistence.uni-leipzig.org/nlp2rdf/ontologies/nif-core#\")\n",
    "ITSRDF = Namespace(\"https://www.w3.org/2005/11/its/rdf#\")\n",
    "WD = Namespace(\"http://www.wikidata.org/entity/\")\n",
    "MARL = Namespace(\"http://www.gsi.dit.upm.es/ontologies/marl/ns#\")"
   ]
  },
  {
   "cell_type": "code",
   "execution_count": 5,
   "metadata": {},
   "outputs": [],
   "source": [
    "# RDFグラフ\n",
    "g = Graph()\n",
    "g.bind('',BASE)\n",
    "g.bind('schema',SDO)\n",
    "g.bind('foaf',FOAF)\n",
    "g.bind('owl',OWL)\n",
    "g.bind('rdf',RDF)\n",
    "g.bind('rdfs',RDFS)\n",
    "g.bind('olia',OLIA)\n",
    "g.bind('nerd',NERD)\n",
    "g.bind('nif',NIF)\n",
    "g.bind('itsrdf',ITSRDF)\n",
    "g.bind('wd',WD)\n",
    "g.bind('marl',MARL)"
   ]
  },
  {
   "cell_type": "code",
   "execution_count": 6,
   "metadata": {},
   "outputs": [],
   "source": [
    "def openie2rdf(g,openie_result,tagme_result): #g:RDFグラフ, openie_resultの結果，tagme_result:tagmeの結果\n",
    "    g = g\n",
    "    openie = openie_result\n",
    "    tagme_result = tagme_result\n",
    "    url_pattern = re.compile(r'^(https?://)[\\w/:%#\\$&\\?\\(\\)~\\.=\\+\\-]+')\n",
    "    email_pattern = re.compile(r'[\\w\\-._]+@[\\w\\-._]+\\.[A-Za-z]+')\n",
    "    # メールごとにopenIEの結果を取り出す\n",
    "    for uid, results in openie.items():\n",
    "        if type(uid) != str: # uidがNoneの場合がある\n",
    "            pass\n",
    "        else:\n",
    "            #URI参照される表記に変換する\n",
    "            emailmessage = re.sub(r'[^a-zA-Z_0-9]','_',uid)\n",
    "            # openIEの結果とエンティティの抽出結果があるときのみ,処理を継続する\n",
    "            if results == [] or tagme_result[uid] is None:\n",
    "                pass\n",
    "            else:\n",
    "                # メールの文ごとにopenIEの結果を取り出す\n",
    "                for result in results:\n",
    "                    sentence = result['sentence']\n",
    "                    sent_start = result['start']\n",
    "                    facts = result['facts']\n",
    "                    # トリプルを取り出す\n",
    "                    for fact in facts:\n",
    "                        s = fact['subject']\n",
    "                        p = fact['predicate']\n",
    "                        p = re.sub(r'[^a-zA-Z_0-9]','_',p)\n",
    "                        o = fact['object']\n",
    "                        # subjectとobjectのオフセットを取得する\n",
    "                        s_match = re.search(re.escape(s),sentence)\n",
    "                        o_match = re.search(re.escape(o),sentence)\n",
    "                        if s_match is None: # sがsentenceにマッチしない文字列なら次のfactへ\n",
    "                            pass\n",
    "                        else: # sがsentenceにマッチする場合, RDF化を進める\n",
    "                            s_start = s_match.start() + sent_start\n",
    "                            s_end = s_match.end() + sent_start\n",
    "                            statementId = BNode()\n",
    "                            # tagmeのアノテーション結果を走査する\n",
    "                            for ann in tagme_result[uid]['annotations']:         \n",
    "                                # トリプルの主語とspot, start, endが一致する場合，トリプル（主語，メンション，検出されたスポットのリソース）作成\n",
    "                                if s == ann['spot'] and s_start == ann['start'] and s_end == ann['end'] and ann['link_probability'] >= 0.3:\n",
    "                                    #URI参照される表記に変換する\n",
    "                                    s = re.sub(r'[^a-zA-Z_0-9]','_',s)\n",
    "                                    offset_based_string = emailmessage + '#offset_' + str(s_start) + '_' + str(s_end)\n",
    "                                    if o_match is None:\n",
    "                                        if url_pattern.search(o):\n",
    "                                            o = URIRef(o)\n",
    "                                            g.add((BASE[s],BASE[p],o))\n",
    "                                            g.add((statementId, RDF.type, RDF.Statement))\n",
    "                                            g.add((statementId, RDF.subject,BASE[s]))\n",
    "                                            g.add((statementId, RDF.predicate, BASE[p]))\n",
    "                                            g.add((statementId, RDF.object, o))\n",
    "                                            g.add((statementId, MARL.describesObject, BASE[offset_based_string]))\n",
    "                                        elif email_pattern.search(o):\n",
    "                                            o = 'mailto:'+ o\n",
    "                                            o = URIRef(o)\n",
    "                                            g.add((BASE[s],BASE[p],o))\n",
    "                                            g.add((statementId, RDF.type, RDF.Statement))\n",
    "                                            g.add((statementId, RDF.subject,BASE[s]))\n",
    "                                            g.add((statementId, RDF.predicate, BASE[p]))\n",
    "                                            g.add((statementId, RDF.object, o))\n",
    "                                            g.add((statementId, MARL.describesObject, BASE[offset_based_string]))\n",
    "                                        else:\n",
    "                                            # o = re.sub(r'[^a-zA-Z_0-9]','_',o)\n",
    "                                            g.add((BASE[s],BASE[p],Literal(o,lang='en')))\n",
    "                                            g.add((statementId, RDF.type, RDF.Statement))\n",
    "                                            g.add((statementId, RDF.subject,BASE[s]))\n",
    "                                            g.add((statementId, RDF.predicate, BASE[p]))\n",
    "                                            g.add((statementId, RDF.object, Literal(o,lang='en')))\n",
    "                                            g.add((statementId, MARL.describesObject, BASE[offset_based_string]))\n",
    "                                    else:\n",
    "                                        o_start = o_match.start() + sent_start\n",
    "                                        o_end = o_match.end() + sent_start\n",
    "                                        resource_check = False\n",
    "                                        # tagmeのアノテーション結果を走査する\n",
    "                                        for ann in tagme_result[uid]['annotations']:\n",
    "                                            #　トリプルの目的語と一致するspotがある場合，（目的語，メンション，検出されたスポットのリソース）作成\n",
    "                                            if o == ann['spot'] and o_start == ann['start'] and o_end == ann['end'] and ann['link_probability'] >= 0.3:\n",
    "                                                o = re.sub(r'[^a-zA-Z_0-9]','_',o)\n",
    "                                                offset_based_string = emailmessage + '#offset_' + str(o_start) + '_' + str(o_end)\n",
    "                                                g.add((BASE[s],BASE[p],BASE[o]))\n",
    "                                                g.add((statementId, RDF.type, RDF.Statement))\n",
    "                                                g.add((statementId, RDF.subject,BASE[s]))\n",
    "                                                g.add((statementId, RDF.predicate, BASE[p]))\n",
    "                                                g.add((statementId, RDF.object, BASE[o]))\n",
    "                                                g.add((statementId, MARL.describesObject, BASE[offset_based_string]))\n",
    "                                                resource_check = True\n",
    "                                        #openIEのトリプル作成\n",
    "                                        if resource_check == True:\n",
    "                                            continue\n",
    "                                        else:\n",
    "                                            if url_pattern.search(o):\n",
    "                                                o = URIRef(o)\n",
    "                                                g.add((BASE[s],BASE[p],o))\n",
    "                                                g.add((statementId, RDF.type, RDF.Statement))\n",
    "                                                g.add((statementId, RDF.subject,BASE[s]))\n",
    "                                                g.add((statementId, RDF.predicate, BASE[p]))\n",
    "                                                g.add((statementId, RDF.object, o))\n",
    "                                                g.add((statementId, MARL.describesObject, BASE[offset_based_string]))\n",
    "                                            elif email_pattern.search(o):\n",
    "                                                o = 'mailto:'+ o\n",
    "                                                o = URIRef(o)\n",
    "                                                g.add((BASE[s],BASE[p],o))                                      \n",
    "                                                g.add((statementId, RDF.type, RDF.Statement))\n",
    "                                                g.add((statementId, RDF.subject,BASE[s]))\n",
    "                                                g.add((statementId, RDF.predicate, BASE[p]))\n",
    "                                                g.add((statementId, RDF.object, o))\n",
    "                                                g.add((statementId, MARL.describesObject, BASE[offset_based_string]))\n",
    "                                            else:\n",
    "                                                # o = re.sub(r'[^a-zA-Z_0-9]','_',o)\n",
    "                                                g.add((BASE[s],BASE[p],Literal(o,lang='en')))\n",
    "                                                g.add((statementId, RDF.type, RDF.Statement))\n",
    "                                                g.add((statementId, RDF.subject,BASE[s]))\n",
    "                                                g.add((statementId, RDF.predicate, BASE[p]))\n",
    "                                                g.add((statementId, RDF.object, Literal(o,lang='en')))\n",
    "                                                g.add((statementId, MARL.describesObject, BASE[offset_based_string]))"
   ]
  },
  {
   "cell_type": "code",
   "execution_count": 7,
   "metadata": {},
   "outputs": [],
   "source": [
    "openie2rdf(g,openie,tagme_result)"
   ]
  },
  {
   "cell_type": "code",
   "execution_count": 33,
   "metadata": {},
   "outputs": [],
   "source": [
    "# print(g.serialize(format=\"turtle\").decode(\"utf-8\"))"
   ]
  },
  {
   "cell_type": "code",
   "execution_count": 8,
   "metadata": {},
   "outputs": [],
   "source": [
    "# turtle形式でファイル出力\n",
    "g.serialize(destination='/Users/taroaso/myprojects/OpenIE/trec/output/12/oie_triples.ttl', format='turtle')"
   ]
  },
  {
   "cell_type": "code",
   "execution_count": 9,
   "metadata": {},
   "outputs": [
    {
     "output_type": "execute_result",
     "data": {
      "text/plain": [
       "1739"
      ]
     },
     "metadata": {},
     "execution_count": 9
    }
   ],
   "source": [
    "len(g)"
   ]
  },
  {
   "cell_type": "code",
   "execution_count": null,
   "metadata": {},
   "outputs": [],
   "source": []
  }
 ]
}