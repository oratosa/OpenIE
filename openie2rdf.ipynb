{
 "metadata": {
  "language_info": {
   "codemirror_mode": {
    "name": "ipython",
    "version": 3
   },
   "file_extension": ".py",
   "mimetype": "text/x-python",
   "name": "python",
   "nbconvert_exporter": "python",
   "pygments_lexer": "ipython3",
   "version": "3.7.7-final"
  },
  "orig_nbformat": 2,
  "kernelspec": {
   "name": "python3",
   "display_name": "Python 3"
  }
 },
 "nbformat": 4,
 "nbformat_minor": 2,
 "cells": [
  {
   "cell_type": "code",
   "execution_count": 68,
   "metadata": {},
   "outputs": [],
   "source": [
    "import os, sys, email, datetime, pprint, re, time, html, pickle\n",
    "import numpy as np\n",
    "import pandas as pd\n",
    "import nltk\n",
    "from nltk.metrics import *\n",
    "\n",
    "pd.options.display.max_colwidth = 1000"
   ]
  },
  {
   "cell_type": "code",
   "execution_count": 69,
   "metadata": {},
   "outputs": [],
   "source": [
    "### 自然言語処理\n",
    "import spacy \n",
    "nlp = spacy.load(\"en_core_web_sm\")\n",
    "\n",
    "from spacy.pipeline import Sentencizer\n",
    "sentencizer = Sentencizer()\n",
    "nlp.add_pipe(sentencizer)"
   ]
  },
  {
   "cell_type": "code",
   "execution_count": 70,
   "metadata": {},
   "outputs": [],
   "source": [
    "with open('/Users/taroaso/myprojects/OpenIE/trec/output/tagme.pickle', mode=\"rb\") as f:\n",
    "    tagme_result = pickle.load(f)\n",
    "\n",
    "with open('/Users/taroaso/myprojects/OpenIE/trec/output/ner.pickle', mode=\"rb\") as f:\n",
    "    ner_result = pickle.load(f)\n",
    "\n",
    "with open('/Users/taroaso/myprojects/OpenIE/trec/output/type_translation.pickle', mode=\"rb\") as f:\n",
    "    translation = pickle.load(f)\n",
    "\n",
    "with open('/Users/taroaso/myprojects/OpenIE/trec/output/openie_result.pickle', mode=\"rb\") as f:\n",
    "    openie = pickle.load(f)"
   ]
  },
  {
   "cell_type": "code",
   "execution_count": 91,
   "metadata": {},
   "outputs": [],
   "source": [
    "from rdflib import Graph, Literal, RDF, URIRef, BNode, Namespace\n",
    "from rdflib.namespace import CSVW, DC, DCAT, DCTERMS, DOAP, FOAF, ODRL2, ORG, OWL, \\\n",
    "                           PROF, PROV, RDF, RDFS, SDO, SH, SKOS, SOSA, SSN, TIME, \\\n",
    "                           VOID, XMLNS, XSD\n",
    "BASE = Namespace(\"http://www.kde.cs.tsukuba.ac.jp/~aso/w3c-email/\")\n",
    "EMAIL = Namespace(\"http://www.w3.org/2000/10/swap/pim/email#\")\n",
    "OLIA = Namespace(\"http://purl.org/olia/olia.owl#\")\n",
    "NERD = Namespace(\"http://nerd.eurecom.fr/ontology#\")\n",
    "NIF = Namespace(\"http://persistence.uni-leipzig.org/nlp2rdf/ontologies/nif-core#\")\n",
    "ITSRDF = Namespace(\"https://www.w3.org/2005/11/its/rdf#\")\n",
    "WD = Namespace(\"http://www.wikidata.org/entity/\")"
   ]
  },
  {
   "cell_type": "code",
   "execution_count": 92,
   "metadata": {},
   "outputs": [],
   "source": [
    "# RDFグラフ\n",
    "g = Graph()\n",
    "g.bind('',BASE)\n",
    "g.bind('schema',SDO)\n",
    "g.bind('foaf',FOAF)\n",
    "g.bind('owl',OWL)\n",
    "g.bind('rdf',RDF)\n",
    "g.bind('rdfs',RDFS)\n",
    "g.bind('olia',OLIA)\n",
    "g.bind('nerd',NERD)\n",
    "g.bind('nif',NIF)\n",
    "g.bind('itsrdf',ITSRDF)\n",
    "g.bind('wd',WD)"
   ]
  },
  {
   "cell_type": "code",
   "execution_count": 94,
   "metadata": {},
   "outputs": [],
   "source": [
    "def openie2rdf(g,openie_result,tagme_result): #g:RDFグラフ, openie_resultの結果，tagme_result:tagmeの結果\n",
    "    g = g\n",
    "    openie = openie_result\n",
    "    tagme_result = tagme_result\n",
    "    url_pattern = re.compile(r'https?://[\\w/:%#\\$&\\?\\(\\)~\\.=\\+\\-]+')\n",
    "    email_pattern = re.compile(r'[\\w\\-._]+@[\\w\\-._]+\\.[A-Za-z]+')\n",
    "    # メールごとにopenIEの結果を取り出す\n",
    "    for uid, results in openie.items():\n",
    "        #URI参照される表記に変換する\n",
    "        emailmessage = re.sub(r'[^a-zA-Z_0-9]','_',uid)\n",
    "        # openIEの結果とエンティティの抽出結果があるときのみ,処理を継続する\n",
    "        if results == [] or tagme_result[uid] is None:\n",
    "            pass\n",
    "        else:\n",
    "            # メールの文ごとにopenIEの結果を取り出す\n",
    "            for result in results:\n",
    "                sentence = result['sentence']\n",
    "                sent_start = result['start']\n",
    "                facts = result['facts']\n",
    "                # トリプルを取り出す\n",
    "                for fact in facts:\n",
    "                    s = fact['subject']\n",
    "                    p = fact['predicate']\n",
    "                    p = re.sub(r'[^a-zA-Z_0-9]','_',p)\n",
    "                    o = fact['object']\n",
    "                    # subjectとobjectのオフセットを取得する\n",
    "                    s_match = re.search(re.escape(s),sentence)\n",
    "                    o_match = re.search(re.escape(o),sentence)\n",
    "                    if s_match is None: # sがsentenceにマッチしない文字列なら次のfactへ\n",
    "                        pass\n",
    "                    else: # sがsentenceにマッチする場合, RDF化を進める\n",
    "                        s_start = s_match.start() + sent_start\n",
    "                        s_end = s_match.end() + sent_start\n",
    "                        # tagmeのアノテーション結果を走査する\n",
    "                        for ann in tagme_result[uid]['annotations']:         \n",
    "                            # トリプルの主語とspot, start, endが一致する場合，トリプル（主語，メンション，検出されたスポットのリソース）作成\n",
    "                            if s == ann['spot'] and s_start == ann['start'] and s_end == ann['end'] and ann['link_probability'] >= 0.3:\n",
    "                                #URI参照される表記に変換する\n",
    "                                s = re.sub(r'[^a-zA-Z_0-9]','_',s)\n",
    "                                offset_based_string = emailmessage + '#offset_' + str(s_start) + '_' + str(s_end)\n",
    "                                g.add((BASE[s],SDO.mentions,BASE[offset_based_string]))\n",
    "                                if o_match is None:\n",
    "                                    if url_pattern.search(o):\n",
    "                                        o = URIRef(o)\n",
    "                                        g.add((BASE[s],BASE[p],o))\n",
    "                                    elif email_pattern.search(o):\n",
    "                                        o = 'mailto:'+ o\n",
    "                                        o = URIRef(o)\n",
    "                                        g.add((BASE[s],BASE[p],o))                                        \n",
    "                                    else:\n",
    "                                        o = re.sub(r'[^a-zA-Z_0-9]','_',o)\n",
    "                                        oie_triples.append((s,p,o))\n",
    "                                        g.add((BASE[s],BASE[p],Literal(o,lang='en')))\n",
    "                                else:\n",
    "                                    o_start = o_match.start() + sent_start\n",
    "                                    o_end = o_match.end() + sent_start\n",
    "                                    resource_check = False\n",
    "                                    # tagmeのアノテーション結果を走査する\n",
    "                                    for ann in tagme_result[uid]['annotations']:\n",
    "                                        #　トリプルの目的語と一致するspotがある場合，（目的語，メンション，検出されたスポットのリソース）作成\n",
    "                                        if o == ann['spot'] and o_start == ann['start'] and o_end == ann['end'] and ann['link_probability'] >= 0.3:\n",
    "                                            o = ':' + re.sub(r'[^a-zA-Z_0-9]','_',o)\n",
    "                                            offset_based_string = emailmessage + '#offset_' + str(o_start) + '_' + str(o_end)\n",
    "                                            g.add((BASE[o],SDO.mentions,BASE[offset_based_string]))\n",
    "                                            g.add((BASE[s],BASE[p],BASE[o]))\n",
    "                                            resource_check = True\n",
    "                                    #openIEのトリプル作成\n",
    "                                    if resource_check == True:\n",
    "                                        continue\n",
    "                                    else:\n",
    "                                        if url_pattern.search(o):\n",
    "                                            o = URIRef(o)\n",
    "                                            g.add((BASE[s],BASE[p],o))\n",
    "                                        elif email_pattern.search(o):\n",
    "                                            o = 'mailto:'+ o\n",
    "                                            o = URIRef(o)\n",
    "                                            g.add((BASE[s],BASE[p],o))                                        \n",
    "                                        else:\n",
    "                                            o = re.sub(r'[^a-zA-Z_0-9]','_',o)\n",
    "                                            oie_triples.append((s,p,o))\n",
    "                                            g.add((BASE[s],BASE[p],Literal(o,lang='en')))"
   ]
  },
  {
   "cell_type": "code",
   "execution_count": 95,
   "metadata": {},
   "outputs": [],
   "source": [
    "openie2rdf(g,openie,tagme_result)"
   ]
  },
  {
   "cell_type": "code",
   "execution_count": 96,
   "metadata": {},
   "outputs": [
    {
     "output_type": "stream",
     "name": "stdout",
     "text": [
      "@prefix : <http://www.kde.cs.tsukuba.ac.jp/~aso/w3c-email/> .\n@prefix schema: <https://schema.org/> .\n\n:ALT_text :be \"W3C_Projects_Status\"@en ;\n    :is \"W3C\"@en ;\n    :is_W3C \"used_to_frame_signature_section_of_page\"@en ;\n    :is_W3C_logo_if_browser_is_Lynx \"used_to_frame_signature_section_of_page\"@en ;\n    :is_better \"W3C\"@en ;\n    :is_defined_as \"Jump_to_MD_TAP\"@en ;\n    schema:mentions <http://www.kde.cs.tsukuba.ac.jp/~aso/w3c-email/004f01bf7d86_e2deb8c0_1aac66a7_151877#offset_1633_1641>,\n        <http://www.kde.cs.tsukuba.ac.jp/~aso/w3c-email/199706091256_IAA13556_access1_digex_net#offset_1177_1185>,\n        <http://www.kde.cs.tsukuba.ac.jp/~aso/w3c-email/199706091354_PAA26220_www47_inria_fr#offset_67_75>,\n        <http://www.kde.cs.tsukuba.ac.jp/~aso/w3c-email/199706091354_PAA26220_www47_inria_fr#offset_753_761>,\n        <http://www.kde.cs.tsukuba.ac.jp/~aso/w3c-email/4_2_2_20000222145727_00cb4b40_pop3_concentric_net#offset_423_431> .\n\n:AltaVista :had_released \"super_lean_search_service\"@en ;\n    :had_released_super_lean_search_service_along_lines_of <http://www.kde.cs.tsukuba.ac.jp/~aso/w3c-email/:google> ;\n    schema:mentions <http://www.kde.cs.tsukuba.ac.jp/~aso/w3c-email/Pine_LNX_4_20_0005271622000_9024_100000_tux_w3_org#offset_11_20> .\n\n:Altavista :have_obfuscated \"layouts\"@en ;\n    :is \"spinoff_company\"@en ;\n    :was \"Member\"@en ;\n    schema:mentions <http://www.kde.cs.tsukuba.ac.jp/~aso/w3c-email/200203042205_g24M5oi08036_djwhome_demon_co_uk#offset_487_496>,\n        <http://www.kde.cs.tsukuba.ac.jp/~aso/w3c-email/3C2B79E1_5050003_w3_org#offset_778_787> .\n\n:Batik :display \"SVG_animations\"@en ;\n    :display_SVG_animations_as \"yet\"@en ;\n    schema:mentions <http://www.kde.cs.tsukuba.ac.jp/~aso/w3c-email/008701c07e6a_20a21460_4cdc93c3_z5n9x1#offset_1126_1131> .\n\n:Benjamin_Franklin :is \"Richard__s_Almanack\"@en ;\n    schema:mentions <http://www.kde.cs.tsukuba.ac.jp/~aso/w3c-email/4_2_2_20000222145727_00cb4b40_pop3_concentric_net#offset_2870_2887> .\n\n:Berkeley_Square :is \"BS8_1HH\"@en ;\n    schema:mentions <http://www.kde.cs.tsukuba.ac.jp/~aso/w3c-email/EXECMAIL_1020912162940_H_ilrtcoruscant_bristol_ac_uk#offset_2484_2499> .\n\n:Bristol :is \"BS8_1HH\"@en ;\n    schema:mentions <http://www.kde.cs.tsukuba.ac.jp/~aso/w3c-email/EXECMAIL_1020912162940_H_ilrtcoruscant_bristol_ac_uk#offset_2469_2476> .\n\n:CSS :allows_authors_to_get \"reasonably_reliable_presentation_across_variety_of_browsers\"@en ;\n    :is \"easiest_way_QUANT_O_1_straightforward_things\"@en,\n        \"most_transportable_way_QUANT_O_1_straightforward_things\"@en ;\n    :is_easiest_way_to_customise \"presentation_QUANT_O_1_straightforward_things\"@en ;\n    :is_most_transportable_way_to_customise \"presentation_QUANT_O_1_straightforward_things\"@en ;\n    schema:mentions <http://www.kde.cs.tsukuba.ac.jp/~aso/w3c-email/007f01c33285_86b23150_6401a8c0_handsontech#offset_441_444>,\n        <http://www.kde.cs.tsukuba.ac.jp/~aso/w3c-email/007f01c33285_86b23150_6401a8c0_handsontech#offset_947_950>,\n        <http://www.kde.cs.tsukuba.ac.jp/~aso/w3c-email/6A6BA753_9E78_11D7_83DE_000A958826AA_sidar_org#offset_27_30>,\n        <http://www.kde.cs.tsukuba.ac.jp/~aso/w3c-email/6A6BA753_9E78_11D7_83DE_000A958826AA_sidar_org#offset_540_543> .\n\n:Chris_Gibson :wrote \"Dear_Sir_Madam\"@en ;\n    schema:mentions <http://www.kde.cs.tsukuba.ac.jp/~aso/w3c-email/39C24DED_8C874887_w3_org#offset_37_49> .\n\n:Colin_Newman :is \"vice_president_for_marketing_at_Cape\"@en ;\n    schema:mentions <http://www.kde.cs.tsukuba.ac.jp/~aso/w3c-email/a05111a05b98c51692631__192_168_1_100_#offset_904_916> .\n\n:Compaq :donated \"server\"@en ;\n    :donated_server_on \"search_pages\"@en ;\n    schema:mentions <http://www.kde.cs.tsukuba.ac.jp/~aso/w3c-email/3C2B79E1_5050003_w3_org#offset_711_717> .\n\n:Css :is_for \"presentation\"@en ;\n    schema:mentions <http://www.kde.cs.tsukuba.ac.jp/~aso/w3c-email/000601c33271_ff1056e0_6401a8c0_handsontech#offset_544_547>,\n        <http://www.kde.cs.tsukuba.ac.jp/~aso/w3c-email/007a01c33285_4468e4b0_6401a8c0_handsontech#offset_2021_2024>,\n        <http://www.kde.cs.tsukuba.ac.jp/~aso/w3c-email/C3927CD4_9E77_11D7_83DE_000A958826AA_sidar_org#offset_1194_1197> .\n\n:DIDCOT :is \"UK_WWW\"@en ;\n    schema:mentions <http://www.kde.cs.tsukuba.ac.jp/~aso/w3c-email/350DC7048372D31197F200902773DF4C0294DF25_exchange11_rl_ac_uk#offset_223_229> .\n\n:David_Martin :wrote \"10_51\"@en ;\n    :wrote_10_51 \"AM_QUANT_O_1\"@en ;\n    schema:mentions <http://www.kde.cs.tsukuba.ac.jp/~aso/w3c-email/5_2_0_9_2_20040125110308_04b83e40_mail_inf_ed_ac_uk_993#offset_30_42> .\n\n:Google :Gets_Tough_er_on_Spam_By \"Christine_Churchill\"@en ;\n    :be \"little_slow_north\"@en ;\n    :be_establish \"popularity\"@en ;\n    :be_little_slow_north_of \"border\"@en ;\n    :carries \"conditions\"@en,\n        \"terms\"@en ;\n    :carries_conditions_for \"use\"@en ;\n    :carries_terms_for \"use\"@en ;\n    :consider \"link_text\"@en ;\n    :consider_link_text_as \"endorsement_of_relevancy_of_linked_document\"@en ;\n    :do \"job\"@en ;\n    :do_better \"job\"@en ;\n    :do_job \"also_locally\"@en,\n        \"even_faster\"@en ;\n    :do_job_in \"most_cases\"@en ;\n    :fail_as \"company\"@en ;\n    :finds \"it\"@en ;\n    :found \"RFC_1939\"@en,\n        \"RFC_QUANT_O_1\"@en ;\n    :gives_us \"effective_operable_search_facility\"@en ;\n    :goes_about \"doing_it\"@en ;\n    :has \"award_winning_search_services_to_site\"@en,\n        \"great_product\"@en,\n        \"user_interface\"@en ;\n    :has_had \"clean_layouts\"@en ;\n    :has_lost \"QUANT_O_1__s_of_thousands_of_pages\"@en ;\n    :has_lost_QUANT_R_1__s_of_thousands_of_pages_as_result_of \"QUANT_O_1_major_issues\"@en ;\n    :has_lost_QUANT_R_1__s_of_thousands_of_pages_from \"index\"@en ;\n    :has_scanned \"QUANT_O_1_used_car_marketplaces\"@en ;\n    :is <http://www.kde.cs.tsukuba.ac.jp/~aso/w3c-email/:user_agent>,\n        \"QUANT_O_1_pct_issue\"@en,\n        \"_\"@en,\n        \"accessible\"@en,\n        \"basis\"@en,\n        \"browser\"@en,\n        \"fantastic\"@en,\n        \"private_for_profit_organization\"@en,\n        \"provider\"@en,\n        \"search_engine\"@en,\n        \"worrisome\"@en ;\n    :is_QUANT_R_1 \"accessible\"@en ;\n    :is_accessible \"today\"@en ;\n    :is_accessible_than \"most_of_millions_different_local_search_engines_in_use\"@en ;\n    :is_basis_for \"identifying_candidate_entries_for_lists_in_Policy_page\"@en,\n        \"identifying_candidate_entries_for_lists_in_WAI_Legal\"@en ;\n    :is_fantastic \"way_better_than_everything_else_out_there\"@en ;\n    :is_more \"accessible\"@en ;\n    :is_provider_of \"service\"@en ;\n    :my_work_as \"it_may_a_few_weeks_from_now\"@en ;\n    :my_work_currently_as \"it_may_a_few_weeks_from_now\"@en ;\n    :offer \"pay_service\"@en ;\n    :provides_plain_text_version_of \"document\"@en ;\n    :received \"request_to_start_sending_News\"@en ;\n    :received__RSB_ \"request_to_start_sending_Web\"@en ;\n    :start \"charging_excessively\"@en ;\n    :uses <http://www.kde.cs.tsukuba.ac.jp/~aso/w3c-email/:text_advertising>,\n        \"referrals\"@en ;\n    :uses_referrals_to_establish \"popularity\"@en ;\n    schema:mentions <http://www.kde.cs.tsukuba.ac.jp/~aso/w3c-email/000001c4264e_f6dab750_440bc650_tversdata#offset_449_455>,\n        <http://www.kde.cs.tsukuba.ac.jp/~aso/w3c-email/000001c4264e_f6dab750_440bc650_tversdata#offset_885_891>,\n        <http://www.kde.cs.tsukuba.ac.jp/~aso/w3c-email/000801c33104_a8ee8520_6401a8c0_handsontech#offset_380_386>,\n        <http://www.kde.cs.tsukuba.ac.jp/~aso/w3c-email/001601c4269f_6b019d60_440bc650_tversdata#offset_220_226>,\n        <http://www.kde.cs.tsukuba.ac.jp/~aso/w3c-email/001601c4269f_6b019d60_440bc650_tversdata#offset_255_261>,\n        <http://www.kde.cs.tsukuba.ac.jp/~aso/w3c-email/003701c0934a_a8849ca0_70a8243e_rs#offset_68_74>,\n        <http://www.kde.cs.tsukuba.ac.jp/~aso/w3c-email/00a101c426a9_3f565ed0_476aa8c0_lpfhff#offset_687_693>,\n        <http://www.kde.cs.tsukuba.ac.jp/~aso/w3c-email/00a701c215f5_1ea62150_0500a8c0_RJCHETWYND#offset_1315_1321>,\n        <http://www.kde.cs.tsukuba.ac.jp/~aso/w3c-email/04c101c3883a_9106f9a0_0a14a8c0_Godfrey#offset_0_6>,\n        <http://www.kde.cs.tsukuba.ac.jp/~aso/w3c-email/085d01c3b9b6_80d00a10_6401a8c0_RoseRock_com#offset_654_660>,\n        <http://www.kde.cs.tsukuba.ac.jp/~aso/w3c-email/085d01c3b9b6_80d00a10_6401a8c0_RoseRock_com#offset_750_756>,\n        <http://www.kde.cs.tsukuba.ac.jp/~aso/w3c-email/0cce01c23fb9_918c5cf0_2402a8c0_vaio#offset_706_712>,\n        <http://www.kde.cs.tsukuba.ac.jp/~aso/w3c-email/1797_68_232_129_117_1082429690_squirrel_www_stevendale_com#offset_775_781>,\n        <http://www.kde.cs.tsukuba.ac.jp/~aso/w3c-email/1797_68_232_129_117_1082429690_squirrel_www_stevendale_com#offset_942_948>,\n        <http://www.kde.cs.tsukuba.ac.jp/~aso/w3c-email/1820_68_232_129_117_1082431879_squirrel_www_stevendale_com#offset_1148_1154>,\n        <http://www.kde.cs.tsukuba.ac.jp/~aso/w3c-email/1820_68_232_129_117_1082431879_squirrel_www_stevendale_com#offset_1318_1324>,\n        <http://www.kde.cs.tsukuba.ac.jp/~aso/w3c-email/1820_68_232_129_117_1082431879_squirrel_www_stevendale_com#offset_462_468>,\n        <http://www.kde.cs.tsukuba.ac.jp/~aso/w3c-email/200102101407_f1AE79o20047_djwhome_demon_co_uk#offset_1_7>,\n        <http://www.kde.cs.tsukuba.ac.jp/~aso/w3c-email/20010708135721_A14680_impressive_net#offset_1770_1776>,\n        <http://www.kde.cs.tsukuba.ac.jp/~aso/w3c-email/200203042205_g24M5oi08036_djwhome_demon_co_uk#offset_370_376>,\n        <http://www.kde.cs.tsukuba.ac.jp/~aso/w3c-email/200206170611_g5H6BUW03367_djwhome_demon_co_uk#offset_671_677>,\n        <http://www.kde.cs.tsukuba.ac.jp/~aso/w3c-email/20031024081705_GA25611_impressive_net#offset_1686_1692>,\n        <http://www.kde.cs.tsukuba.ac.jp/~aso/w3c-email/20040326021036_GJ13553_w3_org#offset_351_357>,\n        <http://www.kde.cs.tsukuba.ac.jp/~aso/w3c-email/20040330221013_GA21468_impressive_net#offset_1687_1693>,\n        <http://www.kde.cs.tsukuba.ac.jp/~aso/w3c-email/3C25E5E6_A68B3790_w3_org#offset_112_118>,\n        <http://www.kde.cs.tsukuba.ac.jp/~aso/w3c-email/3C2B79E1_5050003_w3_org#offset_1280_1286>,\n        <http://www.kde.cs.tsukuba.ac.jp/~aso/w3c-email/3C2B79E1_5050003_w3_org#offset_363_369>,\n        <http://www.kde.cs.tsukuba.ac.jp/~aso/w3c-email/3C2B79E1_5050003_w3_org#offset_966_972>,\n        <http://www.kde.cs.tsukuba.ac.jp/~aso/w3c-email/4084867E_9050502_kbc_net_au#offset_400_406>,\n        <http://www.kde.cs.tsukuba.ac.jp/~aso/w3c-email/4084867E_9050502_kbc_net_au#offset_538_544>,\n        <http://www.kde.cs.tsukuba.ac.jp/~aso/w3c-email/4084867E_9050502_kbc_net_au#offset_717_723>,\n        <http://www.kde.cs.tsukuba.ac.jp/~aso/w3c-email/5_1_0_14_0_20011222225001_00a8f790_mail_cerisent_com#offset_63_69>,\n        <http://www.kde.cs.tsukuba.ac.jp/~aso/w3c-email/5_2_1_1_0_20030612133418_02aa3cc8_mail_thesnidersweb_com#offset_122_128>,\n        <http://www.kde.cs.tsukuba.ac.jp/~aso/w3c-email/5_2_1_1_0_20030612145643_02ab7d98_mail_thesnidersweb_com#offset_628_634>,\n        <http://www.kde.cs.tsukuba.ac.jp/~aso/w3c-email/5_2_1_1_0_20030617125720_00b293d0_mail_thesnidersweb_com#offset_494_500>,\n        <http://www.kde.cs.tsukuba.ac.jp/~aso/w3c-email/5_2_1_1_2_20030425130926_01fd27c8_pop_rcn_com#offset_0_6>,\n        <http://www.kde.cs.tsukuba.ac.jp/~aso/w3c-email/90BDF91D_A5D7_11D7_83B4_000393D9E692_idyllmtn_com#offset_291_297>,\n        <http://www.kde.cs.tsukuba.ac.jp/~aso/w3c-email/B6F1BE10_3350_11D8_AA16000A95D947EC_bytelevel_com#offset_189_195>,\n        <http://www.kde.cs.tsukuba.ac.jp/~aso/w3c-email/E04829959D1DD511ABEE0000C54F1ECBA676D3_mailman_accessonline_com_au#offset_704_710>,\n        <http://www.kde.cs.tsukuba.ac.jp/~aso/w3c-email/EBA4E9B5_330E_11D8_906D_0003939B5AD0_btinternet_com#offset_589_595>,\n        <http://www.kde.cs.tsukuba.ac.jp/~aso/w3c-email/_e0321_914cf22a_3d9033dd_2c_google_trakken_com#offset_254_260>,\n        <http://www.kde.cs.tsukuba.ac.jp/~aso/w3c-email/p05100303b86e633023e1__192_168_123_158_#offset_149_155> .\n\n:GoogleMail :is_fielding_QUANT_O_1_queries_from \"places___Philippines\"@en ;\n    :is_fielding_QUANT_R_1_queries_from_places___Philippines_For \"example\"@en ;\n    :is_fielding_QUANT_R_1_queries_from_places_where___online_Internet_access_be_relatively_expensive_like_Russia_For \"example\"@en ;\n    schema:mentions <http://www.kde.cs.tsukuba.ac.jp/~aso/w3c-email/a05111a05b98c51692631__192_168_1_100_#offset_980_990> .\n\n:Google_Toolbar :integrates_world__s_best_web_search_into \"Internet_Explorer_IE_Windows_NT_2000_XP\"@en ;\n    schema:mentions <http://www.kde.cs.tsukuba.ac.jp/~aso/w3c-email/F104evp6zmPtp4IOrkW00054d47_hotmail_com#offset_136_150> .\n\n:Google_search :revealed_following_amount_of_sites_use_WAI \"today\"@en ;\n    schema:mentions <http://www.kde.cs.tsukuba.ac.jp/~aso/w3c-email/008701c07e6a_20a21460_4cdc93c3_z5n9x1#offset_21_34> .\n\n:Guide_Dog :is <http://www.kde.cs.tsukuba.ac.jp/~aso/w3c-email/:Layla> ;\n    schema:mentions <http://www.kde.cs.tsukuba.ac.jp/~aso/w3c-email/003501c25848_1e009740_3da4f5d1_hh2tg01#offset_469_478> .\n\n:HTML :contains__ \"following_link\"@en ;\n    :provides \"way\"@en ;\n    schema:mentions <http://www.kde.cs.tsukuba.ac.jp/~aso/w3c-email/003a01c0c9c9_031cc340_2b05a8c0_streamingnetworks_com#offset_515_519>,\n        <http://www.kde.cs.tsukuba.ac.jp/~aso/w3c-email/4_3_2_20000414163440_03e70c30_pop_javawoman_com#offset_854_858> .\n\n:HTTP :is \"foreign_technology\"@en,\n        \"important\"@en ;\n    :is_important_to \"content_negotiation\"@en ;\n    schema:mentions <http://www.kde.cs.tsukuba.ac.jp/~aso/w3c-email/200206192123_g5JLNK104672_djwhome_demon_co_uk#offset_382_386>,\n        <http://www.kde.cs.tsukuba.ac.jp/~aso/w3c-email/Pine_LNX_4_30_0206191752400_17276_100000_tux_w3_org#offset_139_143>,\n        <http://www.kde.cs.tsukuba.ac.jp/~aso/w3c-email/Pine_LNX_4_30_0206191752400_17276_100000_tux_w3_org#offset_1883_1887> .\n\n:Hy_Cohen :is <http://www.kde.cs.tsukuba.ac.jp/~aso/w3c-email/:Layla> ;\n    schema:mentions <http://www.kde.cs.tsukuba.ac.jp/~aso/w3c-email/003501c25848_1e009740_3da4f5d1_hh2tg01#offset_456_464> .\n\n:InstallShield :does_install \"new_version\"@en ;\n    :does_install_new_version_over \"previous_QUANT_O_1\"@en ;\n    schema:mentions <http://www.kde.cs.tsukuba.ac.jp/~aso/w3c-email/200001031354_OAA07621_tahiti_inrialpes_fr#offset_793_806> .\n\n:Language_negotiation :fail \"etc_\"@en,\n        \"internet_caf_s\"@en,\n        \"kiosks\"@en,\n        \"libraries\"@en ;\n    :fail_if_browser_is_personal \"etc_\"@en,\n        \"internet_caf_s\"@en,\n        \"kiosks\"@en,\n        \"libraries\"@en ;\n    :fail_in_QUANT_R_1_use_cases \"etc_\"@en,\n        \"internet_caf_s\"@en,\n        \"kiosks\"@en,\n        \"libraries\"@en ;\n    :fail_public \"etc_\"@en,\n        \"internet_caf_s\"@en,\n        \"kiosks\"@en,\n        \"libraries\"@en ;\n    schema:mentions <http://www.kde.cs.tsukuba.ac.jp/~aso/w3c-email/200403211419_i2LEJGW3006815_asterix_andreasen_se#offset_608_628> .\n\n:Mark_Baker :is \"Chief_Science_Officer\"@en ;\n    schema:mentions <http://www.kde.cs.tsukuba.ac.jp/~aso/w3c-email/200203191928_OAA23583_markbaker_ca#offset_1134_1144> .\n\n:Morpheus :is \"graphics_program\"@en ;\n    schema:mentions <http://www.kde.cs.tsukuba.ac.jp/~aso/w3c-email/F69MkqpsJvHDtfIxZ190001f4f8_hotmail_com#offset_328_336> .\n\n:P3P :express_that_for \"moment_AFAIK\"@en ;\n    schema:mentions <http://www.kde.cs.tsukuba.ac.jp/~aso/w3c-email/200404021750_53601_rigo_w3_org#offset_868_871> .\n\n:Plagiarism :are \"QUANT_O_1_examples\"@en ;\n    schema:mentions <http://www.kde.cs.tsukuba.ac.jp/~aso/w3c-email/00ab01c2c8b4_cce51970_ac17a8c0_TOSHIBATABLET#offset_237_247> .\n\n:RDF :allows_server_to_render_alternive_accessible_rendering_of \"QUANT_O_1_site\"@en ;\n    :allows_service_to_render_alternive_accessible_rendering_of \"QUANT_O_1_site\"@en ;\n    schema:mentions <http://www.kde.cs.tsukuba.ac.jp/~aso/w3c-email/00af01c2ce15_cf0ce8c0_ac17a8c0_TOSHIBATABLET#offset_1097_1100>,\n        <http://www.kde.cs.tsukuba.ac.jp/~aso/w3c-email/020c01c2cd35_c0092220_0100a8c0_NBRSIWA#offset_344_347> .\n\n:RDF_schema :be_described_in <http://www.w3.org/TR/xml-infoset-rdfs> ;\n    schema:mentions <http://www.kde.cs.tsukuba.ac.jp/~aso/w3c-email/12577_998414509_tatooine_ilrt_bris_ac_uk#offset_499_509> .\n\n:Riccarton :is \"Edinburgh_EH14\"@en,\n        \"Edinburgh_EH14_4AP\"@en ;\n    schema:mentions <http://www.kde.cs.tsukuba.ac.jp/~aso/w3c-email/3D57C7AA_3020708_w3_org#offset_2161_2170>,\n        <http://www.kde.cs.tsukuba.ac.jp/~aso/w3c-email/487361A25F5FD511B60700C04F1FFD23509AFE_EXCHANGE#offset_1715_1724> .\n\n:Robustness_Principle :was_defined_among_other_places_in \"RFC_QUANT_O_1\"@en ;\n    :was_defined_among_other_places_in_RFC_QUANT_R_1_with_more_discussion_in \"1122\"@en ;\n    schema:mentions <http://www.kde.cs.tsukuba.ac.jp/~aso/w3c-email/14898402_A812_11D7_9537_000393D9E692_idyllmtn_com#offset_228_248> .\n\n:SVG :is_created_with \"similar_tools_to_those_used_to_create_PDF\"@en ;\n    schema:mentions <http://www.kde.cs.tsukuba.ac.jp/~aso/w3c-email/200102101407_f1AE79o20047_djwhome_demon_co_uk#offset_666_669> .\n\n:Screenreaders :handle \"aural_style_sheets\"@en ;\n    :handle_aural_style_sheets_in \"preference_to_visual_ones\"@en ;\n    schema:mentions <http://www.kde.cs.tsukuba.ac.jp/~aso/w3c-email/000f01c33272_58f3a950_6401a8c0_handsontech#offset_495_508>,\n        <http://www.kde.cs.tsukuba.ac.jp/~aso/w3c-email/200306141107_h5EB7H010605_djwhome_demon_co_uk#offset_107_120> .\n\n:Tim_Berners_Lee :is \"inventor\"@en ;\n    :is_W3C_Director_of \"WWW\"@en ;\n    schema:mentions <http://www.kde.cs.tsukuba.ac.jp/~aso/w3c-email/s0265c10_012_zst02_bartimeus_nl#offset_916_931> .\n\n:University_of_Bristol :is \"BS8_1HH\"@en ;\n    schema:mentions <http://www.kde.cs.tsukuba.ac.jp/~aso/w3c-email/EXECMAIL_1020912162940_H_ilrtcoruscant_bristol_ac_uk#offset_2455_2476> .\n\n:WCAG :ask_parliament_member_to_remove \"conformance_logo\"@en,\n        \"conformance_logo_Perhaps\"@en ;\n    :ask_parliament_member_to_remove_conformance_logo_from \"mentioned_page\"@en,\n        \"mentioned_page_Perhaps\"@en ;\n    schema:mentions <http://www.kde.cs.tsukuba.ac.jp/~aso/w3c-email/006401c3ecbf_098f49c0_1d197e50_ineke#offset_1079_1083> .\n\n:Word_Windows :tends_to_place \"separately_QUANT_O_1_character\"@en ;\n    schema:mentions <http://www.kde.cs.tsukuba.ac.jp/~aso/w3c-email/200102101407_f1AE79o20047_djwhome_demon_co_uk#offset_434_446> .\n\n:XHTML :was \"extensible\"@en,\n        \"extensible_X_in_protest_at_time\"@en,\n        \"extensible_something_like_that_at_time\"@en,\n        \"something\"@en ;\n    :was_extensible_X_in \"protest\"@en ;\n    :was_extensible_at \"time\"@en ;\n    :was_extensible_something_like \"that\"@en ;\n    :was_something_at \"time\"@en ;\n    schema:mentions <http://www.kde.cs.tsukuba.ac.jp/~aso/w3c-email/02fb01c06abe_f4a294c0_a3d993c3_z5n9x1#offset_1454_1459>,\n        <http://www.kde.cs.tsukuba.ac.jp/~aso/w3c-email/4_3_2_7_2_20001220162138_00e12d20_pop3_concentric_net#offset_2257_2262> .\n\n:alltheweb_com :does_have_QUANT_O_1_problem_with \"them\"@en ;\n    schema:mentions <http://www.kde.cs.tsukuba.ac.jp/~aso/w3c-email/20010708135721_A14680_impressive_net#offset_2050_2063> .\n\n:alt_attribute :specifies \"replacement_text\"@en ;\n    schema:mentions <http://www.kde.cs.tsukuba.ac.jp/~aso/w3c-email/Pine_LNX_4_20_0004210050440_11938_100000_tux_w3_org#offset_177_190> .\n\n:alt_text :be_given_for \"images\"@en ;\n    :be_saying \"contact_us\"@en ;\n    :is \"dead\"@en ;\n    schema:mentions <http://www.kde.cs.tsukuba.ac.jp/~aso/w3c-email/19366_1070439869_www27_gmx_net#offset_41_49>,\n        <http://www.kde.cs.tsukuba.ac.jp/~aso/w3c-email/4_2_2_20000224100635_00a457b0_pop3_concentric_net#offset_595_603>,\n        <http://www.kde.cs.tsukuba.ac.jp/~aso/w3c-email/D7F58AF6_2584_11D8_862F_003065C9C000_netalleynetworks_com#offset_1225_1233>,\n        <http://www.kde.cs.tsukuba.ac.jp/~aso/w3c-email/D7F58AF6_2584_11D8_862F_003065C9C000_netalleynetworks_com#offset_41_49> .\n\n:e_commerce :is \"service\"@en ;\n    schema:mentions <http://www.kde.cs.tsukuba.ac.jp/~aso/w3c-email/0cce01c23fb9_918c5cf0_2402a8c0_vaio#offset_171_181> .\n\n:google :does \"right_thing\"@en ;\n    :is \"technique_engine\"@en ;\n    schema:mentions <http://www.kde.cs.tsukuba.ac.jp/~aso/w3c-email/3DA315C2_3040107_w3_org#offset_192_198>,\n        <http://www.kde.cs.tsukuba.ac.jp/~aso/w3c-email/D7F58AF6_2584_11D8_862F_003065C9C000_netalleynetworks_com#offset_1130_1136> .\n\n:html :is \"something\"@en ;\n    schema:mentions <http://www.kde.cs.tsukuba.ac.jp/~aso/w3c-email/406ff2ad_827024438_smtp_bjoern_hoehrmann_de#offset_628_632> .\n\n:hyperlink :has \"hyperlink_text\"@en ;\n    schema:mentions <http://www.kde.cs.tsukuba.ac.jp/~aso/w3c-email/Pine_LNX_4_20_0002231227130_18938_100000_tux_w3_org#offset_800_809> .\n\n:inktomi :grabs \"them\"@en ;\n    schema:mentions <http://www.kde.cs.tsukuba.ac.jp/~aso/w3c-email/20010708135721_A14680_impressive_net#offset_2224_2231> .\n\n:language_negotiation :succeeded_for \"QUANT_O_1_users\"@en ;\n    schema:mentions <http://www.kde.cs.tsukuba.ac.jp/~aso/w3c-email/200403211419_i2LEJGW3006815_asterix_andreasen_se#offset_757_777> .\n\n:screen_reader :is_characterized_by \"following\"@en ;\n    schema:mentions <http://www.kde.cs.tsukuba.ac.jp/~aso/w3c-email/000601c33271_ff1056e0_6401a8c0_handsontech#offset_2_15>,\n        <http://www.kde.cs.tsukuba.ac.jp/~aso/w3c-email/007a01c33285_4468e4b0_6401a8c0_handsontech#offset_1467_1480>,\n        <http://www.kde.cs.tsukuba.ac.jp/~aso/w3c-email/C3927CD4_9E77_11D7_83DE_000A958826AA_sidar_org#offset_636_649> .\n\n:screenreaders :act_like_screen_media_instead_of \"aural_media\"@en ;\n    :do_handle \"aural_ones\"@en ;\n    schema:mentions <http://www.kde.cs.tsukuba.ac.jp/~aso/w3c-email/000f01c33272_58f3a950_6401a8c0_handsontech#offset_665_678>,\n        <http://www.kde.cs.tsukuba.ac.jp/~aso/w3c-email/003001c33204_2ef37130_6401a8c0_handsontech#offset_1482_1495>,\n        <http://www.kde.cs.tsukuba.ac.jp/~aso/w3c-email/200306141107_h5EB7H010605_djwhome_demon_co_uk#offset_277_290>,\n        <http://www.kde.cs.tsukuba.ac.jp/~aso/w3c-email/C7E0FABB_9DF6_11D7_AEE2_000393D9E692_idyllmtn_com#offset_1117_1130> .\n\n:spam :be \"external\"@en ;\n    schema:mentions <http://www.kde.cs.tsukuba.ac.jp/~aso/w3c-email/004701c33113_74261ba0_6401a8c0_handsontech#offset_767_771>,\n        <http://www.kde.cs.tsukuba.ac.jp/~aso/w3c-email/20030612133301673526_GyazMail_josh_deaghean_com#offset_434_438>,\n        <http://www.kde.cs.tsukuba.ac.jp/~aso/w3c-email/5_2_1_1_0_20030612145858_00b29710_mail_thesnidersweb_com#offset_422_426>,\n        <http://www.kde.cs.tsukuba.ac.jp/~aso/w3c-email/6F87436C_9D5B_11D7_A448_000A958826AA_sidar_org#offset_730_734> .\n\n:speech_synthesizer :is \"means\"@en ;\n    schema:mentions <http://www.kde.cs.tsukuba.ac.jp/~aso/w3c-email/000601c33271_ff1056e0_6401a8c0_handsontech#offset_342_360>,\n        <http://www.kde.cs.tsukuba.ac.jp/~aso/w3c-email/007a01c33285_4468e4b0_6401a8c0_handsontech#offset_1815_1833>,\n        <http://www.kde.cs.tsukuba.ac.jp/~aso/w3c-email/C3927CD4_9E77_11D7_83DE_000A958826AA_sidar_org#offset_987_1005> .\n\n:synthesizer :has_been_handed_mess_other_than \"static\"@en ;\n    schema:mentions <http://www.kde.cs.tsukuba.ac.jp/~aso/w3c-email/000401c33289_e4869740_6401a8c0_handsontech#offset_162_173> .\n\n:telecon :be_having \"holiday\"@en ;\n    :be_having_lot_of \"home_work\"@en ;\n    schema:mentions <http://www.kde.cs.tsukuba.ac.jp/~aso/w3c-email/OF5747F703_709C33BB_ONC1256DCF_0080C08D_C1256DD0_00015C6B_agfa_be#offset_26_33> .\n\n:user_agent :are \"equivalent_terms\"@en ;\n    schema:mentions <http://www.kde.cs.tsukuba.ac.jp/~aso/w3c-email/90BDF91D_A5D7_11D7_83B4_000393D9E692_idyllmtn_com#offset_148_158> .\n\n<http://www.kde.cs.tsukuba.ac.jp/~aso/w3c-email/:google> schema:mentions <http://www.kde.cs.tsukuba.ac.jp/~aso/w3c-email/Pine_LNX_4_20_0005271622000_9024_100000_tux_w3_org#offset_82_88> .\n\n<http://www.kde.cs.tsukuba.ac.jp/~aso/w3c-email/:text_advertising> schema:mentions <http://www.kde.cs.tsukuba.ac.jp/~aso/w3c-email/200203042205_g24M5oi08036_djwhome_demon_co_uk#offset_420_436> .\n\n<http://www.kde.cs.tsukuba.ac.jp/~aso/w3c-email/:user_agent> schema:mentions <http://www.kde.cs.tsukuba.ac.jp/~aso/w3c-email/90BDF91D_A5D7_11D7_83B4_000393D9E692_idyllmtn_com#offset_303_313> .\n\n<http://www.kde.cs.tsukuba.ac.jp/~aso/w3c-email/:Layla> schema:mentions <http://www.kde.cs.tsukuba.ac.jp/~aso/w3c-email/003501c25848_1e009740_3da4f5d1_hh2tg01#offset_481_486> .\n\n\n"
     ]
    }
   ],
   "source": [
    "print(g.serialize(format=\"turtle\").decode(\"utf-8\"))"
   ]
  },
  {
   "cell_type": "code",
   "execution_count": 97,
   "metadata": {},
   "outputs": [
    {
     "output_type": "execute_result",
     "data": {
      "text/plain": [
       "299"
      ]
     },
     "metadata": {},
     "execution_count": 97
    }
   ],
   "source": [
    "len(g)"
   ]
  },
  {
   "cell_type": "code",
   "execution_count": 98,
   "metadata": {},
   "outputs": [],
   "source": [
    "# turtle形式でファイル出力\n",
    "g.serialize(destination='/Users/taroaso/myprojects/OpenIE/trec/output/oie_triples.ttl', format='turtle')"
   ]
  },
  {
   "cell_type": "code",
   "execution_count": null,
   "metadata": {},
   "outputs": [],
   "source": []
  }
 ]
}