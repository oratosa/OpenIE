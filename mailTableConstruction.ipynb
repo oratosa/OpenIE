{
 "metadata": {
  "language_info": {
   "codemirror_mode": {
    "name": "ipython",
    "version": 3
   },
   "file_extension": ".py",
   "mimetype": "text/x-python",
   "name": "python",
   "nbconvert_exporter": "python",
   "pygments_lexer": "ipython3",
   "version": "3.7.7-final"
  },
  "orig_nbformat": 2,
  "kernelspec": {
   "name": "Python 3.7.7 64-bit ('allennlp': pyenv)",
   "display_name": "Python 3.7.7 64-bit ('allennlp': pyenv)",
   "metadata": {
    "interpreter": {
     "hash": "8f4757669d1e3b6bf7814273e110a25ebcc963326140dfe3c35ac4cabb3218b6"
    }
   }
  }
 },
 "nbformat": 4,
 "nbformat_minor": 2,
 "cells": [
  {
   "cell_type": "code",
   "execution_count": 1,
   "metadata": {},
   "outputs": [],
   "source": [
    "import os, sys, email, datetime, pprint, re, time, html\n",
    "import numpy as np\n",
    "import pandas as pd\n",
    "import nltk\n",
    "from nltk.metrics import *\n",
    "\n",
    "pd.options.display.max_colwidth = 1000"
   ]
  },
  {
   "cell_type": "code",
   "execution_count": 2,
   "metadata": {},
   "outputs": [],
   "source": [
    "# ディレクトリ 内のメールファイルを読み込む\n",
    "\n",
    "from loadFile import getFileList\n",
    "\n",
    "directory_path = \"/Users/taroaso/myprojects/OpenIE/trec/2005/each_dataset/3\"\n",
    "file_list = getFileList(directory_path)\n",
    "file_list.sort()"
   ]
  },
  {
   "cell_type": "code",
   "execution_count": 3,
   "metadata": {},
   "outputs": [],
   "source": [
    "# メールファイルをパースし，データフレームに変換する \n",
    "\n",
    "mail_cols = ['docno','received','isoreceived','sent','isosent','name','email','subject','id','charset','inreplyto','expires','to','cc','body']\n",
    "mail_df = pd.DataFrame(index=[], columns=mail_cols)\n",
    "\n",
    "for file in file_list:\n",
    "    with open(file, 'r', encoding='utf-8', errors='ignore') as f:\n",
    "        mail = f.readlines()\n",
    "    \n",
    "        record={}\n",
    "        body = []\n",
    "        for row in mail:\n",
    "            if row.startswith('docno='):\n",
    "                match = re.search(r'\".+\"',row)\n",
    "                if match != None:\n",
    "                    record['docno'] = match.group().strip('\"')\n",
    "            elif row.startswith('received='):\n",
    "                match = re.search(r'\".+\"',row)\n",
    "                if match != None:\n",
    "                    record['received'] = match.group().strip('\"')\n",
    "            elif row.startswith('isoreceived='):\n",
    "                match = re.search(r'\".+\"',row)\n",
    "                if match != None:\n",
    "                    rt = match.group().strip('\"')\n",
    "                    record['isoreceived'] = datetime.datetime(int(rt[0:4]),int(rt[4:6]),int(rt[6:8]),int(rt[8:10]),int(rt[10:12]),int(rt[12:14])) #yyyy,mm,dd,hh,mm,ss\n",
    "            elif row.startswith('sent='):\n",
    "                match = re.search(r'\".+\"',row)\n",
    "                if match != None:\n",
    "                    record['sent'] = match.group().strip('\"')\n",
    "            elif row.startswith('isosent='):\n",
    "                match = re.search(r'\".+\"',row)\n",
    "                if match != None:\n",
    "                    st = match.group().strip('\"')\n",
    "                    record['isosent'] = datetime.datetime(int(st[0:4]),int(st[4:6]),int(st[6:8]),int(st[8:10]),int(st[10:12]),int(st[12:14])) #yyyy,mm,dd,hh,mm,ss\n",
    "            elif row.startswith('name='):\n",
    "                match = re.search(r'\".+\"',row)\n",
    "                if match != None:\n",
    "                    record['name'] = match.group().strip('\"')\n",
    "            elif row.startswith('email='):\n",
    "                match = re.search(r'\".+\"',row)\n",
    "                if match != None:\n",
    "                    record['email'] = match.group().strip('\"')\n",
    "            elif row.startswith('subject='):\n",
    "                match = re.search(r'\".+\"',row)\n",
    "                if match != None:\n",
    "                    match = match.group().strip('\"')\n",
    "                    match = html.unescape(match) # subjectに含まれるHTML特殊文字をユニコード文字に変換する\n",
    "                    record['subject'] = match\n",
    "            elif row.startswith('id='):\n",
    "                match = re.search(r'\".+\"',row)\n",
    "                if match != None:\n",
    "                    record['id'] = match.group().strip('\"')\n",
    "            elif row.startswith('charset='):\n",
    "                match = re.search(r'\".+\"',row)\n",
    "                if match != None:\n",
    "                    record['charset'] = match.group().strip('\"')\n",
    "            elif row.startswith('inreplyto='):\n",
    "                match = re.search(r'\".+\"',row)\n",
    "                if match != None:\n",
    "                    match = match.group().strip('\"')\n",
    "                    match = html.unescape(match) # inreplytoのHTML特殊文字をユニコード文字に変換する\n",
    "                    record['inreplyto'] = match\n",
    "            elif row.startswith('expires='):\n",
    "                match = re.search(r'\".+\"',row)\n",
    "                if match != None:\n",
    "                    record['expires'] = match.group().strip('\"')\n",
    "            elif row.startswith('To:'):\n",
    "                match = row[3:-1]\n",
    "                record.setdefault('to',match)\n",
    "            elif row.startswith('Cc:'):\n",
    "                match = row[3:-1]\n",
    "                record.setdefault('cc',match)\n",
    "            else:\n",
    "                body.append(row)\n",
    "        record['body'] = '\\n'.join(body)\n",
    "    \n",
    "    mail_df = mail_df.append(record, ignore_index=True)"
   ]
  },
  {
   "cell_type": "code",
   "execution_count": 4,
   "metadata": {},
   "outputs": [],
   "source": [
    "# toの正規化処理\n",
    "canonical_step1 = []\n",
    "for value in mail_df.values:\n",
    "    to = value[12]\n",
    "    if type(to) != str: #型チェック（nanである場合がある）\n",
    "        value[12] = None\n",
    "        canonical_step1.append(list(value))\n",
    "    else:\n",
    "        emails = re.findall(r'([a-zA-Z0-9_.+-]+@[a-zA-Z0-9-]+\\.[a-zA-Z0-9-.]+)',to)\n",
    "        if emails != []:\n",
    "            for email in emails:\n",
    "                value[12] = email\n",
    "                canonical_step1.append(list(value))"
   ]
  },
  {
   "cell_type": "code",
   "execution_count": 5,
   "metadata": {},
   "outputs": [],
   "source": [
    "# ccの正規化処理\n",
    "canonical_step2 = []\n",
    "for value in canonical_step1:\n",
    "    cc = value[13]\n",
    "    if type(cc) != str: #型チェック（nanである場合がある）\n",
    "        value[13] = None\n",
    "        canonical_step2.append(list(value))\n",
    "    else:\n",
    "        emails = re.findall(r'([a-zA-Z0-9_.+-]+@[a-zA-Z0-9-]+\\.[a-zA-Z0-9-.]+)',cc)\n",
    "        if emails != []:\n",
    "            for email in emails:\n",
    "                value[13] = email\n",
    "                canonical_step2.append(list(value))"
   ]
  },
  {
   "cell_type": "code",
   "execution_count": 6,
   "metadata": {},
   "outputs": [],
   "source": [
    "# 正規化したDataFrameを作成する\n",
    "\n",
    "canonical_mail_df = pd.DataFrame(canonical_step2,columns=mail_cols)"
   ]
  },
  {
   "cell_type": "code",
   "execution_count": 7,
   "metadata": {},
   "outputs": [],
   "source": [
    "# RDBにmail_dfのテーブルを作成する\n",
    "\n",
    "from db import connect\n",
    "engine = connect()\n",
    "canonical_mail_df.to_sql(name='mail',con=engine,if_exists='replace',index=None)"
   ]
  },
  {
   "cell_type": "code",
   "execution_count": null,
   "metadata": {},
   "outputs": [],
   "source": []
  }
 ]
}