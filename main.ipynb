{
 "cells": [
  {
   "cell_type": "code",
   "execution_count": 1,
   "metadata": {},
   "outputs": [],
   "source": [
    "import os, sys, email\n",
    "import numpy as np\n",
    "import pandas as pd\n",
    "from nltk import tokenize\n",
    "import pprint, re, time\n",
    "\n",
    "pd.options.display.max_colwidth = 100"
   ]
  },
  {
   "cell_type": "code",
   "execution_count": 2,
   "metadata": {},
   "outputs": [],
   "source": [
    "# ディレクトリ 内のメールファイルを読み込む\n",
    "\n",
    "from fileRetrieval import path_list\n",
    "\n",
    "directory_path = \"enron/maildir/allen-p/inbox\"\n",
    "file_list, dir_list=path_list(directory_path)"
   ]
  },
  {
   "cell_type": "code",
   "execution_count": 3,
   "metadata": {},
   "outputs": [],
   "source": [
    "# テキストファイルをデータフレームに格納する\n",
    "\n",
    "from fileToDataFrame import fileToDataFrame\n",
    "\n",
    "df = fileToDataFrame(file_list)"
   ]
  },
  {
   "cell_type": "code",
   "execution_count": 4,
   "metadata": {},
   "outputs": [
    {
     "name": "stdout",
     "output_type": "stream",
     "text": [
      "0.10239005088806152 s\n"
     ]
    }
   ],
   "source": [
    "from toSentences import toSentences\n",
    "\n",
    "sent_dict = {'Message-ID':[],\n",
    "            'Sentence-ID':[],\n",
    "            'Sentence':[]}\n",
    "\n",
    "start = time.time()\n",
    "\n",
    "for i,message in enumerate(df['Message']):\n",
    "    sentences = toSentences(message)\n",
    "    sent_dict['Message-ID'].extend([df['Message-ID'][i]] * len(sentences))\n",
    "    sent_dict['Sentence-ID'].extend(range(len(sentences)))\n",
    "    sent_dict['Sentence'].extend(sentences)\n",
    "\n",
    "sentence_df = pd.DataFrame.from_dict(sent_dict,orient='columns')\n",
    "\n",
    "end = time.time()\n",
    "print(end-start,'s')"
   ]
  },
  {
   "cell_type": "code",
   "execution_count": 5,
   "metadata": {},
   "outputs": [
    {
     "name": "stdout",
     "output_type": "stream",
     "text": [
      "188.20253109931946 s\n"
     ]
    }
   ],
   "source": [
    "# トリプルテーブルを作る\n",
    "\n",
    "from tripleExtraction import tripleExtraction\n",
    "\n",
    "triple_dict = {'Message-ID':[],\n",
    "             'Sentence-ID':[],\n",
    "             'Triple':[]}\n",
    "\n",
    "start = time.time()\n",
    "\n",
    "counter = 0\n",
    "for i, sentence in enumerate(sentence_df['Sentence']):\n",
    "    triples = tripleExtraction(sentence)\n",
    "    triple_dict['Message-ID'].extend([sentence_df['Message-ID'][i]] * len(triples))\n",
    "    triple_dict['Sentence-ID'].extend([sentence_df['Sentence-ID'][i]] * len(triples))\n",
    "    triple_dict['Triple'].extend(triples)\n",
    "    \n",
    "triple_df = pd.DataFrame.from_dict(triple_dict,orient='columns')\n",
    "        \n",
    "end = time.time()\n",
    "print(end-start,'s')"
   ]
  },
  {
   "cell_type": "code",
   "execution_count": 11,
   "metadata": {},
   "outputs": [],
   "source": [
    "output = pd.merge(df[['Path','Message-ID','Subject']],pd.merge(sentence_df,triple_df,on=['Message-ID','Sentence-ID']),on='Message-ID')"
   ]
  },
  {
   "cell_type": "code",
   "execution_count": 13,
   "metadata": {},
   "outputs": [],
   "source": [
    "output.to_csv('output/allen_p_inbox_triple.csv')"
   ]
  },
  {
   "cell_type": "code",
   "execution_count": null,
   "metadata": {},
   "outputs": [],
   "source": []
  }
 ],
 "metadata": {
  "kernelspec": {
   "display_name": "Python 3",
   "language": "python",
   "name": "python3"
  },
  "language_info": {
   "codemirror_mode": {
    "name": "ipython",
    "version": 3
   },
   "file_extension": ".py",
   "mimetype": "text/x-python",
   "name": "python",
   "nbconvert_exporter": "python",
   "pygments_lexer": "ipython3",
   "version": "3.7.3"
  }
 },
 "nbformat": 4,
 "nbformat_minor": 4
}
