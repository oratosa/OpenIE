{
 "cells": [
  {
   "cell_type": "code",
   "execution_count": 1,
   "metadata": {},
   "outputs": [],
   "source": [
    "import os, sys, email\n",
    "import numpy as np\n",
    "import pandas as pd\n",
    "from nltk import tokenize\n",
    "import pprint, re, time\n",
    "\n",
    "pd.options.display.max_colwidth = 1000"
   ]
  },
  {
   "cell_type": "code",
   "execution_count": 2,
   "metadata": {},
   "outputs": [],
   "source": [
    "from loadFile import getPathList, fileToDataFrame\n",
    "\n",
    "# ディレクトリ 内のメールファイルを読み込む\n",
    "directory_path = \"enron/maildir/allen-p/inbox\"\n",
    "file_list, dir_list=getPathList(directory_path)\n",
    "\n",
    "# テキストファイルをデータフレームに格納する\n",
    "df = fileToDataFrame(file_list)"
   ]
  },
  {
   "cell_type": "code",
   "execution_count": 3,
   "metadata": {
    "tags": []
   },
   "outputs": [
    {
     "output_type": "stream",
     "name": "stdout",
     "text": "0.10651493072509766 s\n"
    }
   ],
   "source": [
    "#ドキュメント（メッセージ）をセンテンスに分解する\n",
    "from preProcess import toSentences\n",
    "\n",
    "sent_dict = {'Message-ID':[],\n",
    "            'Sentence-ID':[],\n",
    "            'Sentence':[]}\n",
    "\n",
    "start = time.time()\n",
    "\n",
    "for i,message in enumerate(df['Message']):\n",
    "    sentences = toSentences(message)\n",
    "    sent_dict['Message-ID'].extend([df['Message-ID'][i]] * len(sentences))\n",
    "    sent_dict['Sentence-ID'].extend(range(len(sentences)))\n",
    "    sent_dict['Sentence'].extend(sentences)\n",
    "\n",
    "sentence_df = pd.DataFrame.from_dict(sent_dict,orient='columns')\n",
    "\n",
    "end = time.time()\n",
    "print(end-start,'s')"
   ]
  },
  {
   "cell_type": "code",
   "execution_count": 4,
   "metadata": {
    "tags": []
   },
   "outputs": [
    {
     "output_type": "stream",
     "name": "stdout",
     "text": "214.54530596733093 s\n"
    }
   ],
   "source": [
    "from extraction import tripleExtraction, entityExtraction, NERtripleExtraction\n",
    "\n",
    "triple_dict = {'Message-ID':[],\n",
    "             'Sentence-ID':[],\n",
    "             'Triple':[]}\n",
    "\n",
    "start = time.time()\n",
    "\n",
    "for i, sentence in enumerate(sentence_df['Sentence']):\n",
    "    triples = tripleExtraction(sentence)\n",
    "    entities,entities_type = entityExtraction(sentence)\n",
    "    nertriples = NERtripleExtraction(triples, entities)\n",
    "    if nertriples is None:\n",
    "        pass\n",
    "    else:\n",
    "        triple_dict['Message-ID'].extend([sentence_df['Message-ID'][i]] * len(nertriples))\n",
    "        triple_dict['Sentence-ID'].extend([sentence_df['Sentence-ID'][i]] * len(nertriples))\n",
    "        triple_dict['Triple'].extend(nertriples)\n",
    "\n",
    "triple_df = pd.DataFrame.from_dict(triple_dict,orient='columns')\n",
    "\n",
    "end = time.time()\n",
    "print(end-start,'s')"
   ]
  },
  {
   "cell_type": "code",
   "execution_count": 6,
   "metadata": {},
   "outputs": [],
   "source": [
    "output = pd.merge(df[['Path','Message-ID','Subject']],pd.merge(sentence_df,triple_df,on=['Message-ID','Sentence-ID']),on='Message-ID')\n",
    "output.to_csv('output/allen_p_inbox_triple4.csv')\n",
    "\n",
    "#output = pd.read_csv('output/allen_p_inbox_triple.csv')"
   ]
  },
  {
   "cell_type": "code",
   "execution_count": 28,
   "metadata": {},
   "outputs": [],
   "source": [
    "output.groupby(['Path','Sentence-ID','Sentence','Triple']).agg({'Triple':'unique'}).to_csv('output/allen_p_inbox_triple4.csv')"
   ]
  },
  {
   "cell_type": "code",
   "execution_count": null,
   "metadata": {},
   "outputs": [],
   "source": []
  }
 ],
 "metadata": {
  "kernelspec": {
   "display_name": "Python 3",
   "language": "python",
   "name": "python3"
  },
  "language_info": {
   "codemirror_mode": {
    "name": "ipython",
    "version": 3
   },
   "file_extension": ".py",
   "mimetype": "text/x-python",
   "name": "python",
   "nbconvert_exporter": "python",
   "pygments_lexer": "ipython3",
   "version": "3.7.3"
  }
 },
 "nbformat": 4,
 "nbformat_minor": 4
}