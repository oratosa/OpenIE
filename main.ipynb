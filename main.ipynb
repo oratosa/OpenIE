{
 "cells": [
  {
   "cell_type": "code",
   "execution_count": 1,
   "metadata": {},
   "outputs": [],
   "source": [
    "import os, sys, email\n",
    "import numpy as np\n",
    "import pandas as pd\n",
    "from nltk import tokenize\n",
    "import pprint, re, time\n",
    "\n",
    "pd.options.display.max_colwidth = 1000"
   ]
  },
  {
   "cell_type": "code",
   "execution_count": 2,
   "metadata": {},
   "outputs": [],
   "source": [
    "from loadFile import getPathList, fileToDataFrame\n",
    "\n",
    "# ディレクトリ 内のメールファイルを読み込む\n",
    "directory_path = \"enron/maildir/allen-p/inbox\"\n",
    "file_list, dir_list=getPathList(directory_path)\n",
    "\n",
    "# テキストファイルをデータフレームに格納する\n",
    "df = fileToDataFrame(file_list)"
   ]
  },
  {
   "cell_type": "code",
   "execution_count": 3,
   "metadata": {},
   "outputs": [
    {
     "name": "stdout",
     "output_type": "stream",
     "text": [
      "0.11033105850219727 s\n"
     ]
    }
   ],
   "source": [
    "#ドキュメント（メッセージ）をセンテンスに分解する\n",
    "from preProcess import toSentences\n",
    "\n",
    "sent_dict = {'Message-ID':[],\n",
    "            'Sentence-ID':[],\n",
    "            'Sentence':[]}\n",
    "\n",
    "start = time.time()\n",
    "\n",
    "for i,message in enumerate(df['Message']):\n",
    "    sentences = toSentences(message)\n",
    "    sent_dict['Message-ID'].extend([df['Message-ID'][i]] * len(sentences))\n",
    "    sent_dict['Sentence-ID'].extend(range(len(sentences)))\n",
    "    sent_dict['Sentence'].extend(sentences)\n",
    "\n",
    "sentence_df = pd.DataFrame.from_dict(sent_dict,orient='columns')\n",
    "\n",
    "end = time.time()\n",
    "print(end-start,'s')"
   ]
  },
  {
   "cell_type": "code",
   "execution_count": 4,
   "metadata": {},
   "outputs": [
    {
     "name": "stdout",
     "output_type": "stream",
     "text": [
      "175.74492287635803 s\n"
     ]
    }
   ],
   "source": [
    "# トリプルテーブルを作る\n",
    "\n",
    "from extraction import NERtripleExtraction\n",
    "\n",
    "triple_dict = {'Message-ID':[],\n",
    "             'Sentence-ID':[],\n",
    "             'Triple':[]}\n",
    "\n",
    "start = time.time()\n",
    "\n",
    "for i, sentence in enumerate(sentence_df['Sentence']):\n",
    "    triples = NERtripleExtraction(sentence)\n",
    "    triple_dict['Message-ID'].extend([sentence_df['Message-ID'][i]] * len(triples))\n",
    "    triple_dict['Sentence-ID'].extend([sentence_df['Sentence-ID'][i]] * len(triples))\n",
    "    triple_dict['Triple'].extend(triples)\n",
    "    \n",
    "triple_df = pd.DataFrame.from_dict(triple_dict,orient='columns')\n",
    "        \n",
    "end = time.time()\n",
    "print(end-start,'s')"
   ]
  },
  {
   "cell_type": "code",
   "execution_count": 6,
   "metadata": {},
   "outputs": [
    {
     "name": "stdout",
     "output_type": "stream",
     "text": [
      "186.8424050807953 s\n"
     ]
    }
   ],
   "source": [
    "from extraction import tripleExtraction, entityExtraction, NERtripleExtraction\n",
    "\n",
    "triple_dict = {'Message-ID':[],\n",
    "             'Sentence-ID':[],\n",
    "             'Triple':[]}\n",
    "\n",
    "start = time.time()\n",
    "\n",
    "for i, sentence in enumerate(sentence_df['Sentence']):\n",
    "    triples = tripleExtraction(sentence)\n",
    "    entities,entities_type = entityExtraction(sentence)\n",
    "    nertriples = NERtripleExtraction(triples, entities)\n",
    "    if nertriples is None:\n",
    "        pass\n",
    "    else:\n",
    "        triple_dict['Message-ID'].extend([sentence_df['Message-ID'][i]] * len(nertriples))\n",
    "        triple_dict['Sentence-ID'].extend([sentence_df['Sentence-ID'][i]] * len(nertriples))\n",
    "        triple_dict['Triple'].extend(nertriples)\n",
    "\n",
    "triple_df = pd.DataFrame.from_dict(triple_dict,orient='columns')\n",
    "\n",
    "end = time.time()\n",
    "print(end-start,'s')"
   ]
  },
  {
   "cell_type": "code",
   "execution_count": 8,
   "metadata": {},
   "outputs": [],
   "source": [
    "output = pd.merge(df[['Path','Message-ID','Subject']],pd.merge(sentence_df,triple_df,on=['Message-ID','Sentence-ID']),on='Message-ID')\n",
    "output.to_csv('output/allen_p_inbox_triple3.csv')\n",
    "\n",
    "output = pd.read_csv('output/allen_p_inbox_triple3.csv')"
   ]
  },
  {
   "cell_type": "code",
   "execution_count": 7,
   "metadata": {},
   "outputs": [
    {
     "data": {
      "text/html": [
       "<div>\n",
       "<style scoped>\n",
       "    .dataframe tbody tr th:only-of-type {\n",
       "        vertical-align: middle;\n",
       "    }\n",
       "\n",
       "    .dataframe tbody tr th {\n",
       "        vertical-align: top;\n",
       "    }\n",
       "\n",
       "    .dataframe thead th {\n",
       "        text-align: right;\n",
       "    }\n",
       "</style>\n",
       "<table border=\"1\" class=\"dataframe\">\n",
       "  <thead>\n",
       "    <tr style=\"text-align: right;\">\n",
       "      <th></th>\n",
       "      <th>Message-ID</th>\n",
       "      <th>Sentence-ID</th>\n",
       "      <th>Triple</th>\n",
       "    </tr>\n",
       "  </thead>\n",
       "  <tbody>\n",
       "    <tr>\n",
       "      <th>0</th>\n",
       "      <td>&lt;22534132.1075858645229.JavaMail.evans@thyme&gt;</td>\n",
       "      <td>0</td>\n",
       "      <td>(2001 TVA Valley Authority ( TVA, takes, lead)</td>\n",
       "    </tr>\n",
       "    <tr>\n",
       "      <th>1</th>\n",
       "      <td>&lt;22534132.1075858645229.JavaMail.evans@thyme&gt;</td>\n",
       "      <td>0</td>\n",
       "      <td>(a division of ... Mexican electricity reform, put, recession delays sector restructuring Dependence on foreign gas)</td>\n",
       "    </tr>\n",
       "    <tr>\n",
       "      <th>2</th>\n",
       "      <td>&lt;22534132.1075858645229.JavaMail.evans@thyme&gt;</td>\n",
       "      <td>0</td>\n",
       "      <td>(oil increases Utilities slow to buy ASPs, allow, companies to focus Customer service function a key attraction Boosting the capacity of the SPR Calls to boost reserves with stripper production Hesitation attributed to concern over oil price impacts Nabors affiliate to acquire Command Drilling full story ... Georgia Power announces partnership with Nigerian company full story)</td>\n",
       "    </tr>\n",
       "    <tr>\n",
       "      <th>3</th>\n",
       "      <td>&lt;22534132.1075858645229.JavaMail.evans@thyme&gt;</td>\n",
       "      <td>0</td>\n",
       "      <td>(a key attraction, Boosting, of the SPR Calls)</td>\n",
       "    </tr>\n",
       "    <tr>\n",
       "      <th>4</th>\n",
       "      <td>&lt;22534132.1075858645229.JavaMail.evans@thyme&gt;</td>\n",
       "      <td>0</td>\n",
       "      <td>(Georgia Power, announces, partnership with Nigerian company)</td>\n",
       "    </tr>\n",
       "    <tr>\n",
       "      <th>...</th>\n",
       "      <td>...</td>\n",
       "      <td>...</td>\n",
       "      <td>...</td>\n",
       "    </tr>\n",
       "    <tr>\n",
       "      <th>280</th>\n",
       "      <td>&lt;21572157.1075855377726.JavaMail.evans@thyme&gt;</td>\n",
       "      <td>0</td>\n",
       "      <td>(You, spin, $ 2,500)</td>\n",
       "    </tr>\n",
       "    <tr>\n",
       "      <th>281</th>\n",
       "      <td>&lt;21572157.1075855377726.JavaMail.evans@thyme&gt;</td>\n",
       "      <td>12</td>\n",
       "      <td>(to process, take, up to one week)</td>\n",
       "    </tr>\n",
       "    <tr>\n",
       "      <th>282</th>\n",
       "      <td>&lt;7059385.1075855377617.JavaMail.evans@thyme&gt;</td>\n",
       "      <td>7</td>\n",
       "      <td>(by FreeSoftwarePromotions, Brought, a href=\"http://www.freesoftwarepromotions.com/100012\"&gt;AOL Members Click Here&lt;/a)</td>\n",
       "    </tr>\n",
       "    <tr>\n",
       "      <th>283</th>\n",
       "      <td>&lt;9144651.1075862166126.JavaMail.evans@thyme&gt;</td>\n",
       "      <td>1</td>\n",
       "      <td>(We, ask, that this confidential information be treated as such , in accordance with applicable laws and regulations governing disclosure of confidential information by gas marketers such as Enron)</td>\n",
       "    </tr>\n",
       "    <tr>\n",
       "      <th>284</th>\n",
       "      <td>&lt;9144651.1075862166126.JavaMail.evans@thyme&gt;</td>\n",
       "      <td>1</td>\n",
       "      <td>(applicable laws and regulations, governing, disclosure of confidential information by gas marketers such as Enron)</td>\n",
       "    </tr>\n",
       "  </tbody>\n",
       "</table>\n",
       "<p>285 rows × 3 columns</p>\n",
       "</div>"
      ],
      "text/plain": [
       "                                        Message-ID  Sentence-ID  \\\n",
       "0    <22534132.1075858645229.JavaMail.evans@thyme>            0   \n",
       "1    <22534132.1075858645229.JavaMail.evans@thyme>            0   \n",
       "2    <22534132.1075858645229.JavaMail.evans@thyme>            0   \n",
       "3    <22534132.1075858645229.JavaMail.evans@thyme>            0   \n",
       "4    <22534132.1075858645229.JavaMail.evans@thyme>            0   \n",
       "..                                             ...          ...   \n",
       "280  <21572157.1075855377726.JavaMail.evans@thyme>            0   \n",
       "281  <21572157.1075855377726.JavaMail.evans@thyme>           12   \n",
       "282   <7059385.1075855377617.JavaMail.evans@thyme>            7   \n",
       "283   <9144651.1075862166126.JavaMail.evans@thyme>            1   \n",
       "284   <9144651.1075862166126.JavaMail.evans@thyme>            1   \n",
       "\n",
       "                                                                                                                                                                                                                                                                                                                                                                                          Triple  \n",
       "0                                                                                                                                                                                                                                                                                                                                                 (2001 TVA Valley Authority ( TVA, takes, lead)  \n",
       "1                                                                                                                                                                                                                                                                           (a division of ... Mexican electricity reform, put, recession delays sector restructuring Dependence on foreign gas)  \n",
       "2    (oil increases Utilities slow to buy ASPs, allow, companies to focus Customer service function a key attraction Boosting the capacity of the SPR Calls to boost reserves with stripper production Hesitation attributed to concern over oil price impacts Nabors affiliate to acquire Command Drilling full story ... Georgia Power announces partnership with Nigerian company full story)  \n",
       "3                                                                                                                                                                                                                                                                                                                                                 (a key attraction, Boosting, of the SPR Calls)  \n",
       "4                                                                                                                                                                                                                                                                                                                                  (Georgia Power, announces, partnership with Nigerian company)  \n",
       "..                                                                                                                                                                                                                                                                                                                                                                                           ...  \n",
       "280                                                                                                                                                                                                                                                                                                                                                                         (You, spin, $ 2,500)  \n",
       "281                                                                                                                                                                                                                                                                                                                                                           (to process, take, up to one week)  \n",
       "282                                                                                                                                                                                                                                                                        (by FreeSoftwarePromotions, Brought, a href=\"http://www.freesoftwarepromotions.com/100012\">AOL Members Click Here</a)  \n",
       "283                                                                                                                                                                                        (We, ask, that this confidential information be treated as such , in accordance with applicable laws and regulations governing disclosure of confidential information by gas marketers such as Enron)  \n",
       "284                                                                                                                                                                                                                                                                          (applicable laws and regulations, governing, disclosure of confidential information by gas marketers such as Enron)  \n",
       "\n",
       "[285 rows x 3 columns]"
      ]
     },
     "execution_count": 7,
     "metadata": {},
     "output_type": "execute_result"
    }
   ],
   "source": [
    "triple_df"
   ]
  },
  {
   "cell_type": "code",
   "execution_count": null,
   "metadata": {},
   "outputs": [],
   "source": []
  }
 ],
 "metadata": {
  "kernelspec": {
   "display_name": "Python 3",
   "language": "python",
   "name": "python3"
  },
  "language_info": {
   "codemirror_mode": {
    "name": "ipython",
    "version": 3
   },
   "file_extension": ".py",
   "mimetype": "text/x-python",
   "name": "python",
   "nbconvert_exporter": "python",
   "pygments_lexer": "ipython3",
   "version": "3.7.3"
  }
 },
 "nbformat": 4,
 "nbformat_minor": 4
}
