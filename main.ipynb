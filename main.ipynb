{
 "cells": [
  {
   "cell_type": "code",
   "execution_count": 1,
   "metadata": {},
   "outputs": [],
   "source": [
    "import os, sys, email\n",
    "import numpy as np\n",
    "import pandas as pd\n",
    "from nltk import tokenize\n",
    "import pprint, re, time\n",
    "\n",
    "pd.options.display.max_colwidth = 1000"
   ]
  },
  {
   "cell_type": "code",
   "execution_count": 26,
   "metadata": {},
   "outputs": [],
   "source": [
    "import codecs\n",
    "\n",
    "with codecs.open('news/NewsArticles.csv', 'r', 'utf-8', 'ignore') as f:\n",
    "    df = pd.read_csv(f)\n",
    "\n",
    "df = df.iloc[:,0:6]"
   ]
  },
  {
   "cell_type": "code",
   "execution_count": 37,
   "metadata": {},
   "outputs": [
    {
     "output_type": "execute_result",
     "data": {
      "text/plain": "51                              #MyFreedomDay: Students stand up to slavery on March 14\n103                                                   Your pictures: Broken resolutions\n293    Germany's new astronaut Matthias Maurer eyes 2020 mission and Chinese space ties\n294                                  Poland debates approach to new World War II museum\n295                          Why the world is turning to Hannah Arendt to explain Trump\n296                           Lady Gaga, Merkel and heretics meet in monumental artwork\n297                            Salt poses threat to Senegal's Sin Saloum Delta wetlands\n298       The wetlands along the river Rhine struggle to recover from human engineering\n299                Beyonce announces twins, giving fans appreciated break from politics\n929                                         Only 30 left: Vaquita numbers keep dropping\nName: title, dtype: object"
     },
     "metadata": {},
     "execution_count": 37
    }
   ],
   "source": [
    "df['title']"
   ]
  },
  {
   "cell_type": "code",
   "execution_count": 34,
   "metadata": {},
   "outputs": [
    {
     "output_type": "execute_result",
     "data": {
      "text/plain": "10"
     },
     "metadata": {},
     "execution_count": 34
    }
   ],
   "source": [
    "# 2017/2/2（10本）の記事からなるテストデータを作成\n",
    "df = df[df['publish_date'] == '2017/2/2']\n",
    "len(df)"
   ]
  },
  {
   "cell_type": "code",
   "execution_count": 52,
   "metadata": {
    "tags": []
   },
   "outputs": [],
   "source": [
    "#　センテンスのリストを作る\n",
    "sentence_list = []\n",
    "for content in df['text']:\n",
    "    if type(content) is str:\n",
    "        sentences = tokenize.sent_tokenize(content)\n",
    "        for sentence in sentences:\n",
    "            sentence_list.append(sentence)\n",
    "    else:\n",
    "        pass"
   ]
  },
  {
   "cell_type": "code",
   "execution_count": 55,
   "metadata": {
    "tags": []
   },
   "outputs": [],
   "source": [
    "# OpenIEにかける\n",
    "from pyopenie import OpenIE5\n",
    "extractor = OpenIE5('http://localhost:8000')\n",
    "\n",
    "extractions_list = []\n",
    "for sentence in sentence_list:\n",
    "    try:\n",
    "        extractions = extractor.extract(sentence)\n",
    "        extractions_list.append(extractions)\n",
    "    except Exception:\n",
    "        pass"
   ]
  },
  {
   "cell_type": "code",
   "execution_count": 56,
   "metadata": {
    "tags": []
   },
   "outputs": [],
   "source": [
    "rows = []\n",
    "for extractions in extractions_list:\n",
    "    if extractions == []:\n",
    "        pass\n",
    "    else:\n",
    "        for extraction in extractions:\n",
    "            sentence = extraction['sentence']\n",
    "            confidence = extraction['confidence']\n",
    "            arg1 = extraction['extraction']['arg1']['text']\n",
    "            rel = extraction['extraction']['rel']['text']\n",
    "            arg2s_list = []\n",
    "            for arg2 in extraction['extraction']['arg2s']:\n",
    "                arg2s_list.append(arg2['text'])\n",
    "            arg2s = ' '.join(map(str, arg2s_list))\n",
    "            row = [sentence, arg1, rel, arg2s, confidence]\n",
    "        rows.append(row)"
   ]
  },
  {
   "cell_type": "code",
   "execution_count": 57,
   "metadata": {
    "tags": []
   },
   "outputs": [
    {
     "output_type": "execute_result",
     "data": {
      "text/plain": "                                                                                                                 sentence  \\\n0  Although slavery is outlawed in every country, criminals earn more than $150 Billion every year from enslaving people.   \n1                                                                                      But you can do something about it.   \n2                                            On MARCH 14, 2017, we want YOU and your school to join us for #MyFreedomDay.   \n3  We're asking students to organize events at their school on the day to highlight modern slavery and celebrate freedom.   \n4         The schools that show the most spirit in fighting slavery will be featured on CNN TV, CNN.com and CNN Facebook.   \n\n          arg1          rel  \\\n0      slavery  is outlawed   \n1          you       can do   \n2           we         want   \n3           We   're asking   \n4  The schools         show   \n\n                                                                                arg2s  \\\n0                                                                    in every country   \n1                                                                  something about it   \n2                                YOU to join us for # MyFreedomDay On MARCH 14 , 2017   \n3  students to organize events at their school on the day to highlight modern slavery   \n4                                                 the most spirit in fighting slavery   \n\n   confidence  \n0    0.894243  \n1    0.464930  \n2    0.495379  \n3    0.417635  \n4    0.912624  ",
      "text/html": "<div>\n<style scoped>\n    .dataframe tbody tr th:only-of-type {\n        vertical-align: middle;\n    }\n\n    .dataframe tbody tr th {\n        vertical-align: top;\n    }\n\n    .dataframe thead th {\n        text-align: right;\n    }\n</style>\n<table border=\"1\" class=\"dataframe\">\n  <thead>\n    <tr style=\"text-align: right;\">\n      <th></th>\n      <th>sentence</th>\n      <th>arg1</th>\n      <th>rel</th>\n      <th>arg2s</th>\n      <th>confidence</th>\n    </tr>\n  </thead>\n  <tbody>\n    <tr>\n      <th>0</th>\n      <td>Although slavery is outlawed in every country, criminals earn more than $150 Billion every year from enslaving people.</td>\n      <td>slavery</td>\n      <td>is outlawed</td>\n      <td>in every country</td>\n      <td>0.894243</td>\n    </tr>\n    <tr>\n      <th>1</th>\n      <td>But you can do something about it.</td>\n      <td>you</td>\n      <td>can do</td>\n      <td>something about it</td>\n      <td>0.464930</td>\n    </tr>\n    <tr>\n      <th>2</th>\n      <td>On MARCH 14, 2017, we want YOU and your school to join us for #MyFreedomDay.</td>\n      <td>we</td>\n      <td>want</td>\n      <td>YOU to join us for # MyFreedomDay On MARCH 14 , 2017</td>\n      <td>0.495379</td>\n    </tr>\n    <tr>\n      <th>3</th>\n      <td>We're asking students to organize events at their school on the day to highlight modern slavery and celebrate freedom.</td>\n      <td>We</td>\n      <td>'re asking</td>\n      <td>students to organize events at their school on the day to highlight modern slavery</td>\n      <td>0.417635</td>\n    </tr>\n    <tr>\n      <th>4</th>\n      <td>The schools that show the most spirit in fighting slavery will be featured on CNN TV, CNN.com and CNN Facebook.</td>\n      <td>The schools</td>\n      <td>show</td>\n      <td>the most spirit in fighting slavery</td>\n      <td>0.912624</td>\n    </tr>\n  </tbody>\n</table>\n</div>"
     },
     "metadata": {},
     "execution_count": 57
    }
   ],
   "source": [
    "kb_df = pd.DataFrame(rows, columns = ['sentence', 'arg1', 'rel', 'arg2s', 'confidence'])\n",
    "kb_df.head()"
   ]
  },
  {
   "cell_type": "code",
   "execution_count": 58,
   "metadata": {},
   "outputs": [
    {
     "output_type": "execute_result",
     "data": {
      "text/plain": "261"
     },
     "metadata": {},
     "execution_count": 58
    }
   ],
   "source": [
    "len(kb_df)"
   ]
  },
  {
   "cell_type": "code",
   "execution_count": 59,
   "metadata": {},
   "outputs": [],
   "source": [
    "from db import connect\n",
    "engine = connect()\n",
    "kb_df.to_sql(name='news',con=engine,if_exists='replace',index=None)"
   ]
  },
  {
   "cell_type": "code",
   "execution_count": null,
   "metadata": {},
   "outputs": [],
   "source": []
  }
 ],
 "metadata": {
  "kernelspec": {
   "display_name": "Python 3",
   "language": "python",
   "name": "python3"
  },
  "language_info": {
   "codemirror_mode": {
    "name": "ipython",
    "version": 3
   },
   "file_extension": ".py",
   "mimetype": "text/x-python",
   "name": "python",
   "nbconvert_exporter": "python",
   "pygments_lexer": "ipython3",
   "version": "3.7.7-final"
  }
 },
 "nbformat": 4,
 "nbformat_minor": 4
}