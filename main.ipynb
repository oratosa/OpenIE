{
 "cells": [
  {
   "cell_type": "code",
   "execution_count": 1,
   "metadata": {},
   "outputs": [],
   "source": [
    "import os, sys, email\n",
    "import numpy as np\n",
    "import pandas as pd\n",
    "from nltk import tokenize\n",
    "import pprint, re, time\n",
    "\n",
    "pd.options.display.max_colwidth = 1000"
   ]
  },
  {
   "cell_type": "code",
   "execution_count": 3,
   "metadata": {},
   "outputs": [],
   "source": [
    "from loadFile import getFileList, getDirList, fileToDataFrame\n",
    "\n",
    "# ディレクトリ 内のメールファイルを読み込む\n",
    "directory_path = \"enron/maildir/allen-p/sent\"\n",
    "file_list = getFileList(directory_path)\n",
    "\n",
    "# テキストファイルをデータフレームに格納する\n",
    "df = fileToDataFrame(file_list)"
   ]
  },
  {
   "cell_type": "code",
   "execution_count": 4,
   "metadata": {},
   "outputs": [
    {
     "output_type": "execute_result",
     "data": {
      "text/plain": "                              Path  \\\n0   enron/maildir/allen-p/sent/36.   \n1  enron/maildir/allen-p/sent/313.   \n2  enron/maildir/allen-p/sent/264.   \n3  enron/maildir/allen-p/sent/166.   \n4  enron/maildir/allen-p/sent/412.   \n\n                                      Message-ID  \\\n0   <3475906.1075855680543.JavaMail.evans@thyme>   \n1  <28759434.1075855713622.JavaMail.evans@thyme>   \n2  <29864817.1075855685505.JavaMail.evans@thyme>   \n3  <13269622.1075855683379.JavaMail.evans@thyme>   \n4   <4050541.1075855715779.JavaMail.evans@thyme>   \n\n                                    Date                     From  \\\n0  Tue, 31 Oct 2000 04:44:00 -0800 (PST)  phillip.allen@enron.com   \n1   Tue, 1 May 2001 07:14:00 -0700 (PDT)  phillip.allen@enron.com   \n2  Mon, 21 Feb 2000 23:03:00 -0800 (PST)  phillip.allen@enron.com   \n3  Mon, 17 Jul 2000 03:46:00 -0700 (PDT)  phillip.allen@enron.com   \n4   Thu, 8 Mar 2001 06:46:00 -0800 (PST)     ina.rangel@enron.com   \n\n                                 To    Cc   Bcc           X-From  \\\n0           stephen.stock@enron.com  None  None  Phillip K Allen   \n1              ina.rangel@enron.com  None  None  Phillip K Allen   \n2               jsmith@austintx.com  None  None  Phillip K Allen   \n3              paul.lucci@enron.com  None  None  Phillip K Allen   \n4  information.management@enron.com  None  None       Ina Rangel   \n\n                                 X-To X-cc X-bcc  \\\n0                       Stephen Stock              \n1                          Ina Rangel              \n2  \"Jeff Smith\" <jsmith@austintx.com>              \n3                        Paul T Lucci              \n4         Information Risk Management              \n\n                                    Subject  \\\n0               Re: Astral downtime request   \n1     4-URGENT - OWA Please print this now.   \n2                               Re: 91acres   \n3  Comments on Order 637 Compliance Filings   \n4                              Mike Grigsby   \n\n                                                                                                                                                                                                                                                                                                                                                                                                                                                                                                                                                                                                                                                                                                                                                                                                                                                                                                                                                                                                                                   Message  \n0                                                                                                                                                                                                                                                                                                                                                                                                                                                                                                                                                                                                                                                                                                                                                                                                                                                                                                                                           Steve,\\n\\nThank you for the update.  The need is still great for this disk space.  \\n\\nPhillip  \n1  ---------------------- Forwarded by Phillip K Allen/HOU/ECT on 05/01/2001 \\n02:14 PM ---------------------------\\n\\n\\nOutlook Migration Team@ENRON\\n04/27/2001 01:01 PM\\nTo: Allison Horton/NA/Enron@ENRON, Amir Baig/NA/Enron@ENRON, Brandon \\nBangerter/NA/Enron@Enron, Brian Ellis/Corp/Enron@Enron, Charles \\nPhilpott/HR/Corp/Enron@ENRON, Chris P Wood/NA/Enron@Enron, Chris \\nTull/HOU/ECT@ECT, Dale Smith/Corp/Enron@ENRON, Dave June/NA/Enron@ENRON, \\nDonald Sutton/NA/Enron@Enron, Felicia Buenrostro/HR/Corp/Enron@ENRON, Johnna \\nMorrison/Corp/Enron@ENRON, Joe Dorn/Corp/Enron@ENRON, Kathryn \\nSchultea/HR/Corp/Enron@ENRON, Leon McDowell/NA/Enron@ENRON, Leticia \\nBarrios/Corp/Enron@ENRON, Milton Brown/HR/Corp/Enron@ENRON, Raj \\nPerubhatla/Corp/Enron@Enron, Shekar Komatireddy/NA/Enron@Enron, Andrea \\nYowman/Corp/Enron@ENRON, Angie O'Brian/HR/Corp/Enron@ENRON, Bonne \\nCastellano/HR/Corp/Enron@ENRON, Gwynn Gorsuch/NA/Enron@ENRON, Jo Ann \\nMatson/Corp/Enron@ENRON, LaQuitta Washington/HR/Corp/Enro...  \n2                                                                                                                                                                                                                                                                                                                                                                                                                                                                                                                                                                                                                                                                                                                                                                                                                                                                                                                                                                                        Jeff,\\n\\n Let's just close on March 1.\\n\\nPhillip  \n3  fyi  CIG\\n\\n---------------------- Forwarded by Phillip K Allen/HOU/ECT on 07/17/2000 \\n10:45 AM ---------------------------\\n   \\n\\tEnron North America Corp.\\n\\t\\n\\tFrom:  Rebecca W Cantrell                           07/14/2000 02:31 PM\\n\\t\\n\\nTo: Julie A Gomez/HOU/ECT@ECT, Stephanie Miller/Corp/Enron@ENRON, Chris \\nMeyer/HOU/ECT@ECT, Judy Townsend/HOU/ECT@ECT, Theresa Branney/HOU/ECT@ECT, \\nPaul T Lucci/DEN/ECT@Enron, Jane M Tholt/HOU/ECT@ECT, Steven P \\nSouth/HOU/ECT@ECT, Frank Ermis/HOU/ECT@ECT, Susan W Pereira/HOU/ECT@ECT, \\nGeorge Smith/HOU/ECT@ECT, Randall L Gay/HOU/ECT@ECT, Jim Homco/HOU/ECT@ECT, \\nColleen Sullivan/HOU/ECT@ECT, Hunter S Shively/HOU/ECT@ECT, Ray \\nHamman/HOU/EES@EES, Robert Superty/HOU/ECT@ECT, Edward Terry/HOU/ECT@ECT, \\nScott Neal/HOU/ECT@ECT, Tori Kuykendall/HOU/ECT@ECT, Brenda H \\nFletcher/HOU/ECT@ECT, Jeff Coates/HOU/EES@EES, John Hodge/Corp/Enron@ENRON, \\nJanet Edwards/Corp/Enron@ENRON, Ruth Concannon/HOU/ECT@ECT, Sylvia A \\nCampos/HOU/ECT@ECT, Paul Ta...  \n4                                                                                                                                                                                                                                                                                                                                                                                                                                                                                                                                                                                                                                                                                                                                                                                                                                                                                                                                                                Please approve Mike Grigsby for Bloomberg.  \\n\\nThank You,\\nPhillip Allen  ",
      "text/html": "<div>\n<style scoped>\n    .dataframe tbody tr th:only-of-type {\n        vertical-align: middle;\n    }\n\n    .dataframe tbody tr th {\n        vertical-align: top;\n    }\n\n    .dataframe thead th {\n        text-align: right;\n    }\n</style>\n<table border=\"1\" class=\"dataframe\">\n  <thead>\n    <tr style=\"text-align: right;\">\n      <th></th>\n      <th>Path</th>\n      <th>Message-ID</th>\n      <th>Date</th>\n      <th>From</th>\n      <th>To</th>\n      <th>Cc</th>\n      <th>Bcc</th>\n      <th>X-From</th>\n      <th>X-To</th>\n      <th>X-cc</th>\n      <th>X-bcc</th>\n      <th>Subject</th>\n      <th>Message</th>\n    </tr>\n  </thead>\n  <tbody>\n    <tr>\n      <th>0</th>\n      <td>enron/maildir/allen-p/sent/36.</td>\n      <td>&lt;3475906.1075855680543.JavaMail.evans@thyme&gt;</td>\n      <td>Tue, 31 Oct 2000 04:44:00 -0800 (PST)</td>\n      <td>phillip.allen@enron.com</td>\n      <td>stephen.stock@enron.com</td>\n      <td>None</td>\n      <td>None</td>\n      <td>Phillip K Allen</td>\n      <td>Stephen Stock</td>\n      <td></td>\n      <td></td>\n      <td>Re: Astral downtime request</td>\n      <td>Steve,\\n\\nThank you for the update.  The need is still great for this disk space.  \\n\\nPhillip</td>\n    </tr>\n    <tr>\n      <th>1</th>\n      <td>enron/maildir/allen-p/sent/313.</td>\n      <td>&lt;28759434.1075855713622.JavaMail.evans@thyme&gt;</td>\n      <td>Tue, 1 May 2001 07:14:00 -0700 (PDT)</td>\n      <td>phillip.allen@enron.com</td>\n      <td>ina.rangel@enron.com</td>\n      <td>None</td>\n      <td>None</td>\n      <td>Phillip K Allen</td>\n      <td>Ina Rangel</td>\n      <td></td>\n      <td></td>\n      <td>4-URGENT - OWA Please print this now.</td>\n      <td>---------------------- Forwarded by Phillip K Allen/HOU/ECT on 05/01/2001 \\n02:14 PM ---------------------------\\n\\n\\nOutlook Migration Team@ENRON\\n04/27/2001 01:01 PM\\nTo: Allison Horton/NA/Enron@ENRON, Amir Baig/NA/Enron@ENRON, Brandon \\nBangerter/NA/Enron@Enron, Brian Ellis/Corp/Enron@Enron, Charles \\nPhilpott/HR/Corp/Enron@ENRON, Chris P Wood/NA/Enron@Enron, Chris \\nTull/HOU/ECT@ECT, Dale Smith/Corp/Enron@ENRON, Dave June/NA/Enron@ENRON, \\nDonald Sutton/NA/Enron@Enron, Felicia Buenrostro/HR/Corp/Enron@ENRON, Johnna \\nMorrison/Corp/Enron@ENRON, Joe Dorn/Corp/Enron@ENRON, Kathryn \\nSchultea/HR/Corp/Enron@ENRON, Leon McDowell/NA/Enron@ENRON, Leticia \\nBarrios/Corp/Enron@ENRON, Milton Brown/HR/Corp/Enron@ENRON, Raj \\nPerubhatla/Corp/Enron@Enron, Shekar Komatireddy/NA/Enron@Enron, Andrea \\nYowman/Corp/Enron@ENRON, Angie O'Brian/HR/Corp/Enron@ENRON, Bonne \\nCastellano/HR/Corp/Enron@ENRON, Gwynn Gorsuch/NA/Enron@ENRON, Jo Ann \\nMatson/Corp/Enron@ENRON, LaQuitta Washington/HR/Corp/Enro...</td>\n    </tr>\n    <tr>\n      <th>2</th>\n      <td>enron/maildir/allen-p/sent/264.</td>\n      <td>&lt;29864817.1075855685505.JavaMail.evans@thyme&gt;</td>\n      <td>Mon, 21 Feb 2000 23:03:00 -0800 (PST)</td>\n      <td>phillip.allen@enron.com</td>\n      <td>jsmith@austintx.com</td>\n      <td>None</td>\n      <td>None</td>\n      <td>Phillip K Allen</td>\n      <td>\"Jeff Smith\" &lt;jsmith@austintx.com&gt;</td>\n      <td></td>\n      <td></td>\n      <td>Re: 91acres</td>\n      <td>Jeff,\\n\\n Let's just close on March 1.\\n\\nPhillip</td>\n    </tr>\n    <tr>\n      <th>3</th>\n      <td>enron/maildir/allen-p/sent/166.</td>\n      <td>&lt;13269622.1075855683379.JavaMail.evans@thyme&gt;</td>\n      <td>Mon, 17 Jul 2000 03:46:00 -0700 (PDT)</td>\n      <td>phillip.allen@enron.com</td>\n      <td>paul.lucci@enron.com</td>\n      <td>None</td>\n      <td>None</td>\n      <td>Phillip K Allen</td>\n      <td>Paul T Lucci</td>\n      <td></td>\n      <td></td>\n      <td>Comments on Order 637 Compliance Filings</td>\n      <td>fyi  CIG\\n\\n---------------------- Forwarded by Phillip K Allen/HOU/ECT on 07/17/2000 \\n10:45 AM ---------------------------\\n   \\n\\tEnron North America Corp.\\n\\t\\n\\tFrom:  Rebecca W Cantrell                           07/14/2000 02:31 PM\\n\\t\\n\\nTo: Julie A Gomez/HOU/ECT@ECT, Stephanie Miller/Corp/Enron@ENRON, Chris \\nMeyer/HOU/ECT@ECT, Judy Townsend/HOU/ECT@ECT, Theresa Branney/HOU/ECT@ECT, \\nPaul T Lucci/DEN/ECT@Enron, Jane M Tholt/HOU/ECT@ECT, Steven P \\nSouth/HOU/ECT@ECT, Frank Ermis/HOU/ECT@ECT, Susan W Pereira/HOU/ECT@ECT, \\nGeorge Smith/HOU/ECT@ECT, Randall L Gay/HOU/ECT@ECT, Jim Homco/HOU/ECT@ECT, \\nColleen Sullivan/HOU/ECT@ECT, Hunter S Shively/HOU/ECT@ECT, Ray \\nHamman/HOU/EES@EES, Robert Superty/HOU/ECT@ECT, Edward Terry/HOU/ECT@ECT, \\nScott Neal/HOU/ECT@ECT, Tori Kuykendall/HOU/ECT@ECT, Brenda H \\nFletcher/HOU/ECT@ECT, Jeff Coates/HOU/EES@EES, John Hodge/Corp/Enron@ENRON, \\nJanet Edwards/Corp/Enron@ENRON, Ruth Concannon/HOU/ECT@ECT, Sylvia A \\nCampos/HOU/ECT@ECT, Paul Ta...</td>\n    </tr>\n    <tr>\n      <th>4</th>\n      <td>enron/maildir/allen-p/sent/412.</td>\n      <td>&lt;4050541.1075855715779.JavaMail.evans@thyme&gt;</td>\n      <td>Thu, 8 Mar 2001 06:46:00 -0800 (PST)</td>\n      <td>ina.rangel@enron.com</td>\n      <td>information.management@enron.com</td>\n      <td>None</td>\n      <td>None</td>\n      <td>Ina Rangel</td>\n      <td>Information Risk Management</td>\n      <td></td>\n      <td></td>\n      <td>Mike Grigsby</td>\n      <td>Please approve Mike Grigsby for Bloomberg.  \\n\\nThank You,\\nPhillip Allen</td>\n    </tr>\n  </tbody>\n</table>\n</div>"
     },
     "metadata": {},
     "execution_count": 4
    }
   ],
   "source": [
    "df.head()"
   ]
  },
  {
   "cell_type": "code",
   "execution_count": 5,
   "metadata": {
    "tags": []
   },
   "outputs": [
    {
     "output_type": "stream",
     "name": "stdout",
     "text": "0.36233067512512207 s\n"
    }
   ],
   "source": [
    "#ドキュメント（メッセージ）をセンテンスに分解する\n",
    "from preProcess import toSentences\n",
    "\n",
    "sent_dict = {'Message-ID':[],\n",
    "            'Sentence-ID':[],\n",
    "            'Sentence':[]}\n",
    "\n",
    "start = time.time()\n",
    "\n",
    "for i,message in enumerate(df['Message']):\n",
    "    sentences = toSentences(message)\n",
    "    sent_dict['Message-ID'].extend([df['Message-ID'][i]] * len(sentences))\n",
    "    sent_dict['Sentence-ID'].extend(range(len(sentences)))\n",
    "    sent_dict['Sentence'].extend(sentences)\n",
    "\n",
    "sentence_df = pd.DataFrame.from_dict(sent_dict,orient='columns')\n",
    "\n",
    "end = time.time()\n",
    "print(end-start,'s')"
   ]
  },
  {
   "cell_type": "code",
   "execution_count": 7,
   "metadata": {},
   "outputs": [
    {
     "output_type": "execute_result",
     "data": {
      "text/plain": "\"---------------------- Forwarded by Phillip K Allen/HOU/ECT on 05/01/2001 02:14 PM --------------------------- Outlook Migration Team@ENRON 04/27/2001 01:01 PM To: Allison Horton/NA/Enron@ENRON, Amir Baig/NA/Enron@ENRON, Brandon Bangerter/NA/Enron@Enron, Brian Ellis/Corp/Enron@Enron, Charles Philpott/HR/Corp/Enron@ENRON, Chris P Wood/NA/Enron@Enron, Chris Tull/HOU/ECT@ECT, Dale Smith/Corp/Enron@ENRON, Dave June/NA/Enron@ENRON, Donald Sutton/NA/Enron@Enron, Felicia Buenrostro/HR/Corp/Enron@ENRON, Johnna Morrison/Corp/Enron@ENRON, Joe Dorn/Corp/Enron@ENRON, Kathryn Schultea/HR/Corp/Enron@ENRON, Leon McDowell/NA/Enron@ENRON, Leticia Barrios/Corp/Enron@ENRON, Milton Brown/HR/Corp/Enron@ENRON, Raj Perubhatla/Corp/Enron@Enron, Shekar Komatireddy/NA/Enron@Enron, Andrea Yowman/Corp/Enron@ENRON, Angie O'Brian/HR/Corp/Enron@ENRON, Bonne Castellano/HR/Corp/Enron@ENRON, Gwynn Gorsuch/NA/Enron@ENRON, Jo Ann Matson/Corp/Enron@ENRON, LaQuitta Washington/HR/Corp/Enron@ENRON, Rick Johnson/HR/Corp/Enron@ENRON, Sandra Lighthill/HR/Corp/Enron@ENRON, Valeria A Hope/HOU/ECT@ECT, Charlotte Brown/HR/Corp/Enron@ENRON, Ronald Fain/HR/Corp/Enron@ENRON, Gary Fitch/HR/Corp/Enron@Enron, Anna Harris/HR/Corp/Enron@ENRON, Keith Jones/HR/Corp/Enron@ENRON, Kristi Monson/NA/Enron@Enron, Bobbie McNiel/HR/Corp/Enron@ENRON, John Stabler/HR/Corp/Enron@ENRON, Michelle Prince/NA/Enron@Enron, James Gramke/NA/Enron@ENRON, Blair Hicks/NA/Enron@ENRON, Jennifer Johnson/Contractor/Enron Communications@Enron Communications, Jim Little/Enron@EnronXGate, Dale Lukert/NA/Enron@ENRON, Donald Martin/NA/Enron@ENRON, Andrew Mattei/NA/Enron@ENRON, Darvin Mitchell/NA/Enron@ENRON, Mark Oldham/NA/Enron@ENRON, Wesley Pearson/NA/Enron@ENRON, Ramon Pizarro/ENRON_DEVELOPMENT@ENRON_DEVELOPMENT, Natalie Rau/NA/Enron@ENRON, William Redick/NA/Enron@ENRON, Mark A Richardson/NA/Enron@ENRON, Joseph Schnieders/NA/Enron@ENRON, Gary Simmons/NA/Enron@Enron, Delaney Trimble/NA/Enron@ENRON, David Upton/NA/Enron@ENRON, Mike Boegler/HR/Corp/Enron@ENRON, Lyndel Click/HR/Corp/Enron@ENRON, Gabriel Franco/NA/Enron@Enron, Randy Gross/HR/Corp/Enron@Enron, Arthur Johnson/HR/Corp/Enron@Enron, Danny Jones/HR/Corp/Enron@ENRON, John Ogden/Houston/Eott@Eott, Edgar Ponce/NA/Enron@Enron, Tracy Pursifull/HR/Corp/Enron@ENRON, Lance Stanley/HR/Corp/Enron@ENRON, Frank Ermis/HOU/ECT@ECT, Jane M Tholt/HOU/ECT@ECT, Jay Reitmeyer/HOU/ECT@ECT, Keith Holst/HOU/ECT@ect, Matthew Lenhart/HOU/ECT@ECT, Mike Grigsby/HOU/ECT@ECT, Monique Sanchez/HOU/ECT@ECT, Phillip K Allen/HOU/ECT@ECT, Randall L Gay/HOU/ECT@ECT, Tori Kuykendall/HOU/ECT@ECT, Brenda H Fletcher/HOU/ECT@ECT, Jeanne Wukasch/Corp/Enron@ENRON, Mary Theresa Franklin/HOU/ECT@ECT, Mike Potter/NA/Enron@Enron, Natalie Baker/HOU/ECT@ECT, Suzanne Calcagno/NA/Enron@Enron, Alvin Thompson/Corp/Enron@Enron, Cynthia Franklin/Corp/Enron@ENRON, Jesse Villarreal/HOU/ECT@ECT, Joan Collins/HOU/EES@EES, Joe A Casas/HOU/ECT@ECT, Kelly Loocke/ENRON@enronXgate, Lia Halstead/NA/Enron@ENRON, Meredith Homco/HOU/ECT@ECT, Robert Allwein/HOU/ECT@ECT, Scott Loving/NA/Enron@ENRON, Shanna Boudreaux/ENRON@enronXgate, Steve Gillespie/Corp/Enron@ENRON, Tamara Carter/NA/Enron@ENRON, Tracy Wood/NA/Enron@ENRON, Gabriel Fuzat/Enron Communications@Enron Communications, Jack Netek/Enron Communications@Enron Communications, Lam Nguyen/NA/Enron@Enron, Camille Gerard/Corp/Enron@ENRON, Craig Taylor/HOU/ECT@ECT, Jessica Hangach/NYC/MGUSA@MGUSA, Kathy Gagel/NYC/MGUSA@MGUSA, Lisa Goulart/NYC/MGUSA@MGUSA, Ruth Balladares/NYC/MGUSA@MGUSA, Sid Strutt/NYC/MGUSA@MGUSA cc: Subject: 4-URGENT - OWA Please print this now.\""
     },
     "metadata": {},
     "execution_count": 7
    }
   ],
   "source": [
    "sentence_df['Sentence'][3]"
   ]
  },
  {
   "cell_type": "code",
   "execution_count": 9,
   "metadata": {
    "tags": []
   },
   "outputs": [
    {
     "output_type": "stream",
     "name": "stdout",
     "text": "822.5015578269958 s\n"
    }
   ],
   "source": [
    "from extraction import tripleExtraction, entityExtraction, NERtripleExtraction\n",
    "\n",
    "triple_dict = {'Message-ID':[],\n",
    "             'Sentence-ID':[],\n",
    "             'Triple':[]}\n",
    "\n",
    "start = time.time()\n",
    "\n",
    "for i, sentence in enumerate(sentence_df['Sentence']):\n",
    "    triples = tripleExtraction(sentence)\n",
    "    entities = entityExtraction(sentence)\n",
    "    nertriples = NERtripleExtraction(triples, entities)\n",
    "    if nertriples is None:\n",
    "        pass\n",
    "    else:\n",
    "        triple_dict['Message-ID'].extend([sentence_df['Message-ID'][i]] * len(nertriples))\n",
    "        triple_dict['Sentence-ID'].extend([sentence_df['Sentence-ID'][i]] * len(nertriples))\n",
    "        triple_dict['Triple'].extend(nertriples)\n",
    "\n",
    "triple_df = pd.DataFrame.from_dict(triple_dict,orient='columns')\n",
    "\n",
    "end = time.time()\n",
    "print(end-start,'s')"
   ]
  },
  {
   "cell_type": "code",
   "execution_count": 11,
   "metadata": {
    "tags": []
   },
   "outputs": [
    {
     "output_type": "stream",
     "name": "stdout",
     "text": "<class 'pandas.core.frame.DataFrame'>\nRangeIndex: 217 entries, 0 to 216\nData columns (total 3 columns):\n #   Column       Non-Null Count  Dtype \n---  ------       --------------  ----- \n 0   Message-ID   217 non-null    object\n 1   Sentence-ID  217 non-null    int64 \n 2   Triple       217 non-null    object\ndtypes: int64(1), object(2)\nmemory usage: 5.2+ KB\n"
    }
   ],
   "source": [
    "triple_df.info()"
   ]
  },
  {
   "cell_type": "code",
   "execution_count": 12,
   "metadata": {
    "tags": []
   },
   "outputs": [
    {
     "output_type": "stream",
     "name": "stdout",
     "text": "<class 'pandas.core.frame.DataFrame'>\nRangeIndex: 562 entries, 0 to 561\nData columns (total 13 columns):\n #   Column      Non-Null Count  Dtype \n---  ------      --------------  ----- \n 0   Path        562 non-null    object\n 1   Message-ID  562 non-null    object\n 2   Date        562 non-null    object\n 3   From        562 non-null    object\n 4   To          561 non-null    object\n 5   Cc          19 non-null     object\n 6   Bcc         19 non-null     object\n 7   X-From      562 non-null    object\n 8   X-To        562 non-null    object\n 9   X-cc        562 non-null    object\n 10  X-bcc       562 non-null    object\n 11  Subject     562 non-null    object\n 12  Message     562 non-null    object\ndtypes: object(13)\nmemory usage: 57.2+ KB\n"
    }
   ],
   "source": [
    "df.info()"
   ]
  },
  {
   "cell_type": "code",
   "execution_count": 13,
   "metadata": {
    "tags": []
   },
   "outputs": [
    {
     "output_type": "stream",
     "name": "stdout",
     "text": "<class 'pandas.core.frame.DataFrame'>\nRangeIndex: 4038 entries, 0 to 4037\nData columns (total 3 columns):\n #   Column       Non-Null Count  Dtype \n---  ------       --------------  ----- \n 0   Message-ID   4038 non-null   object\n 1   Sentence-ID  4038 non-null   int64 \n 2   Sentence     4038 non-null   object\ndtypes: int64(1), object(2)\nmemory usage: 94.8+ KB\n"
    }
   ],
   "source": [
    "sentence_df.info()"
   ]
  },
  {
   "cell_type": "code",
   "execution_count": 18,
   "metadata": {},
   "outputs": [],
   "source": [
    "from db import connect\n",
    "engine = connect()"
   ]
  },
  {
   "cell_type": "code",
   "execution_count": 19,
   "metadata": {},
   "outputs": [],
   "source": [
    "df.to_sql('mail', con=engine, if_exists='append', index=False)"
   ]
  },
  {
   "cell_type": "code",
   "execution_count": 20,
   "metadata": {},
   "outputs": [],
   "source": [
    "sentence_df.to_sql('sentence', con=engine, if_exists='append', index=False)"
   ]
  },
  {
   "cell_type": "code",
   "execution_count": 21,
   "metadata": {},
   "outputs": [],
   "source": [
    "triple_df.to_sql('triple', con=engine, if_exists='append', index=False)"
   ]
  },
  {
   "cell_type": "code",
   "execution_count": 10,
   "metadata": {},
   "outputs": [],
   "source": [
    "#output = pd.merge(df[['Path','Message-ID','Subject']],pd.merge(sentence_df,triple_df,on=['Message-ID','Sentence-ID']),on='Message-ID')\n",
    "#output.to_csv('output/allen_p_inbox_triple4.csv')\n",
    "#output.groupby(['Path','Sentence-ID','Sentence','Triple']).agg({'Triple':'unique'}).to_csv('output/allen_p_inbox_triple4.csv')"
   ]
  }
 ],
 "metadata": {
  "kernelspec": {
   "display_name": "Python 3",
   "language": "python",
   "name": "python3"
  },
  "language_info": {
   "codemirror_mode": {
    "name": "ipython",
    "version": 3
   },
   "file_extension": ".py",
   "mimetype": "text/x-python",
   "name": "python",
   "nbconvert_exporter": "python",
   "pygments_lexer": "ipython3",
   "version": "3.7.3"
  }
 },
 "nbformat": 4,
 "nbformat_minor": 4
}