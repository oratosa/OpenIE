{
 "cells": [
  {
   "cell_type": "code",
   "execution_count": 120,
   "metadata": {},
   "outputs": [],
   "source": [
    "import os, sys, email\n",
    "import numpy as np\n",
    "import pandas as pd\n",
    "import nltk\n",
    "import pprint, re, time\n",
    "\n",
    "pd.options.display.max_colwidth = 1000"
   ]
  },
  {
   "cell_type": "code",
   "execution_count": 121,
   "metadata": {},
   "outputs": [],
   "source": [
    "from loadFile import getFileList, getDirList, fileToDataFrame\n",
    "\n",
    "# ディレクトリ 内のメールファイルを読み込む\n",
    "directory_path = \"wiki-research-l/2020-July\"\n",
    "file_list = getFileList(directory_path)\n",
    "file_list.sort()\n",
    "\n",
    "# テキストファイルをデータフレームに格納する\n",
    "mail_df, thread_df = fileToDataFrame(file_list)"
   ]
  },
  {
   "cell_type": "code",
   "execution_count": 214,
   "metadata": {},
   "outputs": [],
   "source": [
    "# メールのBody部分を各パートに分解する\n",
    "bodies = dict(Bodies=[])\n",
    "for idx, body in mail_df.loc[:,'Body'].items():\n",
    "    origin = []\n",
    "    greetings = dict(Greetings=[])\n",
    "    sentences = dict(Sentence=[])\n",
    "    captions = dict(Caption=[])\n",
    "    bulletlist = dict(Bulletlist=[])\n",
    "    ending = dict(Ending=[])\n",
    "    quotation = dict(Quotation=[])\n",
    "    footer = dict(Footer=[])\n",
    "    misc = dict(Misc=[])\n",
    "\n",
    "    lines = body.splitlines()\n",
    "    for num, line in enumerate(lines):\n",
    "        if re.match(r'\\[G\\]',line) is not None:\n",
    "            greetings['Greetings'].append({num:line[3:]})\n",
    "            origin.append(line[3:])\n",
    "        elif re.match(r'\\[S\\]',line) is not None:\n",
    "            sentences['Sentence'].append({num:line[3:]})\n",
    "            origin.append(line[3:])\n",
    "        elif re.match(r'\\[C\\]',line) is not None:\n",
    "            captions['Caption'].append({num:line[3:]})\n",
    "            origin.append(line[3:])\n",
    "        elif re.match(r'\\[B\\]',line) is not None:\n",
    "            bulletlist['Bulletlist'].append({num:line[3:]})\n",
    "            origin.append(line[3:])\n",
    "        elif re.match(r'\\[E\\]',line) is not None:\n",
    "            ending['Ending'].append({num:line[3:]})\n",
    "            origin.append(line[3:])\n",
    "        elif re.match(r'\\[Q\\]',line) is not None:\n",
    "            quotation['Quotation'].append({num:line[3:]})\n",
    "            origin.append(line[3:])\n",
    "        elif re.match(r'\\[F\\]',line) is not None:\n",
    "            footer['Footer'].append({num:line[3:]})\n",
    "            origin.append(line[3:])\n",
    "        elif re.match(r'\\[M\\]',line) is not None:\n",
    "            misc['Misc'].append({num:line[3:]})\n",
    "            origin.append(line[3:])\n",
    "        else: #空白行に対応する\n",
    "            continue\n",
    "    originbody = re.sub(r'\\[(G|S|C|B|E|Q|F|M)\\]', '', body)\n",
    "    bodies['Bodies'].append({'idx':idx, 'message_id':mail_df['Message-ID'][idx], 'countrows':len(lines), 'body':originbody, **greetings, **sentences, **captions, **bulletlist, **ending, **quotation, **footer, **misc})"
   ]
  },
  {
   "cell_type": "code",
   "execution_count": 128,
   "metadata": {
    "tags": []
   },
   "outputs": [],
   "source": [
    "#　bodiesのsentenceのvalueから複数文のテキストを作る\n",
    "s_list = []\n",
    "for i in bodies['Bodies']:  #1通ずつ取り出す\n",
    "    text = ''\n",
    "    for j in i['Sentence']: #1行{行番号:文}ずつ取り出し，複数文が含まれた1つの文字列にする\n",
    "        text = text + list(j.values())[0] + ' '\n",
    "    s_list.append(text) #1通ごとの自然文のテキストをリストに格納する"
   ]
  },
  {
   "cell_type": "code",
   "execution_count": 142,
   "metadata": {
    "tags": []
   },
   "outputs": [
    {
     "output_type": "stream",
     "name": "stderr",
     "text": "Downloading https://raw.githubusercontent.com/stanfordnlp/stanza-resources/master/resources_1.1.0.json: 122kB [00:00, 3.71MB/s]\n2020-09-07 13:24:27 INFO: Downloading default packages for language: en (English)...\nDownloading http://nlp.stanford.edu/software/stanza/1.1.0/en/default.zip: 100%|██████████| 428M/428M [02:23<00:00, 2.99MB/s]\n2020-09-07 13:26:59 INFO: Finished downloading models and saved to /Users/taroaso/stanza_resources.\n2020-09-07 13:26:59 INFO: Loading these models for language: en (English):\n=========================\n| Processor | Package   |\n-------------------------\n| tokenize  | ewt       |\n| pos       | ewt       |\n| lemma     | ewt       |\n| depparse  | ewt       |\n| sentiment | sstplus   |\n| ner       | ontonotes |\n=========================\n\n2020-09-07 13:26:59 INFO: Use device: cpu\n2020-09-07 13:26:59 INFO: Loading: tokenize\n2020-09-07 13:26:59 INFO: Loading: pos\n2020-09-07 13:27:00 INFO: Loading: lemma\n2020-09-07 13:27:00 INFO: Loading: depparse\n2020-09-07 13:27:02 INFO: Loading: sentiment\n2020-09-07 13:27:03 INFO: Loading: ner\n2020-09-07 13:27:04 INFO: Done loading processors!\n"
    }
   ],
   "source": [
    "# 自然言語処理\n",
    "import stanza\n",
    "\n",
    "stanza.download('en')\n",
    "nlp = stanza.Pipeline('en')"
   ]
  },
  {
   "cell_type": "code",
   "execution_count": 164,
   "metadata": {
    "tags": []
   },
   "outputs": [
    {
     "output_type": "execute_result",
     "data": {
      "text/plain": "                                                             Message-ID  \\\n0  <CAE4fJj-un1Um+3aE1jTe9b8WQZuFLMaaFmCJ9zNtzTkuUja0Rw@mail.gmail.com>   \n1  <CAE4fJj-un1Um+3aE1jTe9b8WQZuFLMaaFmCJ9zNtzTkuUja0Rw@mail.gmail.com>   \n2  <CAE4fJj-un1Um+3aE1jTe9b8WQZuFLMaaFmCJ9zNtzTkuUja0Rw@mail.gmail.com>   \n3  <CAE4fJj-un1Um+3aE1jTe9b8WQZuFLMaaFmCJ9zNtzTkuUja0Rw@mail.gmail.com>   \n4  <CAE4fJj_b7k8yeqmz19a-seo3gtL9Mg1nvQO0oPUtrxvCFMkEaw@mail.gmail.com>   \n\n                                                                                                          sentence  \n0                                                                                           Thanks for your reply!  \n1  It's a great suggestion to include a list of ORES based tools for people who are not familiar with ORES itself.  \n2                                    For our research, we would love to interview you and test our visualizations.  \n3                               Please let me know what times will work best for you so we can schedule a meeting.  \n4                                                                                           Thanks for clarifying.  ",
      "text/html": "<div>\n<style scoped>\n    .dataframe tbody tr th:only-of-type {\n        vertical-align: middle;\n    }\n\n    .dataframe tbody tr th {\n        vertical-align: top;\n    }\n\n    .dataframe thead th {\n        text-align: right;\n    }\n</style>\n<table border=\"1\" class=\"dataframe\">\n  <thead>\n    <tr style=\"text-align: right;\">\n      <th></th>\n      <th>Message-ID</th>\n      <th>sentence</th>\n    </tr>\n  </thead>\n  <tbody>\n    <tr>\n      <th>0</th>\n      <td>&lt;CAE4fJj-un1Um+3aE1jTe9b8WQZuFLMaaFmCJ9zNtzTkuUja0Rw@mail.gmail.com&gt;</td>\n      <td>Thanks for your reply!</td>\n    </tr>\n    <tr>\n      <th>1</th>\n      <td>&lt;CAE4fJj-un1Um+3aE1jTe9b8WQZuFLMaaFmCJ9zNtzTkuUja0Rw@mail.gmail.com&gt;</td>\n      <td>It's a great suggestion to include a list of ORES based tools for people who are not familiar with ORES itself.</td>\n    </tr>\n    <tr>\n      <th>2</th>\n      <td>&lt;CAE4fJj-un1Um+3aE1jTe9b8WQZuFLMaaFmCJ9zNtzTkuUja0Rw@mail.gmail.com&gt;</td>\n      <td>For our research, we would love to interview you and test our visualizations.</td>\n    </tr>\n    <tr>\n      <th>3</th>\n      <td>&lt;CAE4fJj-un1Um+3aE1jTe9b8WQZuFLMaaFmCJ9zNtzTkuUja0Rw@mail.gmail.com&gt;</td>\n      <td>Please let me know what times will work best for you so we can schedule a meeting.</td>\n    </tr>\n    <tr>\n      <th>4</th>\n      <td>&lt;CAE4fJj_b7k8yeqmz19a-seo3gtL9Mg1nvQO0oPUtrxvCFMkEaw@mail.gmail.com&gt;</td>\n      <td>Thanks for clarifying.</td>\n    </tr>\n  </tbody>\n</table>\n</div>"
     },
     "metadata": {},
     "execution_count": 164
    }
   ],
   "source": [
    "# センテンスのdataframeを作る\n",
    "sentence_list = []\n",
    "# 文章全体に対する前処理\n",
    "for i, content in enumerate(s_list):\n",
    "    if content != '': #Sentenceが空のとき\n",
    "        doc = nlp(content)\n",
    "        # 文に対する前処理\n",
    "        for sentence in doc.sentences:\n",
    "            sentence_list.append([mail_df['Message-ID'][i],sentence.text])\n",
    "    else:\n",
    "        pass\n",
    "sentence_df = pd.DataFrame(sentence_list,columns=['Message-ID','sentence'])\n",
    "sentence_df.head()"
   ]
  },
  {
   "cell_type": "code",
   "execution_count": 292,
   "metadata": {
    "tags": []
   },
   "outputs": [
    {
     "output_type": "execute_result",
     "data": {
      "text/plain": "                                                             message_id  \\\n0  <CAE4fJj-un1Um+3aE1jTe9b8WQZuFLMaaFmCJ9zNtzTkuUja0Rw@mail.gmail.com>   \n1  <CAE4fJj-un1Um+3aE1jTe9b8WQZuFLMaaFmCJ9zNtzTkuUja0Rw@mail.gmail.com>   \n2  <CAE4fJj-un1Um+3aE1jTe9b8WQZuFLMaaFmCJ9zNtzTkuUja0Rw@mail.gmail.com>   \n3  <CAE4fJj-un1Um+3aE1jTe9b8WQZuFLMaaFmCJ9zNtzTkuUja0Rw@mail.gmail.com>   \n4  <CAE4fJj-un1Um+3aE1jTe9b8WQZuFLMaaFmCJ9zNtzTkuUja0Rw@mail.gmail.com>   \n\n        named_entity    type  \n0               ORES     ORG  \n1              Ethan  PERSON  \n2  Tue, Jun 30, 2020    DATE  \n3      Netha Hussain  PERSON  \n4              Ethan  PERSON  ",
      "text/html": "<div>\n<style scoped>\n    .dataframe tbody tr th:only-of-type {\n        vertical-align: middle;\n    }\n\n    .dataframe tbody tr th {\n        vertical-align: top;\n    }\n\n    .dataframe thead th {\n        text-align: right;\n    }\n</style>\n<table border=\"1\" class=\"dataframe\">\n  <thead>\n    <tr style=\"text-align: right;\">\n      <th></th>\n      <th>message_id</th>\n      <th>named_entity</th>\n      <th>type</th>\n    </tr>\n  </thead>\n  <tbody>\n    <tr>\n      <th>0</th>\n      <td>&lt;CAE4fJj-un1Um+3aE1jTe9b8WQZuFLMaaFmCJ9zNtzTkuUja0Rw@mail.gmail.com&gt;</td>\n      <td>ORES</td>\n      <td>ORG</td>\n    </tr>\n    <tr>\n      <th>1</th>\n      <td>&lt;CAE4fJj-un1Um+3aE1jTe9b8WQZuFLMaaFmCJ9zNtzTkuUja0Rw@mail.gmail.com&gt;</td>\n      <td>Ethan</td>\n      <td>PERSON</td>\n    </tr>\n    <tr>\n      <th>2</th>\n      <td>&lt;CAE4fJj-un1Um+3aE1jTe9b8WQZuFLMaaFmCJ9zNtzTkuUja0Rw@mail.gmail.com&gt;</td>\n      <td>Tue, Jun 30, 2020</td>\n      <td>DATE</td>\n    </tr>\n    <tr>\n      <th>3</th>\n      <td>&lt;CAE4fJj-un1Um+3aE1jTe9b8WQZuFLMaaFmCJ9zNtzTkuUja0Rw@mail.gmail.com&gt;</td>\n      <td>Netha Hussain</td>\n      <td>PERSON</td>\n    </tr>\n    <tr>\n      <th>4</th>\n      <td>&lt;CAE4fJj-un1Um+3aE1jTe9b8WQZuFLMaaFmCJ9zNtzTkuUja0Rw@mail.gmail.com&gt;</td>\n      <td>Ethan</td>\n      <td>PERSON</td>\n    </tr>\n  </tbody>\n</table>\n</div>"
     },
     "metadata": {},
     "execution_count": 292
    }
   ],
   "source": [
    "# Body内のNamedEntity(NE)\n",
    "rows = []\n",
    "for mail in bodies['Bodies']:\n",
    "    doc = nlp(mail['body'])\n",
    "    for ent in doc.ents:\n",
    "        if ent.type not in ('TIME', 'PERCENT', 'MONEY', 'QUANTITY', 'CARDINAL', 'ORDINAL'):\n",
    "            row = [mail['message_id'],ent.text,ent.type]\n",
    "            rows.append(row)\n",
    "        else:\n",
    "            pass\n",
    "ne_df = pd.DataFrame(rows,columns=['message_id','named_entity','type'])\n",
    "ne_df.head()"
   ]
  },
  {
   "cell_type": "code",
   "execution_count": 255,
   "metadata": {
    "tags": []
   },
   "outputs": [
    {
     "output_type": "execute_result",
     "data": {
      "text/plain": "                                                                          message_id  \\\n0               <CAE4fJj-un1Um+3aE1jTe9b8WQZuFLMaaFmCJ9zNtzTkuUja0Rw@mail.gmail.com>   \n1               <CAE4fJj_b7k8yeqmz19a-seo3gtL9Mg1nvQO0oPUtrxvCFMkEaw@mail.gmail.com>   \n2               <CAE4fJj_b7k8yeqmz19a-seo3gtL9Mg1nvQO0oPUtrxvCFMkEaw@mail.gmail.com>   \n3               <CAFw=MpJg9SYEGQD9ywhphWwwNE8fHHcsSEHne8=B-8S0w+o=Kg@mail.gmail.com>   \n4               <CALeA2c9GW9BFSMetuSCDWLbm2iGG1xM7Bp0R2A9-JJF2_7Xrwg@mail.gmail.com>   \n5               <CAD_=H2LWP6n5COjqc-DEw59feJGxXBpJLen4m7BtPT5MfcJrpg@mail.gmail.com>   \n6               <CALi5MRFpf2XvvVmSLsFvAkjq2QVRHSLLT4mDppF5eXVMxeZ34w@mail.gmail.com>   \n7               <CALi5MRFpf2XvvVmSLsFvAkjq2QVRHSLLT4mDppF5eXVMxeZ34w@mail.gmail.com>   \n8               <CAK0Oe2uzvfjV=R9H5xPEwEPgY0+6FcjOu=F=opXuZtWhD2LyCQ@mail.gmail.com>   \n9               <CAK0Oe2uzvfjV=R9H5xPEwEPgY0+6FcjOu=F=opXuZtWhD2LyCQ@mail.gmail.com>   \n10              <CAJXKj+owEP_UyX2A17x+4NrsB76zv9puwpbPE8ZPBpfD0CRARQ@mail.gmail.com>   \n11              <CANQe2T_Eaywm5xHg5hYD7qfnS7gDHyRhU2iLha9vUwHwV03Uqg@mail.gmail.com>   \n12              <CAC_Lu0b0RBGY4JmdLW0M-DR+G9J3zo==QXR-Wdy4W8QAZpU_pQ@mail.gmail.com>   \n13              <CAAanWP26Z5C_YjsRagonNd9yLh+L+eWyicFyUiN-dd2_t37SJw@mail.gmail.com>   \n14              <CAAanWP26Z5C_YjsRagonNd9yLh+L+eWyicFyUiN-dd2_t37SJw@mail.gmail.com>   \n15                                <20200710152534.D461C335C8F5@gigondas.localdomain>   \n16              <CALi5MRFk6r9TnNwMQSvES_Os_0aH51zK-KJu6_T3nLbEkuPPAQ@mail.gmail.com>   \n17              <CAC-zy8c6-AaFo+zryj26D-fh_2qk9e8gWrO0BAPEHHC8OYVY9w@mail.gmail.com>   \n18              <CAAanWP00hSk-LEm_RFLs9+f1N_UErwAjMtbgOE8XYSTNEOuDGA@mail.gmail.com>   \n19              <CAAanWP00hSk-LEm_RFLs9+f1N_UErwAjMtbgOE8XYSTNEOuDGA@mail.gmail.com>   \n20              <CAHX-TJrpgwH2ea5XbfTCYw7isD6+TCeTy63XeHXs+maP8erhAA@mail.gmail.com>   \n21              <CAAanWP1bWa7dBWt+kfcSDHHb9s0z5L+Ra10v=RJ1fbRDPtcXhA@mail.gmail.com>   \n22              <CAAanWP1bWa7dBWt+kfcSDHHb9s0z5L+Ra10v=RJ1fbRDPtcXhA@mail.gmail.com>   \n23                                  <6a49b94d-351e-728e-8dce-5bba962f9d21@gmail.com>   \n24              <CAJXKj+r9838Xbi3nRmtnOqRyr_wL1OcSLO2ad6s8nV71xJHFuA@mail.gmail.com>   \n25              <CAHdSuxGgnKyVAvMSV98Cx8rpU7xRQ1gYDrv7PnV3=_tp3Lh5LQ@mail.gmail.com>   \n26              <CAGCpXbM=AJ8ZvTjTq=HkEtWZMSny=sO9Z1i-yesKJx=O6ihFTw@mail.gmail.com>   \n27              <CANZ8tJNFSXrUy+TdDR-ubP12fYgkg2rsbPKVjMqfETB6-qJOZg@mail.gmail.com>   \n28                                  <7ba20692d0c3cbfc26108ee7b1909cec@ccsit2019.org>   \n29              <CAHX-TJq_x_H4uXhDxTn6dtcsPjMtfMEBwCBkivzF+u1qOhFfQQ@mail.gmail.com>   \n30              <CAHTOhHshqTqHtizamF3xY9xCp=10FGK-pyYOYJ0N1CBLFqyfZQ@mail.gmail.com>   \n31  <BY5PR07MB65941BB61F57A6C79BF7099AA2780@BY5PR07MB6594.namprd07.prod.outlook.com>   \n32              <CAA8NU62ocaamsAx=BtYLx2t5PR_O_SHrKk3MJcKwOXdZfvJBJA@mail.gmail.com>   \n33              <CAA8NU62ocaamsAx=BtYLx2t5PR_O_SHrKk3MJcKwOXdZfvJBJA@mail.gmail.com>   \n34              <CAHTOhHs0k6q89WAHek45sA9ePjLqYhYEEq0pu6GOdX1pqBL1Tg@mail.gmail.com>   \n35              <CAHTOhHs0k6q89WAHek45sA9ePjLqYhYEEq0pu6GOdX1pqBL1Tg@mail.gmail.com>   \n36              <CAFw=Mp+74H40Kr2=4DhQN5QsdujKDiTnWxGEmL1zBzs8Kp1HOA@mail.gmail.com>   \n37  <DB8PR08MB543595C20AFBEEAF24E9020BB3770@DB8PR08MB5435.eurprd08.prod.outlook.com>   \n38              <CALhpO4FUeOUv2X_FK+EprFCigs+708qngfMirAjpO-9k+hTwFA@mail.gmail.com>   \n39                                <1871413239.11685556.1595863577293@mail.yahoo.com>   \n40              <CAC2423NizqG2i0+HvEsQf19CEtqENRUdsVudm_mJSYdMgMCO=g@mail.gmail.com>   \n41              <CAHTOhHu=FUEBsiEZoBt+KPHJzzZobyTB92cfLfnTZXS6jsA0ww@mail.gmail.com>   \n\n                 named_entity      type  \n0                    Ethan Ye    SENDER  \n1                    Ethan Ye    SENDER  \n2                      Stella  RECEIVER  \n3    Giovanni Luca Ciampaglia    SENDER  \n4            J. Nathan Matias    SENDER  \n5                 Miriam Redi    SENDER  \n6           Mackenzie Lemieux    SENDER  \n7              Wiki Community  RECEIVER  \n8                   Leila Zia    SENDER  \n9                   Mackenzie  RECEIVER  \n10               Janna Layton    SENDER  \n11             Aaron Halfaker    SENDER  \n12           Stuart A. Yeates    SENDER  \n13          WereSpielChequers    SENDER  \n14                   Mackenie  RECEIVER  \n15             Serge Autexier    SENDER  \n16          Mackenzie Lemieux    SENDER  \n17            Nicholas Moreau    SENDER  \n18          WereSpielChequers    SENDER  \n19                  Mackenzie  RECEIVER  \n20              Thomas Stieve    SENDER  \n21          WereSpielChequers    SENDER  \n22                  MacKenzie  RECEIVER  \n23       Federico Leva (Nemo)    SENDER  \n24               Janna Layton    SENDER  \n25               Lucie Kaffee    SENDER  \n26                Jim Maddock    SENDER  \n27             Martin Gerlach    SENDER  \n28  chungcha at ccsit2019.org    SENDER  \n29              Thomas Stieve    SENDER  \n30              Haifeng Zhang    SENDER  \n31                Paul Albert    SENDER  \n32              Isaac Johnson    SENDER  \n33                    Haifeng  RECEIVER  \n34              Haifeng Zhang    SENDER  \n35                       Paul  RECEIVER  \n36   Giovanni Luca Ciampaglia    SENDER  \n37             Sven Andersson    SENDER  \n38             cyril verluise    SENDER  \n39     Mohammed Sadat Abdulai    SENDER  \n40               Jan Dittrich    SENDER  \n41                      Issac  RECEIVER  ",
      "text/html": "<div>\n<style scoped>\n    .dataframe tbody tr th:only-of-type {\n        vertical-align: middle;\n    }\n\n    .dataframe tbody tr th {\n        vertical-align: top;\n    }\n\n    .dataframe thead th {\n        text-align: right;\n    }\n</style>\n<table border=\"1\" class=\"dataframe\">\n  <thead>\n    <tr style=\"text-align: right;\">\n      <th></th>\n      <th>message_id</th>\n      <th>named_entity</th>\n      <th>type</th>\n    </tr>\n  </thead>\n  <tbody>\n    <tr>\n      <th>0</th>\n      <td>&lt;CAE4fJj-un1Um+3aE1jTe9b8WQZuFLMaaFmCJ9zNtzTkuUja0Rw@mail.gmail.com&gt;</td>\n      <td>Ethan Ye</td>\n      <td>SENDER</td>\n    </tr>\n    <tr>\n      <th>1</th>\n      <td>&lt;CAE4fJj_b7k8yeqmz19a-seo3gtL9Mg1nvQO0oPUtrxvCFMkEaw@mail.gmail.com&gt;</td>\n      <td>Ethan Ye</td>\n      <td>SENDER</td>\n    </tr>\n    <tr>\n      <th>2</th>\n      <td>&lt;CAE4fJj_b7k8yeqmz19a-seo3gtL9Mg1nvQO0oPUtrxvCFMkEaw@mail.gmail.com&gt;</td>\n      <td>Stella</td>\n      <td>RECEIVER</td>\n    </tr>\n    <tr>\n      <th>3</th>\n      <td>&lt;CAFw=MpJg9SYEGQD9ywhphWwwNE8fHHcsSEHne8=B-8S0w+o=Kg@mail.gmail.com&gt;</td>\n      <td>Giovanni Luca Ciampaglia</td>\n      <td>SENDER</td>\n    </tr>\n    <tr>\n      <th>4</th>\n      <td>&lt;CALeA2c9GW9BFSMetuSCDWLbm2iGG1xM7Bp0R2A9-JJF2_7Xrwg@mail.gmail.com&gt;</td>\n      <td>J. Nathan Matias</td>\n      <td>SENDER</td>\n    </tr>\n    <tr>\n      <th>5</th>\n      <td>&lt;CAD_=H2LWP6n5COjqc-DEw59feJGxXBpJLen4m7BtPT5MfcJrpg@mail.gmail.com&gt;</td>\n      <td>Miriam Redi</td>\n      <td>SENDER</td>\n    </tr>\n    <tr>\n      <th>6</th>\n      <td>&lt;CALi5MRFpf2XvvVmSLsFvAkjq2QVRHSLLT4mDppF5eXVMxeZ34w@mail.gmail.com&gt;</td>\n      <td>Mackenzie Lemieux</td>\n      <td>SENDER</td>\n    </tr>\n    <tr>\n      <th>7</th>\n      <td>&lt;CALi5MRFpf2XvvVmSLsFvAkjq2QVRHSLLT4mDppF5eXVMxeZ34w@mail.gmail.com&gt;</td>\n      <td>Wiki Community</td>\n      <td>RECEIVER</td>\n    </tr>\n    <tr>\n      <th>8</th>\n      <td>&lt;CAK0Oe2uzvfjV=R9H5xPEwEPgY0+6FcjOu=F=opXuZtWhD2LyCQ@mail.gmail.com&gt;</td>\n      <td>Leila Zia</td>\n      <td>SENDER</td>\n    </tr>\n    <tr>\n      <th>9</th>\n      <td>&lt;CAK0Oe2uzvfjV=R9H5xPEwEPgY0+6FcjOu=F=opXuZtWhD2LyCQ@mail.gmail.com&gt;</td>\n      <td>Mackenzie</td>\n      <td>RECEIVER</td>\n    </tr>\n    <tr>\n      <th>10</th>\n      <td>&lt;CAJXKj+owEP_UyX2A17x+4NrsB76zv9puwpbPE8ZPBpfD0CRARQ@mail.gmail.com&gt;</td>\n      <td>Janna Layton</td>\n      <td>SENDER</td>\n    </tr>\n    <tr>\n      <th>11</th>\n      <td>&lt;CANQe2T_Eaywm5xHg5hYD7qfnS7gDHyRhU2iLha9vUwHwV03Uqg@mail.gmail.com&gt;</td>\n      <td>Aaron Halfaker</td>\n      <td>SENDER</td>\n    </tr>\n    <tr>\n      <th>12</th>\n      <td>&lt;CAC_Lu0b0RBGY4JmdLW0M-DR+G9J3zo==QXR-Wdy4W8QAZpU_pQ@mail.gmail.com&gt;</td>\n      <td>Stuart A. Yeates</td>\n      <td>SENDER</td>\n    </tr>\n    <tr>\n      <th>13</th>\n      <td>&lt;CAAanWP26Z5C_YjsRagonNd9yLh+L+eWyicFyUiN-dd2_t37SJw@mail.gmail.com&gt;</td>\n      <td>WereSpielChequers</td>\n      <td>SENDER</td>\n    </tr>\n    <tr>\n      <th>14</th>\n      <td>&lt;CAAanWP26Z5C_YjsRagonNd9yLh+L+eWyicFyUiN-dd2_t37SJw@mail.gmail.com&gt;</td>\n      <td>Mackenie</td>\n      <td>RECEIVER</td>\n    </tr>\n    <tr>\n      <th>15</th>\n      <td>&lt;20200710152534.D461C335C8F5@gigondas.localdomain&gt;</td>\n      <td>Serge Autexier</td>\n      <td>SENDER</td>\n    </tr>\n    <tr>\n      <th>16</th>\n      <td>&lt;CALi5MRFk6r9TnNwMQSvES_Os_0aH51zK-KJu6_T3nLbEkuPPAQ@mail.gmail.com&gt;</td>\n      <td>Mackenzie Lemieux</td>\n      <td>SENDER</td>\n    </tr>\n    <tr>\n      <th>17</th>\n      <td>&lt;CAC-zy8c6-AaFo+zryj26D-fh_2qk9e8gWrO0BAPEHHC8OYVY9w@mail.gmail.com&gt;</td>\n      <td>Nicholas Moreau</td>\n      <td>SENDER</td>\n    </tr>\n    <tr>\n      <th>18</th>\n      <td>&lt;CAAanWP00hSk-LEm_RFLs9+f1N_UErwAjMtbgOE8XYSTNEOuDGA@mail.gmail.com&gt;</td>\n      <td>WereSpielChequers</td>\n      <td>SENDER</td>\n    </tr>\n    <tr>\n      <th>19</th>\n      <td>&lt;CAAanWP00hSk-LEm_RFLs9+f1N_UErwAjMtbgOE8XYSTNEOuDGA@mail.gmail.com&gt;</td>\n      <td>Mackenzie</td>\n      <td>RECEIVER</td>\n    </tr>\n    <tr>\n      <th>20</th>\n      <td>&lt;CAHX-TJrpgwH2ea5XbfTCYw7isD6+TCeTy63XeHXs+maP8erhAA@mail.gmail.com&gt;</td>\n      <td>Thomas Stieve</td>\n      <td>SENDER</td>\n    </tr>\n    <tr>\n      <th>21</th>\n      <td>&lt;CAAanWP1bWa7dBWt+kfcSDHHb9s0z5L+Ra10v=RJ1fbRDPtcXhA@mail.gmail.com&gt;</td>\n      <td>WereSpielChequers</td>\n      <td>SENDER</td>\n    </tr>\n    <tr>\n      <th>22</th>\n      <td>&lt;CAAanWP1bWa7dBWt+kfcSDHHb9s0z5L+Ra10v=RJ1fbRDPtcXhA@mail.gmail.com&gt;</td>\n      <td>MacKenzie</td>\n      <td>RECEIVER</td>\n    </tr>\n    <tr>\n      <th>23</th>\n      <td>&lt;6a49b94d-351e-728e-8dce-5bba962f9d21@gmail.com&gt;</td>\n      <td>Federico Leva (Nemo)</td>\n      <td>SENDER</td>\n    </tr>\n    <tr>\n      <th>24</th>\n      <td>&lt;CAJXKj+r9838Xbi3nRmtnOqRyr_wL1OcSLO2ad6s8nV71xJHFuA@mail.gmail.com&gt;</td>\n      <td>Janna Layton</td>\n      <td>SENDER</td>\n    </tr>\n    <tr>\n      <th>25</th>\n      <td>&lt;CAHdSuxGgnKyVAvMSV98Cx8rpU7xRQ1gYDrv7PnV3=_tp3Lh5LQ@mail.gmail.com&gt;</td>\n      <td>Lucie Kaffee</td>\n      <td>SENDER</td>\n    </tr>\n    <tr>\n      <th>26</th>\n      <td>&lt;CAGCpXbM=AJ8ZvTjTq=HkEtWZMSny=sO9Z1i-yesKJx=O6ihFTw@mail.gmail.com&gt;</td>\n      <td>Jim Maddock</td>\n      <td>SENDER</td>\n    </tr>\n    <tr>\n      <th>27</th>\n      <td>&lt;CANZ8tJNFSXrUy+TdDR-ubP12fYgkg2rsbPKVjMqfETB6-qJOZg@mail.gmail.com&gt;</td>\n      <td>Martin Gerlach</td>\n      <td>SENDER</td>\n    </tr>\n    <tr>\n      <th>28</th>\n      <td>&lt;7ba20692d0c3cbfc26108ee7b1909cec@ccsit2019.org&gt;</td>\n      <td>chungcha at ccsit2019.org</td>\n      <td>SENDER</td>\n    </tr>\n    <tr>\n      <th>29</th>\n      <td>&lt;CAHX-TJq_x_H4uXhDxTn6dtcsPjMtfMEBwCBkivzF+u1qOhFfQQ@mail.gmail.com&gt;</td>\n      <td>Thomas Stieve</td>\n      <td>SENDER</td>\n    </tr>\n    <tr>\n      <th>30</th>\n      <td>&lt;CAHTOhHshqTqHtizamF3xY9xCp=10FGK-pyYOYJ0N1CBLFqyfZQ@mail.gmail.com&gt;</td>\n      <td>Haifeng Zhang</td>\n      <td>SENDER</td>\n    </tr>\n    <tr>\n      <th>31</th>\n      <td>&lt;BY5PR07MB65941BB61F57A6C79BF7099AA2780@BY5PR07MB6594.namprd07.prod.outlook.com&gt;</td>\n      <td>Paul Albert</td>\n      <td>SENDER</td>\n    </tr>\n    <tr>\n      <th>32</th>\n      <td>&lt;CAA8NU62ocaamsAx=BtYLx2t5PR_O_SHrKk3MJcKwOXdZfvJBJA@mail.gmail.com&gt;</td>\n      <td>Isaac Johnson</td>\n      <td>SENDER</td>\n    </tr>\n    <tr>\n      <th>33</th>\n      <td>&lt;CAA8NU62ocaamsAx=BtYLx2t5PR_O_SHrKk3MJcKwOXdZfvJBJA@mail.gmail.com&gt;</td>\n      <td>Haifeng</td>\n      <td>RECEIVER</td>\n    </tr>\n    <tr>\n      <th>34</th>\n      <td>&lt;CAHTOhHs0k6q89WAHek45sA9ePjLqYhYEEq0pu6GOdX1pqBL1Tg@mail.gmail.com&gt;</td>\n      <td>Haifeng Zhang</td>\n      <td>SENDER</td>\n    </tr>\n    <tr>\n      <th>35</th>\n      <td>&lt;CAHTOhHs0k6q89WAHek45sA9ePjLqYhYEEq0pu6GOdX1pqBL1Tg@mail.gmail.com&gt;</td>\n      <td>Paul</td>\n      <td>RECEIVER</td>\n    </tr>\n    <tr>\n      <th>36</th>\n      <td>&lt;CAFw=Mp+74H40Kr2=4DhQN5QsdujKDiTnWxGEmL1zBzs8Kp1HOA@mail.gmail.com&gt;</td>\n      <td>Giovanni Luca Ciampaglia</td>\n      <td>SENDER</td>\n    </tr>\n    <tr>\n      <th>37</th>\n      <td>&lt;DB8PR08MB543595C20AFBEEAF24E9020BB3770@DB8PR08MB5435.eurprd08.prod.outlook.com&gt;</td>\n      <td>Sven Andersson</td>\n      <td>SENDER</td>\n    </tr>\n    <tr>\n      <th>38</th>\n      <td>&lt;CALhpO4FUeOUv2X_FK+EprFCigs+708qngfMirAjpO-9k+hTwFA@mail.gmail.com&gt;</td>\n      <td>cyril verluise</td>\n      <td>SENDER</td>\n    </tr>\n    <tr>\n      <th>39</th>\n      <td>&lt;1871413239.11685556.1595863577293@mail.yahoo.com&gt;</td>\n      <td>Mohammed Sadat Abdulai</td>\n      <td>SENDER</td>\n    </tr>\n    <tr>\n      <th>40</th>\n      <td>&lt;CAC2423NizqG2i0+HvEsQf19CEtqENRUdsVudm_mJSYdMgMCO=g@mail.gmail.com&gt;</td>\n      <td>Jan Dittrich</td>\n      <td>SENDER</td>\n    </tr>\n    <tr>\n      <th>41</th>\n      <td>&lt;CAHTOhHu=FUEBsiEZoBt+KPHJzzZobyTB92cfLfnTZXS6jsA0ww@mail.gmail.com&gt;</td>\n      <td>Issac</td>\n      <td>RECEIVER</td>\n    </tr>\n  </tbody>\n</table>\n</div>"
     },
     "metadata": {},
     "execution_count": 255
    }
   ],
   "source": [
    "#  送受信者に関するEntity\n",
    "rows = []\n",
    "for message_id, values in refer_pronoun.items():\n",
    "    try:\n",
    "        row1 = [message_id, values['I'], 'SENDER']\n",
    "        rows.append(row1)\n",
    "    except:\n",
    "        pass\n",
    "    try:\n",
    "        row2 = [message_id, values['YOU'], 'RECEIVER']\n",
    "        rows.append(row2)\n",
    "    except:\n",
    "        pass\n",
    "ne_from_header_df = pd.DataFrame(rows,columns=['message_id','named_entity','type'])\n",
    "ne_from_header_df"
   ]
  },
  {
   "cell_type": "code",
   "execution_count": 289,
   "metadata": {},
   "outputs": [
    {
     "output_type": "execute_result",
     "data": {
      "text/plain": "                                                             message_id  \\\n0  <CAFw=MpJg9SYEGQD9ywhphWwwNE8fHHcsSEHne8=B-8S0w+o=Kg@mail.gmail.com>   \n1  <CAFw=MpJg9SYEGQD9ywhphWwwNE8fHHcsSEHne8=B-8S0w+o=Kg@mail.gmail.com>   \n2                     <1395374715.4530653.1593904473385@mail.yahoo.com>   \n3                     <1395374715.4530653.1593904473385@mail.yahoo.com>   \n4  <CAJXKj+owEP_UyX2A17x+4NrsB76zv9puwpbPE8ZPBpfD0CRARQ@mail.gmail.com>   \n\n                               named_entity         type  \n0  2nd Conference on Truth and Trust Online  WORK_OF_ART  \n1                                 TTO  2020         DATE  \n2                                 June 2020         DATE  \n3        the Wikimedia Research  Newsletter          ORG  \n4               Wikimedia Research Showcase        EVENT  ",
      "text/html": "<div>\n<style scoped>\n    .dataframe tbody tr th:only-of-type {\n        vertical-align: middle;\n    }\n\n    .dataframe tbody tr th {\n        vertical-align: top;\n    }\n\n    .dataframe thead th {\n        text-align: right;\n    }\n</style>\n<table border=\"1\" class=\"dataframe\">\n  <thead>\n    <tr style=\"text-align: right;\">\n      <th></th>\n      <th>message_id</th>\n      <th>named_entity</th>\n      <th>type</th>\n    </tr>\n  </thead>\n  <tbody>\n    <tr>\n      <th>0</th>\n      <td>&lt;CAFw=MpJg9SYEGQD9ywhphWwwNE8fHHcsSEHne8=B-8S0w+o=Kg@mail.gmail.com&gt;</td>\n      <td>2nd Conference on Truth and Trust Online</td>\n      <td>WORK_OF_ART</td>\n    </tr>\n    <tr>\n      <th>1</th>\n      <td>&lt;CAFw=MpJg9SYEGQD9ywhphWwwNE8fHHcsSEHne8=B-8S0w+o=Kg@mail.gmail.com&gt;</td>\n      <td>TTO  2020</td>\n      <td>DATE</td>\n    </tr>\n    <tr>\n      <th>2</th>\n      <td>&lt;1395374715.4530653.1593904473385@mail.yahoo.com&gt;</td>\n      <td>June 2020</td>\n      <td>DATE</td>\n    </tr>\n    <tr>\n      <th>3</th>\n      <td>&lt;1395374715.4530653.1593904473385@mail.yahoo.com&gt;</td>\n      <td>the Wikimedia Research  Newsletter</td>\n      <td>ORG</td>\n    </tr>\n    <tr>\n      <th>4</th>\n      <td>&lt;CAJXKj+owEP_UyX2A17x+4NrsB76zv9puwpbPE8ZPBpfD0CRARQ@mail.gmail.com&gt;</td>\n      <td>Wikimedia Research Showcase</td>\n      <td>EVENT</td>\n    </tr>\n  </tbody>\n</table>\n</div>"
     },
     "metadata": {},
     "execution_count": 289
    }
   ],
   "source": [
    "rows = []\n",
    "for i, subject in enumerate(mail_df['Subject'].values):\n",
    "    subject = re.sub(r'(\\n)|(\\t)',' ',subject)\n",
    "    doc = nlp(subject)\n",
    "    for ent in doc.ents:\n",
    "        if ent.type not in ('TIME', 'PERCENT', 'MONEY', 'QUANTITY', 'CARDINAL', 'ORDINAL'):\n",
    "            row = [mail_df['Message-ID'][i],ent.text,ent.type]\n",
    "            rows.append(row)\n",
    "        else:\n",
    "            pass\n",
    "ne_from_subject_df = pd.DataFrame(rows,columns=['message_id','named_entity','type'])\n",
    "ne_from_subject_df.head()"
   ]
  },
  {
   "cell_type": "code",
   "execution_count": 296,
   "metadata": {},
   "outputs": [
    {
     "output_type": "execute_result",
     "data": {
      "text/plain": "390"
     },
     "metadata": {},
     "execution_count": 296
    }
   ],
   "source": [
    "#ne_df.to_csv('wiki-research-l/output/stanza_ne_df.csv')\n",
    "#sentence_df = pd.read_csv('/Users/taroaso/myprojects/OpenIE/wiki-research-l/output/sentence_df.csv',index_col=0)\n",
    "#sentence_df.head()\n",
    "ne_df = pd.concat([ne_df, ne_from_subject_df, ne_from_header_df], ignore_index=True)\n",
    "ne_df = ne_df.drop_duplicates()\n",
    "\n",
    "ne_list_body = ne_df['named_entity'].drop_duplicates().values\n",
    "\n",
    "named_entity_list = set(named_entity_list)\n",
    "len(named_entity_list)"
   ]
  },
  {
   "cell_type": "code",
   "execution_count": 298,
   "metadata": {},
   "outputs": [],
   "source": [
    "ne_df.to_csv('wiki-research-l/output/stanza_ne_df.csv')"
   ]
  },
  {
   "cell_type": "code",
   "execution_count": 305,
   "metadata": {},
   "outputs": [],
   "source": [
    "#kb_df = pd.read_csv('/Users/taroaso/myprojects/OpenIE/wiki-research-l/output/full_replaced_triple_from_text_part.csv',index_col=0)\n",
    "rows = []\n",
    "triples = []\n",
    "for row in kb_df.values:\n",
    "    sbj = row[5].split()\n",
    "    obj = row[7].split()\n",
    "    for word in sbj:\n",
    "        if word in named_entity_list:\n",
    "            rows.append(row)\n",
    "            triple = (word, 'seeAlso', row[5])\n",
    "            triples.append(triple)\n",
    "    for word in obj:\n",
    "        if word in named_entity_list:\n",
    "            rows.append(row)\n",
    "            triple = (word, 'seeAlso', row[7])\n",
    "            triples.append(triple)\n",
    "minie_linked_triple_from_text_part = pd.DataFrame(rows, columns=['message_id','sentence', 'arg1', 'rel', 'arg2s','new_arg1','new_rel','new_arg2s'])\n",
    "minie_linked_triple_from_text_part.to_csv('wiki-research-l/output/minie_linked_triple_from_text_part.csv')"
   ]
  },
  {
   "cell_type": "code",
   "execution_count": 306,
   "metadata": {
    "tags": []
   },
   "outputs": [
    {
     "output_type": "stream",
     "name": "stdout",
     "text": "238\n98\n"
    }
   ],
   "source": [
    "print(len(triples))\n",
    "triples = set(triples)\n",
    "print(len(triples))"
   ]
  },
  {
   "cell_type": "code",
   "execution_count": 310,
   "metadata": {},
   "outputs": [],
   "source": [
    "triple_df = pd.DataFrame(triples, columns=['subject','predicate','object'])\n",
    "triple_df.to_csv('wiki-research-l/output/seealso_triples.csv')"
   ]
  },
  {
   "cell_type": "code",
   "execution_count": 136,
   "metadata": {
    "tags": []
   },
   "outputs": [
    {
     "output_type": "stream",
     "name": "stdout",
     "text": "['<CAE4fJj-un1Um+3aE1jTe9b8WQZuFLMaaFmCJ9zNtzTkuUja0Rw@mail.gmail.com>',\n 'Thanks for your reply!',\n 'your',\n 'has',\n 'reply']\n555\n"
    }
   ],
   "source": [
    "# MinIEにかける\n",
    "import requests\n",
    "import json\n",
    "\n",
    "extractions_list = []\n",
    "for i,sentence in sentence_df['sentence'].items():\n",
    "    try:\n",
    "        response = requests.post('http://localhost:8080/minie/query', data=sentence)\n",
    "        result = response.json()\n",
    "        if result['facts'] == []:\n",
    "            pass\n",
    "        else:\n",
    "            for triple in result['facts']:\n",
    "                extractions_list.append([sentence_df['Message-ID'][i], sentence, triple['subject'], triple['predicate'], triple['object']])\n",
    "    except Exception:\n",
    "        pass"
   ]
  },
  {
   "cell_type": "code",
   "execution_count": 137,
   "metadata": {},
   "outputs": [],
   "source": [
    "# 整形結果をdataframeにする\n",
    "kb_df = pd.DataFrame(extractions_list, columns = ['message_id','sentence', 'arg1', 'rel', 'arg2s'])\n",
    "kb_df.head()\n",
    "# dataframeをcsv出力する\n",
    "kb_df.to_csv('wiki-research-l/output/minie_triple_from_text_part.csv')\n",
    "\n",
    "# dataframeをRDBのテーブルにする\n",
    "#from db import connect\n",
    "#engine = connect()\n",
    "#kb_df.to_sql(name='kb_wiki_research_l_text',con=engine,if_exists='replace',index=None)"
   ]
  },
  {
   "cell_type": "code",
   "execution_count": 138,
   "metadata": {
    "tags": []
   },
   "outputs": [],
   "source": [
    "# triple中の代名詞youの候補の辞書を作るために，Greetingsの行からYouの候補を取り出す．\n",
    "\n",
    "import spacy\n",
    "import en_core_web_sm\n",
    "nlp = en_core_web_sm.load()\n",
    "\n",
    "you = {}\n",
    "for mail in bodies['Bodies']:\n",
    "    idx = mail['idx']\n",
    "    for greetings in mail['Greetings']:\n",
    "        doc = nlp(greetings[0])\n",
    "        you[idx] = [(X.text, X.label_) for X in doc.ents if X.label_ not in ['DATE','TIME','PERCENT','MONEY','QUANTITY','ORDINAL','CARDINAL']]\n",
    "        if you[idx] == []:\n",
    "            del you[idx]"
   ]
  },
  {
   "cell_type": "code",
   "execution_count": 139,
   "metadata": {
    "tags": []
   },
   "outputs": [],
   "source": [
    "# tripleのI, MY, ME, WE, OUR, USの代名詞をSenderに置き換えるための辞書\n",
    "refer_you = {}\n",
    "for idx, candidate in you.items():\n",
    "    message_id = mail_df[\"Message-ID\"][idx]\n",
    "    refer_you[message_id] = {\"YOU\":candidate[0][0], \"YOUR\":candidate[0][0] + '\\'s'}\n",
    "\n",
    "# tripleのI, MY, ME, WE, OUR, USの代名詞をSenderに置き換えるための辞書\n",
    "refer_pronoun = {}\n",
    "for row in kb_df.values:\n",
    "    message_id = row[0]\n",
    "    sender = mail_df[mail_df['Message-ID']==message_id]['From'].values[0]\n",
    "    start = re.search(r'(\\(.+\\))',sender).start()\n",
    "    end = re.search(r'(\\(.+\\))',sender).end()\n",
    "    sender = sender[start+1:end-1]\n",
    "    refer_pronoun[message_id]={'I':sender, 'MY':sender + '\\'s', 'ME':sender, 'WE':sender, 'OUR':sender + '\\'s', 'US':sender}\n",
    "\n",
    "# 2つの辞書を結合する\n",
    "for key, value in refer_you.items():\n",
    "    if key in refer_pronoun:\n",
    "        d = refer_pronoun[key]\n",
    "        d.update(value)\n",
    "        refer_pronoun[key] = d\n",
    "    else:\n",
    "        refer_pronoun[key] = value"
   ]
  },
  {
   "cell_type": "code",
   "execution_count": 140,
   "metadata": {
    "tags": []
   },
   "outputs": [],
   "source": [
    "# Senderに置き換えるための辞書を使って実際に置き換える\n",
    "replaced_rows = []\n",
    "for row in kb_df.values:\n",
    "    message_id = row[0]\n",
    "    arg1 = row[2].split()\n",
    "    rel = row[3].split()\n",
    "    arg2s = row[4].split()\n",
    "    replaced = []\n",
    "    # arg1の置き換え\n",
    "    for i, word in enumerate(arg1):\n",
    "        sender = refer_pronoun[message_id].get(word.upper())\n",
    "        if sender is None:\n",
    "            continue\n",
    "        else:\n",
    "            arg1[i] = sender\n",
    "    new_arg1 = ' '.join(arg1)\n",
    "    replaced.append(new_arg1)\n",
    "    # relの置き換え\n",
    "    for i, word in enumerate(rel):\n",
    "        sender = refer_pronoun[message_id].get(word.upper())\n",
    "        if sender is None:\n",
    "            continue\n",
    "        else:\n",
    "            rel[i] = sender\n",
    "    new_rel = ' '.join(rel)\n",
    "    replaced.append(new_rel)\n",
    "    # arg2sの置き換え\n",
    "    for i, word in enumerate(arg2s):\n",
    "        sender = refer_pronoun[message_id].get(word.upper())\n",
    "        if sender is None:\n",
    "            continue\n",
    "        else:\n",
    "            arg2s[i] = sender\n",
    "    new_arg2s = ' '.join(arg2s)\n",
    "    replaced.append(new_arg2s)\n",
    "    # [new_arg1, new_rel, new_arg2s]を1行として追加\n",
    "    replaced_rows.append(replaced)"
   ]
  },
  {
   "cell_type": "code",
   "execution_count": 141,
   "metadata": {},
   "outputs": [],
   "source": [
    "replaced_triples = pd.DataFrame(replaced_rows,columns=['new_arg1','new_rel','new_arg2s'])\n",
    "kb_df = pd.concat([kb_df, replaced_triples],axis=1)\n",
    "kb_df.to_csv('/Users/taroaso/myprojects/OpenIE/wiki-research-l/output/minie_triple_from_text_part.csv')"
   ]
  },
  {
   "cell_type": "code",
   "execution_count": null,
   "metadata": {
    "tags": []
   },
   "outputs": [],
   "source": [
    "from entityLinking import tagme, confidentAnnotations, mediaWiki\n",
    "\n",
    "entity_list = []\n",
    "for i, sentence in sentence_df['sentence'].items():\n",
    "    json_res = tagme(sentence)\n",
    "    for candidate in json_res['annotations']:\n",
    "        if candidate['rho'] >= 0.3:\n",
    "            entity_list.append([i, candidate['spot'],candidate['rho'],candidate['id'],candidate['title']])\n",
    "        else:\n",
    "            continue\n",
    "\n",
    "# 抽出したentityをdataframeに格納する\n",
    "rows = []\n",
    "for row in entity_list:\n",
    "    rows.append([sentence_df['Message-ID'][row[0]], row[1], row[2], row[3], row[4]])\n",
    "entity_df = pd.DataFrame(rows,columns=['Message-ID','spot','rho','id','title'])\n",
    "entity_df.head()"
   ]
  },
  {
   "cell_type": "code",
   "execution_count": null,
   "metadata": {},
   "outputs": [],
   "source": [
    "#entity_df = pd.read_csv('wiki-research-l/output/entity_df.csv', index_col=0)\n",
    "entity_df[entity_df['rho'] < 0.3][0:100]"
   ]
  },
  {
   "cell_type": "code",
   "execution_count": null,
   "metadata": {},
   "outputs": [],
   "source": [
    "kb_df.head()"
   ]
  },
  {
   "cell_type": "code",
   "execution_count": null,
   "metadata": {},
   "outputs": [],
   "source": []
  }
 ],
 "metadata": {
  "kernelspec": {
   "display_name": "Python 3",
   "language": "python",
   "name": "python3"
  },
  "language_info": {
   "codemirror_mode": {
    "name": "ipython",
    "version": 3
   },
   "file_extension": ".py",
   "mimetype": "text/x-python",
   "name": "python",
   "nbconvert_exporter": "python",
   "pygments_lexer": "ipython3",
   "version": "3.7.7-final"
  }
 },
 "nbformat": 4,
 "nbformat_minor": 4
}