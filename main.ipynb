{
 "cells": [
  {
   "cell_type": "code",
   "execution_count": 1,
   "metadata": {},
   "outputs": [],
   "source": [
    "import os, sys, email\n",
    "import numpy as np\n",
    "import pandas as pd\n",
    "from nltk import tokenize\n",
    "import pprint, re, time\n",
    "\n",
    "pd.options.display.max_colwidth = 1000"
   ]
  },
  {
   "cell_type": "code",
   "execution_count": 2,
   "metadata": {},
   "outputs": [],
   "source": [
    "from loadFile import getFileList, getDirList, fileToDataFrame\n",
    "\n",
    "# ディレクトリ 内のメールファイルを読み込む\n",
    "directory_path = \"wiki-research-l/2020-July\"\n",
    "file_list = getFileList(directory_path)\n",
    "\n",
    "# テキストファイルをデータフレームに格納する\n",
    "mail_df, thread_df = fileToDataFrame(file_list)"
   ]
  },
  {
   "cell_type": "code",
   "execution_count": 28,
   "metadata": {},
   "outputs": [
    {
     "output_type": "execute_result",
     "data": {
      "text/plain": "37"
     },
     "metadata": {},
     "execution_count": 28
    }
   ],
   "source": [
    "len(mail_df)"
   ]
  },
  {
   "cell_type": "code",
   "execution_count": 4,
   "metadata": {},
   "outputs": [],
   "source": [
    "from preProcess import cleaningText\n",
    "s_list = []\n",
    "for i,content in mail_df['Content'].items():\n",
    "    sentences = cleaningText(content)\n",
    "    s_list.append(sentences)\n",
    "mail_df['Cleaned_Content'] = s_list"
   ]
  },
  {
   "cell_type": "code",
   "execution_count": 5,
   "metadata": {},
   "outputs": [
    {
     "output_type": "execute_result",
     "data": {
      "text/plain": "                                file_path  \\\n0  wiki-research-l/2020-July/2020-July-30   \n1  wiki-research-l/2020-July/2020-July-08   \n2  wiki-research-l/2020-July/2020-July-01   \n3  wiki-research-l/2020-July/2020-July-06   \n4  wiki-research-l/2020-July/2020-July-07   \n\n                                                             Message-ID  \\\n0  <CAHTOhHs0k6q89WAHek45sA9ePjLqYhYEEq0pu6GOdX1pqBL1Tg@mail.gmail.com>   \n1  <CAJXKj+owEP_UyX2A17x+4NrsB76zv9puwpbPE8ZPBpfD0CRARQ@mail.gmail.com>   \n2  <CAE4fJj_b7k8yeqmz19a-seo3gtL9Mg1nvQO0oPUtrxvCFMkEaw@mail.gmail.com>   \n3  <CALi5MRFpf2XvvVmSLsFvAkjq2QVRHSLLT4mDppF5eXVMxeZ34w@mail.gmail.com>   \n4  <CAK0Oe2uzvfjV=R9H5xPEwEPgY0+6FcjOu=F=opXuZtWhD2LyCQ@mail.gmail.com>   \n\n                                                 From  \\\n0          haifengz.suny at gmail.com (Haifeng Zhang)   \n1             jlayton at wikimedia.org (Janna Layton)   \n2               ziningy1 at andrew.cmu.edu (Ethan Ye)   \n3  mackenzie.lemieux at gmail.com (Mackenzie Lemieux)   \n4                   lzia at wikimedia.org (Leila Zia)   \n\n                              Date  \\\n0  Wed, 22 Jul 2020 10:23:48 -0400   \n1   Thu, 9 Jul 2020 12:26:49 -0700   \n2   Wed, 1 Jul 2020 17:54:24 -0400   \n3   Thu, 9 Jul 2020 11:43:08 -0700   \n4   Thu, 9 Jul 2020 12:03:58 -0700   \n\n                                                                                            Subject  \\\n0                                                                  [Wiki-research-l] Qid to Page ID   \n1  [Wiki-research-l] [Wikimedia Research Showcase] July 15,\\n\\t2020: Medical Knowledge on Wikipedia   \n2                       [Wiki-research-l] Wikipedia ORES Research Study Looking for\\n\\tParticipants   \n3                     [Wiki-research-l] Requesting access to deleted pages for research\\n\\tpurposes   \n4                     [Wiki-research-l] Requesting access to deleted pages for\\n\\tresearch purposes   \n\n                                                                                                                                                                                                                                                                                                                                                                                                                                                                                                                                                                                                                                                                                                                                                                                                                                                                                                                                                                                                                                   Content  \\\n0  Paul,\\nSorry, I did not read your response carefully.\\nWill try the wikimapper API as suggested.\\n\\nThanks a lot!\\n\\nOn Tue, Jul 21, 2020 at 1:05 PM Paul Albert <mrpaulalbert at gmail.com> wrote:\\n\\n>\\n> I've been using the Wikimapper API mentioned here:\\n>\\n>\\n> https://opendata.stackexchange.com/questions/5467/mapping-all-wikipedia-urls-to-wikidata-entity-ids\\n>\\n>\\n> Regards,\\n>\\n> Paul Albert\\n>\\n> ﻿On 7/21/20, 12:39 PM, \"Wiki-research-l on behalf of Haifeng Zhang\" <\\n> wiki-research-l-bounces at lists.wikimedia.org on behalf of\\n> haifengz.suny at gmail.com> wrote:\\n>\\n>     Hi all,\\n>     Are you aware of any API that maps wikidata QIDs to their article Page\\n> IDs?\\n>\\n>     Thanks,\\n>     Haifeng\\n>     _______________________________________________\\n>     Wiki-research-l mailing list\\n>     Wiki-research-l at lists.wikimedia.org\\n>     https://lists.wikimedia.org/mailman/listinfo/wiki-research-l\\n> _______________________________________________\\n> Wiki-research-l mailing...   \n1  Hi all,\\n\\nThe next Research Showcase will be live-streamed on Wednesday, July 15, at\\n9:30 AM PDT/16:30 UTC.\\n\\nWikipedia is one of the most important online resources for health\\ninformation. This has been especially highlighted during the Covid-19\\npandemic: since the beginning of the year more than 5000 articles related\\nto Covid-19 have been created receiving more than 400M pageviews.\\nTherefore, for this month’s showcase our two invited speakers will help us\\nget a better understanding of the state of medical knowledge in Wikipedia.\\nIn the first talk, Denise Smith will give an overview on how Wikipedia's\\nhealth content is used by different audiences (public, students, or\\npractitioners). In the second talk, Giovanni Colavizza will present results\\non how editors on Wikipedia find, select, and integrate scientific\\ninformation on Covid-19 into Wikipedia articles.\\n\\nYouTube stream: https://www.youtube.com/watch?v=qIV26lWrD9c\\n\\nAs usual, you can join the conversation on IRC ...   \n2  Hi Stella,\\n\\nThanks for clarifying. So unfortunately in this research, we are only\\nlooking for researchers and developers who are familiar with ORES.\\n\\nBest,\\nEthan\\n\\nOn Tue, Jun 30, 2020 at 3:17 PM Stella Yu <stellayu at gmail.com> wrote:\\n\\n> Hi Ethan,\\n>\\n> Thank you for your reply. I do not have any familiarity with ORES. In terms\\n> of Wikipedia, I am a Wikipedia user. More specifically, I am paid\\n> contributor to Wikipedia. This means I am a Conflict of Interest (COI)\\n> editor. Is this helpful?\\n>\\n> Warmly,\\n>\\n> Stella\\n>\\n>\\n>\\n> On Tue, Jun 30, 2020 at 12:03 PM Ethan Ye <ziningy1 at andrew.cmu.edu> wrote:\\n>\\n> > Hi Stella,\\n> >\\n> > Thanks for your interest! Before we start scheduling, we would like to\\n> know\\n> > a bit more about you.\\n> > Are you a researcher/developer in Wikipedia or if you have any experience\\n> > working with ORES?\\n> >\\n> > Thanks,\\n> > Ethan\\n> >\\n> >\\n> >\\n> >\\n> >\\n> > On Tue, Jun 30, 2020 at 2:44 PM Stella Yu <stellayu at gmail.com> wrot...   \n3  Dear Wiki Community,\\n\\nMy name is Mackenzie Lemieux and I am a neuroscience researcher at the Salk\\nInstitute for Biological Studies and I am interested in exploring biases on\\nWikipedia.\\n\\nMy research hypothesis is that gender or ethnicity mediate the rate of\\nflagging and deletion of pages for women in STEM.  I hope to\\nretrospectively analyze Wikipedia's deletion history, harvest the\\nbiographical articles about scientists that have been created over the past\\nn years and then confirm the gender and ethnicity of a large sample.\\n\\nIt appears that we can identify deleted pages with Wikipedia's deletion log\\n<https://en.wikipedia.org/wiki/Wikipedia:Deletion_log>, but to actually see\\nthe page that was deleted we need to be members of one of these Wikipedia\\nuser groups:  Administrators\\n<https://en.wikipedia.org/wiki/Wikipedia:Administrators>, Oversighters\\n<https://en.wikipedia.org/wiki/Wikipedia:Oversight>, Researchers\\n<https://en.wikipedia.org/wiki/Wikipedia:Researchers>, Ch...   \n4  Hi Mackenzie,\\n\\nThanks for sharing more about your research here.\\n\\nDo you intend to request access to the deleted logs of specific\\nWikipedia language editions or all Wikipedias?\\n\\nBest,\\nLeila\\n\\n--\\nLeila Zia\\nHead of Research\\nWikimedia Foundation\\n\\nOn Thu, Jul 9, 2020 at 11:43 AM Mackenzie Lemieux\\n<mackenzie.lemieux at gmail.com> wrote:\\n>\\n> Dear Wiki Community,\\n>\\n> My name is Mackenzie Lemieux and I am a neuroscience researcher at the Salk\\n> Institute for Biological Studies and I am interested in exploring biases on\\n> Wikipedia.\\n>\\n> My research hypothesis is that gender or ethnicity mediate the rate of\\n> flagging and deletion of pages for women in STEM.  I hope to\\n> retrospectively analyze Wikipedia's deletion history, harvest the\\n> biographical articles about scientists that have been created over the past\\n> n years and then confirm the gender and ethnicity of a large sample.\\n>\\n> It appears that we can identify deleted pages with Wikipedia's deletion log\\n>...   \n\n                                                                                                                                                                                                                                                                                                                                                                                                                                                                                                                                                                                                                                                                                                                                                                                                                                                                                                                                                                                                                           Cleaned_Content  \n0                                                                                                                                                                                                                                                                                                                                                                                                                                                                                                                                                                                                                                                                                                                                                                                                                                                                                                                             Paul, Sorry, I did not read your response carefully. Will try the wikimapper API as suggested. Thanks a lot!  \n1  Hi all, The next Research Showcase will be live-streamed on Wednesday, July 15, at 9:30 AM PDT/16:30 UTC. Wikipedia is one of the most important online resources for health information. This has been especially highlighted during the Covid-19 pandemic: since the beginning of the year more than 5000 articles related to Covid-19 have been created receiving more than 400M pageviews. Therefore, for this month’s showcase our two invited speakers will help us get a better understanding of the state of medical knowledge in Wikipedia. In the first talk, Denise Smith will give an overview on how Wikipedia's health content is used by different audiences (public, students, or practitioners). In the second talk, Giovanni Colavizza will present results on how editors on Wikipedia find, select, and integrate scientific information on Covid-19 into Wikipedia articles. YouTube stream: https://www.youtube.com/watch?v=qIV26lWrD9c As usual, you can join the conversation on IRC at #wikimedia-research....  \n2                                                                                                                                                                                                                                                                                                                                                                                                                                                                                                                                                                                                                                                                                                                                                                                                                                                                          Hi Stella, Thanks for clarifying. So unfortunately in this research, we are only looking for researchers and developers who are familiar with ORES. Best, Ethan  \n3  Dear Wiki Community, My name is Mackenzie Lemieux and I am a neuroscience researcher at the Salk Institute for Biological Studies and I am interested in exploring biases on Wikipedia. My research hypothesis is that gender or ethnicity mediate the rate of flagging and deletion of pages for women in STEM.  I hope to retrospectively analyze Wikipedia's deletion history, harvest the biographical articles about scientists that have been created over the past n years and then confirm the gender and ethnicity of a large sample. It appears that we can identify deleted pages with Wikipedia's deletion log <https://en.wikipedia.org/wiki/Wikipedia:Deletion_log>, but to actually see the page that was deleted we need to be members of one of these Wikipedia user groups:  Administrators <https://en.wikipedia.org/wiki/Wikipedia:Administrators>, Oversighters <https://en.wikipedia.org/wiki/Wikipedia:Oversight>, Researchers <https://en.wikipedia.org/wiki/Wikipedia:Researchers>, Checkusers <https://en....  \n4                                                                                                                                                                                                                                                                                                                                                                                                                                                                                                                                                                                                                                                                                                                                                                                            Hi Mackenzie, Thanks for sharing more about your research here. Do you intend to request access to the deleted logs of specific Wikipedia language editions or all Wikipedias? Best, Leila -- Leila Zia Head of Research Wikimedia Foundation  ",
      "text/html": "<div>\n<style scoped>\n    .dataframe tbody tr th:only-of-type {\n        vertical-align: middle;\n    }\n\n    .dataframe tbody tr th {\n        vertical-align: top;\n    }\n\n    .dataframe thead th {\n        text-align: right;\n    }\n</style>\n<table border=\"1\" class=\"dataframe\">\n  <thead>\n    <tr style=\"text-align: right;\">\n      <th></th>\n      <th>file_path</th>\n      <th>Message-ID</th>\n      <th>From</th>\n      <th>Date</th>\n      <th>Subject</th>\n      <th>Content</th>\n      <th>Cleaned_Content</th>\n    </tr>\n  </thead>\n  <tbody>\n    <tr>\n      <th>0</th>\n      <td>wiki-research-l/2020-July/2020-July-30</td>\n      <td>&lt;CAHTOhHs0k6q89WAHek45sA9ePjLqYhYEEq0pu6GOdX1pqBL1Tg@mail.gmail.com&gt;</td>\n      <td>haifengz.suny at gmail.com (Haifeng Zhang)</td>\n      <td>Wed, 22 Jul 2020 10:23:48 -0400</td>\n      <td>[Wiki-research-l] Qid to Page ID</td>\n      <td>Paul,\\nSorry, I did not read your response carefully.\\nWill try the wikimapper API as suggested.\\n\\nThanks a lot!\\n\\nOn Tue, Jul 21, 2020 at 1:05 PM Paul Albert &lt;mrpaulalbert at gmail.com&gt; wrote:\\n\\n&gt;\\n&gt; I've been using the Wikimapper API mentioned here:\\n&gt;\\n&gt;\\n&gt; https://opendata.stackexchange.com/questions/5467/mapping-all-wikipedia-urls-to-wikidata-entity-ids\\n&gt;\\n&gt;\\n&gt; Regards,\\n&gt;\\n&gt; Paul Albert\\n&gt;\\n&gt; ﻿On 7/21/20, 12:39 PM, \"Wiki-research-l on behalf of Haifeng Zhang\" &lt;\\n&gt; wiki-research-l-bounces at lists.wikimedia.org on behalf of\\n&gt; haifengz.suny at gmail.com&gt; wrote:\\n&gt;\\n&gt;     Hi all,\\n&gt;     Are you aware of any API that maps wikidata QIDs to their article Page\\n&gt; IDs?\\n&gt;\\n&gt;     Thanks,\\n&gt;     Haifeng\\n&gt;     _______________________________________________\\n&gt;     Wiki-research-l mailing list\\n&gt;     Wiki-research-l at lists.wikimedia.org\\n&gt;     https://lists.wikimedia.org/mailman/listinfo/wiki-research-l\\n&gt; _______________________________________________\\n&gt; Wiki-research-l mailing...</td>\n      <td>Paul, Sorry, I did not read your response carefully. Will try the wikimapper API as suggested. Thanks a lot!</td>\n    </tr>\n    <tr>\n      <th>1</th>\n      <td>wiki-research-l/2020-July/2020-July-08</td>\n      <td>&lt;CAJXKj+owEP_UyX2A17x+4NrsB76zv9puwpbPE8ZPBpfD0CRARQ@mail.gmail.com&gt;</td>\n      <td>jlayton at wikimedia.org (Janna Layton)</td>\n      <td>Thu, 9 Jul 2020 12:26:49 -0700</td>\n      <td>[Wiki-research-l] [Wikimedia Research Showcase] July 15,\\n\\t2020: Medical Knowledge on Wikipedia</td>\n      <td>Hi all,\\n\\nThe next Research Showcase will be live-streamed on Wednesday, July 15, at\\n9:30 AM PDT/16:30 UTC.\\n\\nWikipedia is one of the most important online resources for health\\ninformation. This has been especially highlighted during the Covid-19\\npandemic: since the beginning of the year more than 5000 articles related\\nto Covid-19 have been created receiving more than 400M pageviews.\\nTherefore, for this month’s showcase our two invited speakers will help us\\nget a better understanding of the state of medical knowledge in Wikipedia.\\nIn the first talk, Denise Smith will give an overview on how Wikipedia's\\nhealth content is used by different audiences (public, students, or\\npractitioners). In the second talk, Giovanni Colavizza will present results\\non how editors on Wikipedia find, select, and integrate scientific\\ninformation on Covid-19 into Wikipedia articles.\\n\\nYouTube stream: https://www.youtube.com/watch?v=qIV26lWrD9c\\n\\nAs usual, you can join the conversation on IRC ...</td>\n      <td>Hi all, The next Research Showcase will be live-streamed on Wednesday, July 15, at 9:30 AM PDT/16:30 UTC. Wikipedia is one of the most important online resources for health information. This has been especially highlighted during the Covid-19 pandemic: since the beginning of the year more than 5000 articles related to Covid-19 have been created receiving more than 400M pageviews. Therefore, for this month’s showcase our two invited speakers will help us get a better understanding of the state of medical knowledge in Wikipedia. In the first talk, Denise Smith will give an overview on how Wikipedia's health content is used by different audiences (public, students, or practitioners). In the second talk, Giovanni Colavizza will present results on how editors on Wikipedia find, select, and integrate scientific information on Covid-19 into Wikipedia articles. YouTube stream: https://www.youtube.com/watch?v=qIV26lWrD9c As usual, you can join the conversation on IRC at #wikimedia-research....</td>\n    </tr>\n    <tr>\n      <th>2</th>\n      <td>wiki-research-l/2020-July/2020-July-01</td>\n      <td>&lt;CAE4fJj_b7k8yeqmz19a-seo3gtL9Mg1nvQO0oPUtrxvCFMkEaw@mail.gmail.com&gt;</td>\n      <td>ziningy1 at andrew.cmu.edu (Ethan Ye)</td>\n      <td>Wed, 1 Jul 2020 17:54:24 -0400</td>\n      <td>[Wiki-research-l] Wikipedia ORES Research Study Looking for\\n\\tParticipants</td>\n      <td>Hi Stella,\\n\\nThanks for clarifying. So unfortunately in this research, we are only\\nlooking for researchers and developers who are familiar with ORES.\\n\\nBest,\\nEthan\\n\\nOn Tue, Jun 30, 2020 at 3:17 PM Stella Yu &lt;stellayu at gmail.com&gt; wrote:\\n\\n&gt; Hi Ethan,\\n&gt;\\n&gt; Thank you for your reply. I do not have any familiarity with ORES. In terms\\n&gt; of Wikipedia, I am a Wikipedia user. More specifically, I am paid\\n&gt; contributor to Wikipedia. This means I am a Conflict of Interest (COI)\\n&gt; editor. Is this helpful?\\n&gt;\\n&gt; Warmly,\\n&gt;\\n&gt; Stella\\n&gt;\\n&gt;\\n&gt;\\n&gt; On Tue, Jun 30, 2020 at 12:03 PM Ethan Ye &lt;ziningy1 at andrew.cmu.edu&gt; wrote:\\n&gt;\\n&gt; &gt; Hi Stella,\\n&gt; &gt;\\n&gt; &gt; Thanks for your interest! Before we start scheduling, we would like to\\n&gt; know\\n&gt; &gt; a bit more about you.\\n&gt; &gt; Are you a researcher/developer in Wikipedia or if you have any experience\\n&gt; &gt; working with ORES?\\n&gt; &gt;\\n&gt; &gt; Thanks,\\n&gt; &gt; Ethan\\n&gt; &gt;\\n&gt; &gt;\\n&gt; &gt;\\n&gt; &gt;\\n&gt; &gt;\\n&gt; &gt; On Tue, Jun 30, 2020 at 2:44 PM Stella Yu &lt;stellayu at gmail.com&gt; wrot...</td>\n      <td>Hi Stella, Thanks for clarifying. So unfortunately in this research, we are only looking for researchers and developers who are familiar with ORES. Best, Ethan</td>\n    </tr>\n    <tr>\n      <th>3</th>\n      <td>wiki-research-l/2020-July/2020-July-06</td>\n      <td>&lt;CALi5MRFpf2XvvVmSLsFvAkjq2QVRHSLLT4mDppF5eXVMxeZ34w@mail.gmail.com&gt;</td>\n      <td>mackenzie.lemieux at gmail.com (Mackenzie Lemieux)</td>\n      <td>Thu, 9 Jul 2020 11:43:08 -0700</td>\n      <td>[Wiki-research-l] Requesting access to deleted pages for research\\n\\tpurposes</td>\n      <td>Dear Wiki Community,\\n\\nMy name is Mackenzie Lemieux and I am a neuroscience researcher at the Salk\\nInstitute for Biological Studies and I am interested in exploring biases on\\nWikipedia.\\n\\nMy research hypothesis is that gender or ethnicity mediate the rate of\\nflagging and deletion of pages for women in STEM.  I hope to\\nretrospectively analyze Wikipedia's deletion history, harvest the\\nbiographical articles about scientists that have been created over the past\\nn years and then confirm the gender and ethnicity of a large sample.\\n\\nIt appears that we can identify deleted pages with Wikipedia's deletion log\\n&lt;https://en.wikipedia.org/wiki/Wikipedia:Deletion_log&gt;, but to actually see\\nthe page that was deleted we need to be members of one of these Wikipedia\\nuser groups:  Administrators\\n&lt;https://en.wikipedia.org/wiki/Wikipedia:Administrators&gt;, Oversighters\\n&lt;https://en.wikipedia.org/wiki/Wikipedia:Oversight&gt;, Researchers\\n&lt;https://en.wikipedia.org/wiki/Wikipedia:Researchers&gt;, Ch...</td>\n      <td>Dear Wiki Community, My name is Mackenzie Lemieux and I am a neuroscience researcher at the Salk Institute for Biological Studies and I am interested in exploring biases on Wikipedia. My research hypothesis is that gender or ethnicity mediate the rate of flagging and deletion of pages for women in STEM.  I hope to retrospectively analyze Wikipedia's deletion history, harvest the biographical articles about scientists that have been created over the past n years and then confirm the gender and ethnicity of a large sample. It appears that we can identify deleted pages with Wikipedia's deletion log &lt;https://en.wikipedia.org/wiki/Wikipedia:Deletion_log&gt;, but to actually see the page that was deleted we need to be members of one of these Wikipedia user groups:  Administrators &lt;https://en.wikipedia.org/wiki/Wikipedia:Administrators&gt;, Oversighters &lt;https://en.wikipedia.org/wiki/Wikipedia:Oversight&gt;, Researchers &lt;https://en.wikipedia.org/wiki/Wikipedia:Researchers&gt;, Checkusers &lt;https://en....</td>\n    </tr>\n    <tr>\n      <th>4</th>\n      <td>wiki-research-l/2020-July/2020-July-07</td>\n      <td>&lt;CAK0Oe2uzvfjV=R9H5xPEwEPgY0+6FcjOu=F=opXuZtWhD2LyCQ@mail.gmail.com&gt;</td>\n      <td>lzia at wikimedia.org (Leila Zia)</td>\n      <td>Thu, 9 Jul 2020 12:03:58 -0700</td>\n      <td>[Wiki-research-l] Requesting access to deleted pages for\\n\\tresearch purposes</td>\n      <td>Hi Mackenzie,\\n\\nThanks for sharing more about your research here.\\n\\nDo you intend to request access to the deleted logs of specific\\nWikipedia language editions or all Wikipedias?\\n\\nBest,\\nLeila\\n\\n--\\nLeila Zia\\nHead of Research\\nWikimedia Foundation\\n\\nOn Thu, Jul 9, 2020 at 11:43 AM Mackenzie Lemieux\\n&lt;mackenzie.lemieux at gmail.com&gt; wrote:\\n&gt;\\n&gt; Dear Wiki Community,\\n&gt;\\n&gt; My name is Mackenzie Lemieux and I am a neuroscience researcher at the Salk\\n&gt; Institute for Biological Studies and I am interested in exploring biases on\\n&gt; Wikipedia.\\n&gt;\\n&gt; My research hypothesis is that gender or ethnicity mediate the rate of\\n&gt; flagging and deletion of pages for women in STEM.  I hope to\\n&gt; retrospectively analyze Wikipedia's deletion history, harvest the\\n&gt; biographical articles about scientists that have been created over the past\\n&gt; n years and then confirm the gender and ethnicity of a large sample.\\n&gt;\\n&gt; It appears that we can identify deleted pages with Wikipedia's deletion log\\n&gt;...</td>\n      <td>Hi Mackenzie, Thanks for sharing more about your research here. Do you intend to request access to the deleted logs of specific Wikipedia language editions or all Wikipedias? Best, Leila -- Leila Zia Head of Research Wikimedia Foundation</td>\n    </tr>\n  </tbody>\n</table>\n</div>"
     },
     "metadata": {},
     "execution_count": 5
    }
   ],
   "source": [
    "mail_df.head()"
   ]
  },
  {
   "cell_type": "code",
   "execution_count": 16,
   "metadata": {
    "tags": []
   },
   "outputs": [],
   "source": [
    "#　センテンスのリストを作る\n",
    "sentence_list = []\n",
    "for content in mail_df['Cleaned_Content']:\n",
    "    sentences = tokenize.sent_tokenize(content)\n",
    "    for sentence in sentences:\n",
    "        sentence_list.append(sentence)"
   ]
  },
  {
   "cell_type": "code",
   "execution_count": 24,
   "metadata": {
    "tags": []
   },
   "outputs": [],
   "source": [
    "# OpenIEにかける\n",
    "from pyopenie import OpenIE5\n",
    "extractor = OpenIE5('http://localhost:8000')\n",
    "\n",
    "extractions_list = []\n",
    "for sentence in sentence_list:\n",
    "    try:\n",
    "        extractions = extractor.extract(sentence)\n",
    "        extractions_list.append(extractions)\n",
    "    except Exception:\n",
    "        pass"
   ]
  },
  {
   "cell_type": "code",
   "execution_count": 75,
   "metadata": {
    "tags": []
   },
   "outputs": [],
   "source": [
    "rows = []\n",
    "for extractions in extractions_list:\n",
    "    if extractions == []:\n",
    "        pass\n",
    "    else:\n",
    "        for extraction in extractions:\n",
    "            sentence = extraction['sentence']\n",
    "            confidence = extraction['confidence']\n",
    "            arg1 = extraction['extraction']['arg1']['text']\n",
    "            rel = extraction['extraction']['rel']['text']\n",
    "            arg2s_list = []\n",
    "            for arg2 in extraction['extraction']['arg2s']:\n",
    "                arg2s_list.append(arg2['text'])\n",
    "            arg2s = ' '.join(map(str, arg2s_list))\n",
    "            row = [sentence, arg1, rel, arg2s, confidence]\n",
    "        rows.append(row)"
   ]
  },
  {
   "cell_type": "code",
   "execution_count": 76,
   "metadata": {
    "tags": []
   },
   "outputs": [],
   "source": [
    "kb_df = pd.DataFrame(rows, columns = ['sentence', 'arg1', 'rel', 'arg2s', 'confidence'])"
   ]
  },
  {
   "cell_type": "code",
   "execution_count": 80,
   "metadata": {},
   "outputs": [],
   "source": [
    "from db import connect\n",
    "engine = connect()\n",
    "kb_df.to_sql(name='kb-wiki-reseach-l',con=engine,if_exists='replace',index=None)"
   ]
  },
  {
   "cell_type": "code",
   "execution_count": null,
   "metadata": {},
   "outputs": [],
   "source": []
  }
 ],
 "metadata": {
  "kernelspec": {
   "display_name": "Python 3",
   "language": "python",
   "name": "python3"
  },
  "language_info": {
   "codemirror_mode": {
    "name": "ipython",
    "version": 3
   },
   "file_extension": ".py",
   "mimetype": "text/x-python",
   "name": "python",
   "nbconvert_exporter": "python",
   "pygments_lexer": "ipython3",
   "version": "3.7.7"
  }
 },
 "nbformat": 4,
 "nbformat_minor": 4
}