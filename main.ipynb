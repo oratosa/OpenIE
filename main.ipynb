{
 "cells": [
  {
   "cell_type": "code",
   "execution_count": 2,
   "metadata": {},
   "outputs": [],
   "source": [
    "import os, sys, email\n",
    "import numpy as np\n",
    "import pandas as pd\n",
    "from nltk import tokenize\n",
    "import pprint, re, time\n",
    "\n",
    "pd.options.display.max_colwidth = 1000"
   ]
  },
  {
   "cell_type": "code",
   "execution_count": 3,
   "metadata": {},
   "outputs": [],
   "source": [
    "from loadFile import getFileList, getDirList, fileToDataFrame\n",
    "\n",
    "# ディレクトリ 内のメールファイルを読み込む\n",
    "directory_path = \"wiki-research-l/2020-July\"\n",
    "file_list = getFileList(directory_path)\n",
    "\n",
    "# テキストファイルをデータフレームに格納する\n",
    "mail_df, thread_df = fileToDataFrame(file_list)"
   ]
  },
  {
   "cell_type": "code",
   "execution_count": 52,
   "metadata": {},
   "outputs": [
    {
     "data": {
      "text/html": [
       "<div>\n",
       "<style scoped>\n",
       "    .dataframe tbody tr th:only-of-type {\n",
       "        vertical-align: middle;\n",
       "    }\n",
       "\n",
       "    .dataframe tbody tr th {\n",
       "        vertical-align: top;\n",
       "    }\n",
       "\n",
       "    .dataframe thead th {\n",
       "        text-align: right;\n",
       "    }\n",
       "</style>\n",
       "<table border=\"1\" class=\"dataframe\">\n",
       "  <thead>\n",
       "    <tr style=\"text-align: right;\">\n",
       "      <th></th>\n",
       "      <th>file_path</th>\n",
       "      <th>Message-ID</th>\n",
       "      <th>From</th>\n",
       "      <th>Date</th>\n",
       "      <th>Subject</th>\n",
       "      <th>Content</th>\n",
       "    </tr>\n",
       "  </thead>\n",
       "  <tbody>\n",
       "    <tr>\n",
       "      <th>0</th>\n",
       "      <td>wiki-research-l/2020-July/2020-July-30</td>\n",
       "      <td>&lt;CAHTOhHs0k6q89WAHek45sA9ePjLqYhYEEq0pu6GOdX1pqBL1Tg@mail.gmail.com&gt;</td>\n",
       "      <td>haifengz.suny at gmail.com (Haifeng Zhang)</td>\n",
       "      <td>Wed, 22 Jul 2020 10:23:48 -0400</td>\n",
       "      <td>[Wiki-research-l] Qid to Page ID</td>\n",
       "      <td>Paul,\\nSorry, I did not read your response carefully.\\nWill try the wikimapper API as suggested.\\n\\nThanks a lot!\\n\\nOn Tue, Jul 21, 2020 at 1:05 PM Paul Albert &lt;mrpaulalbert at gmail.com&gt; wrote:\\n\\n&gt;\\n&gt; I've been using the Wikimapper API mentioned here:\\n&gt;\\n&gt;\\n&gt; https://opendata.stackexchange.com/questions/5467/mapping-all-wikipedia-urls-to-wikidata-entity-ids\\n&gt;\\n&gt;\\n&gt; Regards,\\n&gt;\\n&gt; Paul Albert\\n&gt;\\n&gt; ﻿On 7/21/20, 12:39 PM, \"Wiki-research-l on behalf of Haifeng Zhang\" &lt;\\n&gt; wiki-research-l-bounces at lists.wikimedia.org on behalf of\\n&gt; haifengz.suny at gmail.com&gt; wrote:\\n&gt;\\n&gt;     Hi all,\\n&gt;     Are you aware of any API that maps wikidata QIDs to their article Page\\n&gt; IDs?\\n&gt;\\n&gt;     Thanks,\\n&gt;     Haifeng\\n&gt;     _______________________________________________\\n&gt;     Wiki-research-l mailing list\\n&gt;     Wiki-research-l at lists.wikimedia.org\\n&gt;     https://lists.wikimedia.org/mailman/listinfo/wiki-research-l\\n&gt; _______________________________________________\\n&gt; Wiki-research-l mailing...</td>\n",
       "    </tr>\n",
       "    <tr>\n",
       "      <th>1</th>\n",
       "      <td>wiki-research-l/2020-July/2020-July-08</td>\n",
       "      <td>&lt;CAJXKj+owEP_UyX2A17x+4NrsB76zv9puwpbPE8ZPBpfD0CRARQ@mail.gmail.com&gt;</td>\n",
       "      <td>jlayton at wikimedia.org (Janna Layton)</td>\n",
       "      <td>Thu, 9 Jul 2020 12:26:49 -0700</td>\n",
       "      <td>[Wiki-research-l] [Wikimedia Research Showcase] July 15,\\n\\t2020: Medical Knowledge on Wikipedia</td>\n",
       "      <td>Hi all,\\n\\nThe next Research Showcase will be live-streamed on Wednesday, July 15, at\\n9:30 AM PDT/16:30 UTC.\\n\\nWikipedia is one of the most important online resources for health\\ninformation. This has been especially highlighted during the Covid-19\\npandemic: since the beginning of the year more than 5000 articles related\\nto Covid-19 have been created receiving more than 400M pageviews.\\nTherefore, for this month’s showcase our two invited speakers will help us\\nget a better understanding of the state of medical knowledge in Wikipedia.\\nIn the first talk, Denise Smith will give an overview on how Wikipedia's\\nhealth content is used by different audiences (public, students, or\\npractitioners). In the second talk, Giovanni Colavizza will present results\\non how editors on Wikipedia find, select, and integrate scientific\\ninformation on Covid-19 into Wikipedia articles.\\n\\nYouTube stream: https://www.youtube.com/watch?v=qIV26lWrD9c\\n\\nAs usual, you can join the conversation on IRC ...</td>\n",
       "    </tr>\n",
       "    <tr>\n",
       "      <th>2</th>\n",
       "      <td>wiki-research-l/2020-July/2020-July-01</td>\n",
       "      <td>&lt;CAE4fJj_b7k8yeqmz19a-seo3gtL9Mg1nvQO0oPUtrxvCFMkEaw@mail.gmail.com&gt;</td>\n",
       "      <td>ziningy1 at andrew.cmu.edu (Ethan Ye)</td>\n",
       "      <td>Wed, 1 Jul 2020 17:54:24 -0400</td>\n",
       "      <td>[Wiki-research-l] Wikipedia ORES Research Study Looking for\\n\\tParticipants</td>\n",
       "      <td>Hi Stella,\\n\\nThanks for clarifying. So unfortunately in this research, we are only\\nlooking for researchers and developers who are familiar with ORES.\\n\\nBest,\\nEthan\\n\\nOn Tue, Jun 30, 2020 at 3:17 PM Stella Yu &lt;stellayu at gmail.com&gt; wrote:\\n\\n&gt; Hi Ethan,\\n&gt;\\n&gt; Thank you for your reply. I do not have any familiarity with ORES. In terms\\n&gt; of Wikipedia, I am a Wikipedia user. More specifically, I am paid\\n&gt; contributor to Wikipedia. This means I am a Conflict of Interest (COI)\\n&gt; editor. Is this helpful?\\n&gt;\\n&gt; Warmly,\\n&gt;\\n&gt; Stella\\n&gt;\\n&gt;\\n&gt;\\n&gt; On Tue, Jun 30, 2020 at 12:03 PM Ethan Ye &lt;ziningy1 at andrew.cmu.edu&gt; wrote:\\n&gt;\\n&gt; &gt; Hi Stella,\\n&gt; &gt;\\n&gt; &gt; Thanks for your interest! Before we start scheduling, we would like to\\n&gt; know\\n&gt; &gt; a bit more about you.\\n&gt; &gt; Are you a researcher/developer in Wikipedia or if you have any experience\\n&gt; &gt; working with ORES?\\n&gt; &gt;\\n&gt; &gt; Thanks,\\n&gt; &gt; Ethan\\n&gt; &gt;\\n&gt; &gt;\\n&gt; &gt;\\n&gt; &gt;\\n&gt; &gt;\\n&gt; &gt; On Tue, Jun 30, 2020 at 2:44 PM Stella Yu &lt;stellayu at gmail.com&gt; wrot...</td>\n",
       "    </tr>\n",
       "    <tr>\n",
       "      <th>3</th>\n",
       "      <td>wiki-research-l/2020-July/2020-July-06</td>\n",
       "      <td>&lt;CALi5MRFpf2XvvVmSLsFvAkjq2QVRHSLLT4mDppF5eXVMxeZ34w@mail.gmail.com&gt;</td>\n",
       "      <td>mackenzie.lemieux at gmail.com (Mackenzie Lemieux)</td>\n",
       "      <td>Thu, 9 Jul 2020 11:43:08 -0700</td>\n",
       "      <td>[Wiki-research-l] Requesting access to deleted pages for research\\n\\tpurposes</td>\n",
       "      <td>Dear Wiki Community,\\n\\nMy name is Mackenzie Lemieux and I am a neuroscience researcher at the Salk\\nInstitute for Biological Studies and I am interested in exploring biases on\\nWikipedia.\\n\\nMy research hypothesis is that gender or ethnicity mediate the rate of\\nflagging and deletion of pages for women in STEM.  I hope to\\nretrospectively analyze Wikipedia's deletion history, harvest the\\nbiographical articles about scientists that have been created over the past\\nn years and then confirm the gender and ethnicity of a large sample.\\n\\nIt appears that we can identify deleted pages with Wikipedia's deletion log\\n&lt;https://en.wikipedia.org/wiki/Wikipedia:Deletion_log&gt;, but to actually see\\nthe page that was deleted we need to be members of one of these Wikipedia\\nuser groups:  Administrators\\n&lt;https://en.wikipedia.org/wiki/Wikipedia:Administrators&gt;, Oversighters\\n&lt;https://en.wikipedia.org/wiki/Wikipedia:Oversight&gt;, Researchers\\n&lt;https://en.wikipedia.org/wiki/Wikipedia:Researchers&gt;, Ch...</td>\n",
       "    </tr>\n",
       "    <tr>\n",
       "      <th>4</th>\n",
       "      <td>wiki-research-l/2020-July/2020-July-07</td>\n",
       "      <td>&lt;CAK0Oe2uzvfjV=R9H5xPEwEPgY0+6FcjOu=F=opXuZtWhD2LyCQ@mail.gmail.com&gt;</td>\n",
       "      <td>lzia at wikimedia.org (Leila Zia)</td>\n",
       "      <td>Thu, 9 Jul 2020 12:03:58 -0700</td>\n",
       "      <td>[Wiki-research-l] Requesting access to deleted pages for\\n\\tresearch purposes</td>\n",
       "      <td>Hi Mackenzie,\\n\\nThanks for sharing more about your research here.\\n\\nDo you intend to request access to the deleted logs of specific\\nWikipedia language editions or all Wikipedias?\\n\\nBest,\\nLeila\\n\\n--\\nLeila Zia\\nHead of Research\\nWikimedia Foundation\\n\\nOn Thu, Jul 9, 2020 at 11:43 AM Mackenzie Lemieux\\n&lt;mackenzie.lemieux at gmail.com&gt; wrote:\\n&gt;\\n&gt; Dear Wiki Community,\\n&gt;\\n&gt; My name is Mackenzie Lemieux and I am a neuroscience researcher at the Salk\\n&gt; Institute for Biological Studies and I am interested in exploring biases on\\n&gt; Wikipedia.\\n&gt;\\n&gt; My research hypothesis is that gender or ethnicity mediate the rate of\\n&gt; flagging and deletion of pages for women in STEM.  I hope to\\n&gt; retrospectively analyze Wikipedia's deletion history, harvest the\\n&gt; biographical articles about scientists that have been created over the past\\n&gt; n years and then confirm the gender and ethnicity of a large sample.\\n&gt;\\n&gt; It appears that we can identify deleted pages with Wikipedia's deletion log\\n&gt;...</td>\n",
       "    </tr>\n",
       "  </tbody>\n",
       "</table>\n",
       "</div>"
      ],
      "text/plain": [
       "                                file_path  \\\n",
       "0  wiki-research-l/2020-July/2020-July-30   \n",
       "1  wiki-research-l/2020-July/2020-July-08   \n",
       "2  wiki-research-l/2020-July/2020-July-01   \n",
       "3  wiki-research-l/2020-July/2020-July-06   \n",
       "4  wiki-research-l/2020-July/2020-July-07   \n",
       "\n",
       "                                                             Message-ID  \\\n",
       "0  <CAHTOhHs0k6q89WAHek45sA9ePjLqYhYEEq0pu6GOdX1pqBL1Tg@mail.gmail.com>   \n",
       "1  <CAJXKj+owEP_UyX2A17x+4NrsB76zv9puwpbPE8ZPBpfD0CRARQ@mail.gmail.com>   \n",
       "2  <CAE4fJj_b7k8yeqmz19a-seo3gtL9Mg1nvQO0oPUtrxvCFMkEaw@mail.gmail.com>   \n",
       "3  <CALi5MRFpf2XvvVmSLsFvAkjq2QVRHSLLT4mDppF5eXVMxeZ34w@mail.gmail.com>   \n",
       "4  <CAK0Oe2uzvfjV=R9H5xPEwEPgY0+6FcjOu=F=opXuZtWhD2LyCQ@mail.gmail.com>   \n",
       "\n",
       "                                                 From  \\\n",
       "0          haifengz.suny at gmail.com (Haifeng Zhang)   \n",
       "1             jlayton at wikimedia.org (Janna Layton)   \n",
       "2               ziningy1 at andrew.cmu.edu (Ethan Ye)   \n",
       "3  mackenzie.lemieux at gmail.com (Mackenzie Lemieux)   \n",
       "4                   lzia at wikimedia.org (Leila Zia)   \n",
       "\n",
       "                              Date  \\\n",
       "0  Wed, 22 Jul 2020 10:23:48 -0400   \n",
       "1   Thu, 9 Jul 2020 12:26:49 -0700   \n",
       "2   Wed, 1 Jul 2020 17:54:24 -0400   \n",
       "3   Thu, 9 Jul 2020 11:43:08 -0700   \n",
       "4   Thu, 9 Jul 2020 12:03:58 -0700   \n",
       "\n",
       "                                                                                            Subject  \\\n",
       "0                                                                  [Wiki-research-l] Qid to Page ID   \n",
       "1  [Wiki-research-l] [Wikimedia Research Showcase] July 15,\\n\\t2020: Medical Knowledge on Wikipedia   \n",
       "2                       [Wiki-research-l] Wikipedia ORES Research Study Looking for\\n\\tParticipants   \n",
       "3                     [Wiki-research-l] Requesting access to deleted pages for research\\n\\tpurposes   \n",
       "4                     [Wiki-research-l] Requesting access to deleted pages for\\n\\tresearch purposes   \n",
       "\n",
       "                                                                                                                                                                                                                                                                                                                                                                                                                                                                                                                                                                                                                                                                                                                                                                                                                                                                                                                                                                                                                                   Content  \n",
       "0  Paul,\\nSorry, I did not read your response carefully.\\nWill try the wikimapper API as suggested.\\n\\nThanks a lot!\\n\\nOn Tue, Jul 21, 2020 at 1:05 PM Paul Albert <mrpaulalbert at gmail.com> wrote:\\n\\n>\\n> I've been using the Wikimapper API mentioned here:\\n>\\n>\\n> https://opendata.stackexchange.com/questions/5467/mapping-all-wikipedia-urls-to-wikidata-entity-ids\\n>\\n>\\n> Regards,\\n>\\n> Paul Albert\\n>\\n> ﻿On 7/21/20, 12:39 PM, \"Wiki-research-l on behalf of Haifeng Zhang\" <\\n> wiki-research-l-bounces at lists.wikimedia.org on behalf of\\n> haifengz.suny at gmail.com> wrote:\\n>\\n>     Hi all,\\n>     Are you aware of any API that maps wikidata QIDs to their article Page\\n> IDs?\\n>\\n>     Thanks,\\n>     Haifeng\\n>     _______________________________________________\\n>     Wiki-research-l mailing list\\n>     Wiki-research-l at lists.wikimedia.org\\n>     https://lists.wikimedia.org/mailman/listinfo/wiki-research-l\\n> _______________________________________________\\n> Wiki-research-l mailing...  \n",
       "1  Hi all,\\n\\nThe next Research Showcase will be live-streamed on Wednesday, July 15, at\\n9:30 AM PDT/16:30 UTC.\\n\\nWikipedia is one of the most important online resources for health\\ninformation. This has been especially highlighted during the Covid-19\\npandemic: since the beginning of the year more than 5000 articles related\\nto Covid-19 have been created receiving more than 400M pageviews.\\nTherefore, for this month’s showcase our two invited speakers will help us\\nget a better understanding of the state of medical knowledge in Wikipedia.\\nIn the first talk, Denise Smith will give an overview on how Wikipedia's\\nhealth content is used by different audiences (public, students, or\\npractitioners). In the second talk, Giovanni Colavizza will present results\\non how editors on Wikipedia find, select, and integrate scientific\\ninformation on Covid-19 into Wikipedia articles.\\n\\nYouTube stream: https://www.youtube.com/watch?v=qIV26lWrD9c\\n\\nAs usual, you can join the conversation on IRC ...  \n",
       "2  Hi Stella,\\n\\nThanks for clarifying. So unfortunately in this research, we are only\\nlooking for researchers and developers who are familiar with ORES.\\n\\nBest,\\nEthan\\n\\nOn Tue, Jun 30, 2020 at 3:17 PM Stella Yu <stellayu at gmail.com> wrote:\\n\\n> Hi Ethan,\\n>\\n> Thank you for your reply. I do not have any familiarity with ORES. In terms\\n> of Wikipedia, I am a Wikipedia user. More specifically, I am paid\\n> contributor to Wikipedia. This means I am a Conflict of Interest (COI)\\n> editor. Is this helpful?\\n>\\n> Warmly,\\n>\\n> Stella\\n>\\n>\\n>\\n> On Tue, Jun 30, 2020 at 12:03 PM Ethan Ye <ziningy1 at andrew.cmu.edu> wrote:\\n>\\n> > Hi Stella,\\n> >\\n> > Thanks for your interest! Before we start scheduling, we would like to\\n> know\\n> > a bit more about you.\\n> > Are you a researcher/developer in Wikipedia or if you have any experience\\n> > working with ORES?\\n> >\\n> > Thanks,\\n> > Ethan\\n> >\\n> >\\n> >\\n> >\\n> >\\n> > On Tue, Jun 30, 2020 at 2:44 PM Stella Yu <stellayu at gmail.com> wrot...  \n",
       "3  Dear Wiki Community,\\n\\nMy name is Mackenzie Lemieux and I am a neuroscience researcher at the Salk\\nInstitute for Biological Studies and I am interested in exploring biases on\\nWikipedia.\\n\\nMy research hypothesis is that gender or ethnicity mediate the rate of\\nflagging and deletion of pages for women in STEM.  I hope to\\nretrospectively analyze Wikipedia's deletion history, harvest the\\nbiographical articles about scientists that have been created over the past\\nn years and then confirm the gender and ethnicity of a large sample.\\n\\nIt appears that we can identify deleted pages with Wikipedia's deletion log\\n<https://en.wikipedia.org/wiki/Wikipedia:Deletion_log>, but to actually see\\nthe page that was deleted we need to be members of one of these Wikipedia\\nuser groups:  Administrators\\n<https://en.wikipedia.org/wiki/Wikipedia:Administrators>, Oversighters\\n<https://en.wikipedia.org/wiki/Wikipedia:Oversight>, Researchers\\n<https://en.wikipedia.org/wiki/Wikipedia:Researchers>, Ch...  \n",
       "4  Hi Mackenzie,\\n\\nThanks for sharing more about your research here.\\n\\nDo you intend to request access to the deleted logs of specific\\nWikipedia language editions or all Wikipedias?\\n\\nBest,\\nLeila\\n\\n--\\nLeila Zia\\nHead of Research\\nWikimedia Foundation\\n\\nOn Thu, Jul 9, 2020 at 11:43 AM Mackenzie Lemieux\\n<mackenzie.lemieux at gmail.com> wrote:\\n>\\n> Dear Wiki Community,\\n>\\n> My name is Mackenzie Lemieux and I am a neuroscience researcher at the Salk\\n> Institute for Biological Studies and I am interested in exploring biases on\\n> Wikipedia.\\n>\\n> My research hypothesis is that gender or ethnicity mediate the rate of\\n> flagging and deletion of pages for women in STEM.  I hope to\\n> retrospectively analyze Wikipedia's deletion history, harvest the\\n> biographical articles about scientists that have been created over the past\\n> n years and then confirm the gender and ethnicity of a large sample.\\n>\\n> It appears that we can identify deleted pages with Wikipedia's deletion log\\n>...  "
      ]
     },
     "execution_count": 52,
     "metadata": {},
     "output_type": "execute_result"
    }
   ],
   "source": [
    "mail_df.head()"
   ]
  },
  {
   "cell_type": "code",
   "execution_count": 53,
   "metadata": {},
   "outputs": [],
   "source": [
    "from preProcess import cleaningText\n",
    "sentences_list = []\n",
    "for content in mail_df['Content']:\n",
    "    sentences = cleaningText(content)\n",
    "    sentences_list.append(sentences)"
   ]
  },
  {
   "cell_type": "code",
   "execution_count": 58,
   "metadata": {},
   "outputs": [
    {
     "name": "stdout",
     "output_type": "stream",
     "text": [
      "Hi all, The next Research Showcase will be live-streamed on Wednesday, July 15, at 9:30 AM PDT/16:30 UTC. Wikipedia is one of the most important online resources for health information. This has been especially highlighted during the Covid-19 pandemic: since the beginning of the year more than 5000 articles related to Covid-19 have been created receiving more than 400M pageviews. Therefore, for this month’s showcase our two invited speakers will help us get a better understanding of the state of medical knowledge in Wikipedia. In the first talk, Denise Smith will give an overview on how Wikipedia's health content is used by different audiences (public, students, or practitioners). In the second talk, Giovanni Colavizza will present results on how editors on Wikipedia find, select, and integrate scientific information on Covid-19 into Wikipedia articles. YouTube stream: https://www.youtube.com/watch?v=qIV26lWrD9c As usual, you can join the conversation on IRC at #wikimedia-research. You can also watch our past research showcases here: https://www.mediawiki.org/wiki/Wikimedia_Research/Showcase This month's presentations: Wikipedia for health information - Situating Wikipedia as a health information resource By Denise Smith (McMaster University, Health Sciences Library & Western University, Faculty of Information & Media Studies) Wikipedia is the most frequently accessed web site for health information, but the various ways users engage with Wikipedia’s health content has not been thoroughly investigated or reported. This talk will summarize the findings of a comprehensive literature review published in February. It explores all the contexts in which Wikipedia’s health content is used that have been reported in academic literature. The talk will focus on the findings reported in this paper, the potential impact of this study in health and medical librarianship, the practice of medicine, and medical or health education.    -    D.A. Smith (2020). \"Situating Wikipedia as a health information resource    in various contexts: A scoping review\". PLoS ONE.    https://journals.plos.org/plosone/article?id=10.1371/journal.pone.0228786 COVID-19 research in Wikipedia By Giovanni Colavizza (University of Amsterdam, Netherlands) Wikipedia is one of the main sources of free knowledge on the Web. During the first few months of the pandemic, over 4,500 new Wikipedia pages on COVID-19 have been created and have accumulated close to 250M pageviews by early April 2020.1 At the same time, an unprecedented amount of scientific articles on COVID-19 and the ongoing pandemic have been published online. Wikipedia’s contents are based on reliable sources, primarily scientific literature. Given its public function, it is crucial for Wikipedia to rely on representative and reliable scientific results, especially so in a time of crisis. We assess the coverage of COVID-19-related research in Wikipedia via citations. We find that Wikipedia editors are integrating new research at an unprecedented fast pace. While doing so, they are able to provide a largely representative coverage of COVID-19-related research. We show that all the main topics discussed in this literature are proportionally represented from Wikipedia, after accounting for article-level effects. We further use regression analyses to model citations from Wikipedia and show that, despite the pressure to keep up with novel results, Wikipedia editors rely on literature which is highly cited, widely shared on social media, and has been peer-reviewed.    -    G. Colavizza (2020). \"COVID-19 research in Wikipedia\". bioRxiv.    https://www.biorxiv.org/content/10.1101/2020.05.10.087643v2 --  Janna Layton (she/her) Administrative Assistant - Product & Technology Wikimedia Foundation <https://wikimediafoundation.org/> --  Janna Layton (she/her) Administrative Assistant - Product & Technology Wikimedia Foundation <https://wikimediafoundation.org/>\n"
     ]
    }
   ],
   "source": [
    "print(sentences_list[1])"
   ]
  },
  {
   "cell_type": "code",
   "execution_count": 60,
   "metadata": {},
   "outputs": [
    {
     "name": "stdout",
     "output_type": "stream",
     "text": [
      "Hi all, The next Research Showcase will be live-streamed on Wednesday, July 15, at 9:30 AM PDT/16:30 UTC.\n",
      "Wikipedia is one of the most important online resources for health information.\n",
      "This has been especially highlighted during the Covid-19 pandemic: since the beginning of the year more than 5000 articles related to Covid-19 have been created receiving more than 400M pageviews.\n",
      "Therefore, for this month’s showcase our two invited speakers will help us get a better understanding of the state of medical knowledge in Wikipedia.\n",
      "In the first talk, Denise Smith will give an overview on how Wikipedia's health content is used by different audiences (public, students, or practitioners).\n",
      "In the second talk, Giovanni Colavizza will present results on how editors on Wikipedia find, select, and integrate scientific information on Covid-19 into Wikipedia articles.\n",
      "YouTube stream: https://www.youtube.com/watch?v=qIV26lWrD9c As usual, you can join the conversation on IRC at #wikimedia-research.\n",
      "You can also watch our past research showcases here: https://www.mediawiki.org/wiki/Wikimedia_Research/Showcase This month's presentations: Wikipedia for health information - Situating Wikipedia as a health information resource By Denise Smith (McMaster University, Health Sciences Library & Western University, Faculty of Information & Media Studies) Wikipedia is the most frequently accessed web site for health information, but the various ways users engage with Wikipedia’s health content has not been thoroughly investigated or reported.\n",
      "This talk will summarize the findings of a comprehensive literature review published in February.\n",
      "It explores all the contexts in which Wikipedia’s health content is used that have been reported in academic literature.\n",
      "The talk will focus on the findings reported in this paper, the potential impact of this study in health and medical librarianship, the practice of medicine, and medical or health education.\n",
      "-    D.A.\n",
      "Smith (2020).\n",
      "\"Situating Wikipedia as a health information resource    in various contexts: A scoping review\".\n",
      "PLoS ONE.\n",
      "https://journals.plos.org/plosone/article?id=10.1371/journal.pone.0228786 COVID-19 research in Wikipedia By Giovanni Colavizza (University of Amsterdam, Netherlands) Wikipedia is one of the main sources of free knowledge on the Web.\n",
      "During the first few months of the pandemic, over 4,500 new Wikipedia pages on COVID-19 have been created and have accumulated close to 250M pageviews by early April 2020.1 At the same time, an unprecedented amount of scientific articles on COVID-19 and the ongoing pandemic have been published online.\n",
      "Wikipedia’s contents are based on reliable sources, primarily scientific literature.\n",
      "Given its public function, it is crucial for Wikipedia to rely on representative and reliable scientific results, especially so in a time of crisis.\n",
      "We assess the coverage of COVID-19-related research in Wikipedia via citations.\n",
      "We find that Wikipedia editors are integrating new research at an unprecedented fast pace.\n",
      "While doing so, they are able to provide a largely representative coverage of COVID-19-related research.\n",
      "We show that all the main topics discussed in this literature are proportionally represented from Wikipedia, after accounting for article-level effects.\n",
      "We further use regression analyses to model citations from Wikipedia and show that, despite the pressure to keep up with novel results, Wikipedia editors rely on literature which is highly cited, widely shared on social media, and has been peer-reviewed.\n",
      "-    G. Colavizza (2020).\n",
      "\"COVID-19 research in Wikipedia\".\n",
      "bioRxiv.\n",
      "https://www.biorxiv.org/content/10.1101/2020.05.10.087643v2 --  Janna Layton (she/her) Administrative Assistant - Product & Technology Wikimedia Foundation <https://wikimediafoundation.org/> --  Janna Layton (she/her) Administrative Assistant - Product & Technology Wikimedia Foundation <https://wikimediafoundation.org/>\n"
     ]
    }
   ],
   "source": [
    "for sentence in tokenize.sent_tokenize(sentences_list[1]):\n",
    "    print(sentence)"
   ]
  },
  {
   "cell_type": "code",
   "execution_count": null,
   "metadata": {},
   "outputs": [],
   "source": []
  }
 ],
 "metadata": {
  "kernelspec": {
   "display_name": "Python 3",
   "language": "python",
   "name": "python3"
  },
  "language_info": {
   "codemirror_mode": {
    "name": "ipython",
    "version": 3
   },
   "file_extension": ".py",
   "mimetype": "text/x-python",
   "name": "python",
   "nbconvert_exporter": "python",
   "pygments_lexer": "ipython3",
   "version": "3.7.7"
  }
 },
 "nbformat": 4,
 "nbformat_minor": 4
}
