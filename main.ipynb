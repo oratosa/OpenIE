{
 "cells": [
  {
   "cell_type": "code",
   "execution_count": 3,
   "metadata": {},
   "outputs": [],
   "source": [
    "import os, sys, email\n",
    "import numpy as np\n",
    "import pandas as pd\n",
    "from nltk import tokenize\n",
    "import pprint, re, time\n",
    "\n",
    "pd.options.display.max_colwidth = 1000"
   ]
  },
  {
   "cell_type": "code",
   "execution_count": 4,
   "metadata": {},
   "outputs": [],
   "source": [
    "import codecs\n",
    "\n",
    "with codecs.open('news/NewsArticles.csv', 'r', 'utf-8', 'ignore') as f:\n",
    "    df = pd.read_csv(f)\n",
    "\n",
    "df = df.iloc[:,0:6]"
   ]
  },
  {
   "cell_type": "code",
   "execution_count": 5,
   "metadata": {},
   "outputs": [
    {
     "output_type": "execute_result",
     "data": {
      "text/plain": "10"
     },
     "metadata": {},
     "execution_count": 5
    }
   ],
   "source": [
    "# 2017/2/2（10本）の記事からなるテストデータを作成\n",
    "df = df[df['publish_date'] == '2017/2/2']\n",
    "len(df)"
   ]
  },
  {
   "cell_type": "code",
   "execution_count": 16,
   "metadata": {
    "tags": []
   },
   "outputs": [],
   "source": [
    "#　センテンスのリストを作る\n",
    "sentence_list = []\n",
    "for content in df['text']:\n",
    "    if type(content) is str:\n",
    "        sentences = tokenize.sent_tokenize(content)\n",
    "        for sentence in sentences:\n",
    "            sentence_list.append(sentence)\n",
    "    else:\n",
    "        pass"
   ]
  },
  {
   "cell_type": "code",
   "execution_count": 17,
   "metadata": {
    "tags": []
   },
   "outputs": [],
   "source": [
    "# OpenIEにかける\n",
    "from pyopenie import OpenIE5\n",
    "extractor = OpenIE5('http://localhost:8000')\n",
    "\n",
    "extractions_list = []\n",
    "for sentence in sentence_list:\n",
    "    try:\n",
    "        extractions = extractor.extract(sentence)\n",
    "        extractions_list.append(extractions)\n",
    "    except Exception:\n",
    "        pass"
   ]
  },
  {
   "cell_type": "code",
   "execution_count": 18,
   "metadata": {
    "tags": []
   },
   "outputs": [],
   "source": [
    "rows = []\n",
    "for extractions in extractions_list:\n",
    "    if extractions == []:\n",
    "        pass\n",
    "    else:\n",
    "        for extraction in extractions:\n",
    "            sentence = extraction['sentence']\n",
    "            confidence = extraction['confidence']\n",
    "            arg1 = extraction['extraction']['arg1']['text']\n",
    "            rel = extraction['extraction']['rel']['text']\n",
    "            arg2s_list = []\n",
    "            for arg2 in extraction['extraction']['arg2s']:\n",
    "                arg2s_list.append(arg2['text'])\n",
    "            arg2s = ' '.join(map(str, arg2s_list))\n",
    "            row = [sentence, arg1, rel, arg2s, confidence]\n",
    "            rows.append(row)"
   ]
  },
  {
   "cell_type": "code",
   "execution_count": 20,
   "metadata": {
    "tags": []
   },
   "outputs": [
    {
     "output_type": "execute_result",
     "data": {
      "text/plain": "                                                                                                                 sentence  \\\n0  Although slavery is outlawed in every country, criminals earn more than $150 Billion every year from enslaving people.   \n1  Although slavery is outlawed in every country, criminals earn more than $150 Billion every year from enslaving people.   \n2  Although slavery is outlawed in every country, criminals earn more than $150 Billion every year from enslaving people.   \n3                                                                                      But you can do something about it.   \n4                                            On MARCH 14, 2017, we want YOU and your school to join us for #MyFreedomDay.   \n\n          arg1          rel  \\\n0    criminals         earn   \n1    criminals         earn   \n2      slavery  is outlawed   \n3          you       can do   \n4  your school      to join   \n\n                                                     arg2s  confidence  \n0                       more than $ 150 billion every year    0.999000  \n1  more than $150 Billion every year from enslaving people    0.894243  \n2                                         in every country    0.894243  \n3                                       something about it    0.464930  \n4                                    us for # MyFreedomDay    0.469945  ",
      "text/html": "<div>\n<style scoped>\n    .dataframe tbody tr th:only-of-type {\n        vertical-align: middle;\n    }\n\n    .dataframe tbody tr th {\n        vertical-align: top;\n    }\n\n    .dataframe thead th {\n        text-align: right;\n    }\n</style>\n<table border=\"1\" class=\"dataframe\">\n  <thead>\n    <tr style=\"text-align: right;\">\n      <th></th>\n      <th>sentence</th>\n      <th>arg1</th>\n      <th>rel</th>\n      <th>arg2s</th>\n      <th>confidence</th>\n    </tr>\n  </thead>\n  <tbody>\n    <tr>\n      <th>0</th>\n      <td>Although slavery is outlawed in every country, criminals earn more than $150 Billion every year from enslaving people.</td>\n      <td>criminals</td>\n      <td>earn</td>\n      <td>more than $ 150 billion every year</td>\n      <td>0.999000</td>\n    </tr>\n    <tr>\n      <th>1</th>\n      <td>Although slavery is outlawed in every country, criminals earn more than $150 Billion every year from enslaving people.</td>\n      <td>criminals</td>\n      <td>earn</td>\n      <td>more than $150 Billion every year from enslaving people</td>\n      <td>0.894243</td>\n    </tr>\n    <tr>\n      <th>2</th>\n      <td>Although slavery is outlawed in every country, criminals earn more than $150 Billion every year from enslaving people.</td>\n      <td>slavery</td>\n      <td>is outlawed</td>\n      <td>in every country</td>\n      <td>0.894243</td>\n    </tr>\n    <tr>\n      <th>3</th>\n      <td>But you can do something about it.</td>\n      <td>you</td>\n      <td>can do</td>\n      <td>something about it</td>\n      <td>0.464930</td>\n    </tr>\n    <tr>\n      <th>4</th>\n      <td>On MARCH 14, 2017, we want YOU and your school to join us for #MyFreedomDay.</td>\n      <td>your school</td>\n      <td>to join</td>\n      <td>us for # MyFreedomDay</td>\n      <td>0.469945</td>\n    </tr>\n  </tbody>\n</table>\n</div>"
     },
     "metadata": {},
     "execution_count": 20
    }
   ],
   "source": [
    "kb_df = pd.DataFrame(rows, columns = ['sentence', 'arg1', 'rel', 'arg2s', 'confidence'])\n",
    "kb_df.head()"
   ]
  },
  {
   "cell_type": "code",
   "execution_count": 21,
   "metadata": {},
   "outputs": [
    {
     "output_type": "execute_result",
     "data": {
      "text/plain": "786"
     },
     "metadata": {},
     "execution_count": 21
    }
   ],
   "source": [
    "len(kb_df)"
   ]
  },
  {
   "cell_type": "code",
   "execution_count": 22,
   "metadata": {},
   "outputs": [],
   "source": [
    "from db import connect\n",
    "engine = connect()\n",
    "kb_df.to_sql(name='news',con=engine,if_exists='replace',index=None)"
   ]
  },
  {
   "cell_type": "code",
   "execution_count": null,
   "metadata": {},
   "outputs": [],
   "source": []
  }
 ],
 "metadata": {
  "kernelspec": {
   "display_name": "Python 3",
   "language": "python",
   "name": "python3"
  },
  "language_info": {
   "codemirror_mode": {
    "name": "ipython",
    "version": 3
   },
   "file_extension": ".py",
   "mimetype": "text/x-python",
   "name": "python",
   "nbconvert_exporter": "python",
   "pygments_lexer": "ipython3",
   "version": "3.7.7-final"
  }
 },
 "nbformat": 4,
 "nbformat_minor": 4
}