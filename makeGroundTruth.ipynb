{
 "metadata": {
  "language_info": {
   "codemirror_mode": {
    "name": "ipython",
    "version": 3
   },
   "file_extension": ".py",
   "mimetype": "text/x-python",
   "name": "python",
   "nbconvert_exporter": "python",
   "pygments_lexer": "ipython3",
   "version": "3.7.7-final"
  },
  "orig_nbformat": 2,
  "kernelspec": {
   "name": "python3",
   "display_name": "Python 3",
   "language": "python"
  }
 },
 "nbformat": 4,
 "nbformat_minor": 2,
 "cells": [
  {
   "cell_type": "code",
   "execution_count": 16,
   "metadata": {},
   "outputs": [],
   "source": [
    "import os, sys, email, datetime, pprint, re, time, html, pickle\n",
    "import numpy as np\n",
    "import pandas as pd\n",
    "import nltk\n",
    "from nltk.metrics import *\n",
    "\n",
    "pd.options.display.max_colwidth = 1000"
   ]
  },
  {
   "cell_type": "code",
   "execution_count": 2,
   "metadata": {},
   "outputs": [],
   "source": [
    "from db import connect\n",
    "engine = connect()\n",
    "mail_df = pd.read_sql(sql='SELECT * FROM mail_3 ORDER BY docno ASC',con=engine, index_col=None)"
   ]
  },
  {
   "cell_type": "code",
   "execution_count": 3,
   "metadata": {},
   "outputs": [],
   "source": [
    "### 自然言語処理\n",
    "import spacy \n",
    "nlp = spacy.load(\"en_core_web_sm\")\n",
    "from spacy.pipeline import Sentencizer\n",
    "sentencizer = Sentencizer()\n",
    "nlp.add_pipe(sentencizer)"
   ]
  },
  {
   "cell_type": "code",
   "execution_count": 4,
   "metadata": {},
   "outputs": [
    {
     "output_type": "execute_result",
     "data": {
      "text/plain": [
       "                docno                  received         isoreceived  \\\n",
       "0  lists-000-13503992  Fri Jul 14 12:48:10 2000 2000-07-14 16:48:10   \n",
       "1   lists-001-9920622  Sat Jul 14 07:24:02 2001 2001-07-14 11:24:02   \n",
       "2   lists-001-9920622  Sat Jul 14 07:24:02 2001 2001-07-14 11:24:02   \n",
       "3  lists-002-10134409  Tue Apr 29 10:23:48 2003 2003-04-29 14:23:48   \n",
       "4  lists-002-10233238  Sat May 17 03:24:47 2003 2003-05-17 07:24:47   \n",
       "\n",
       "                                    sent             isosent  \\\n",
       "0  Fri, 14 Jul 2000 08:19:41 -0400 (EDT) 2000-07-14 12:19:41   \n",
       "1        Sat, 14 Jul 2001 13:12:58 +0200 2001-07-14 11:12:58   \n",
       "2        Sat, 14 Jul 2001 13:12:58 +0200 2001-07-14 11:12:58   \n",
       "3        Tue, 29 Apr 2003 22:23:41 +0800 2003-04-29 14:23:41   \n",
       "4  Wed, 14 May 2003 09:32:46 -0400 (EDT) 2003-05-14 13:32:46   \n",
       "\n",
       "                  name                     email  \\\n",
       "0       Georgopoulos N  ngeorgopoulos@city.ac.uk   \n",
       "1  Karl Ove Hufthammer        huftis@bigfoot.com   \n",
       "2  Karl Ove Hufthammer        huftis@bigfoot.com   \n",
       "3            lock mode        klcc70@hotmail.com   \n",
       "4       David Van Cott            dtvc17@msn.com   \n",
       "\n",
       "                                                                         subject  \\\n",
       "0                                                                     Bug report   \n",
       "1                                                     Re: entities in title tags   \n",
       "2                                                     Re: entities in title tags   \n",
       "3  Stock markets rise on positive earnings, consumer spending ConsumerReportsorg   \n",
       "4                                                                    Tag problem   \n",
       "\n",
       "                                        id     charset  \\\n",
       "0             E13D4Rs-0004TB-00@mailswitch    US-ASCII   \n",
       "1    003b01c10c55$f0f62060$f3468ed5@huftis  iso-8859-1   \n",
       "2    003b01c10c55$f0f62060$f3468ed5@huftis  iso-8859-1   \n",
       "3  Law10-F458juXym3SjK00016b82@hotmail.com        None   \n",
       "4  BAY4-F144h4Jzgi1Z8200004355@hotmail.com        None   \n",
       "\n",
       "                                 inreplyto expires                       to  \\\n",
       "0                                     None      -1         html-tidy@w3.org   \n",
       "1  000201c10c12$b894f900$4222e540@IanEvans      -1         html-tidy@w3.org   \n",
       "2  000201c10c12$b894f900$4222e540@IanEvans      -1  ianevans@digitalhit.com   \n",
       "3                                     None      -1         html-tidy@w3.org   \n",
       "4                                     None      -1         html-tidy@w3.org   \n",
       "\n",
       "           cc  \\\n",
       "0        None   \n",
       "1        None   \n",
       "2        None   \n",
       "3        None   \n",
       "4  dsr@w3.org   \n",
       "\n",
       "                                                                                                                                                                                                                                                                                                                                                                                                                                                                                                                                                                                                                                                                                                                                                                                                                                                                                                                                                                                                                                      body  \n",
       "0                                                                                                                                                                                                                                                                                                                                                                                                                                                                                                                                                                                                                                                                                                                                                                                                                                                                                                                                                                                                         text/enriched attachment: stored  \n",
       "1                                                                                                                                                                                                                                                                                                                                                                                                                                                                                                                                                                                                                                       ----- Original Message ----- \\nFrom: \"Ian M. Evans\" <ianevans@digitalhit.com>\\nSent: Saturday, July 14, 2001 5:11 AM\\nSubject: entities in title tags\\n Just wondering if there's anything wrong with entities in title tags.\\nNo.\\n I've noticed that the numeric entity for the apostrophe ends up showing up\\n in Google search results as:\\nThis is a bug in Google.\\n-- \\nKarl Ove Hufthammer  \n",
       "2                                                                                                                                                                                                                                                                                                                                                                                                                                                                                                                                                                                                                                       ----- Original Message ----- \\nFrom: \"Ian M. Evans\" <ianevans@digitalhit.com>\\nSent: Saturday, July 14, 2001 5:11 AM\\nSubject: entities in title tags\\n Just wondering if there's anything wrong with entities in title tags.\\nNo.\\n I've noticed that the numeric entity for the apostrophe ends up showing up\\n in Google search results as:\\nThis is a bug in Google.\\n-- \\nKarl Ove Hufthammer  \n",
       "3  Unbiased product Ratings from the experts at Product Ratings, product \\nreviews, buying guides, product safety recalls and consumer information from \\nthe experts at Consumer Union/Consumer Reports Magazine. Information, \\nratings, and advice on products, services, and decisions. new car reviews, \\nused car Consumer Reports Cars and Trucks: Stay informed with our latest new \\ncar reviews, used car reviews, auto ratings, car safety reports and auto \\nprice service. Provides car reviews, automobile safety information, car \\nbuying guidance.\\nhttp://www.geocities.com/webrobotic2/ConsumerReports.htm\\nconsumer report\\n12965 consumer report magazine\\n11859 consumer report car\\n9172 consumer report online\\n7784 consumer report auto\\n4280 consumer report vacuum cleaners\\n3970 consumer report digital camera\\n3764 consumer credit report\\n3633 consumer report automobile\\n2817 free consumer report\\n2477 consumer report mattress\\n2221 consumer report on health\\n1978 consumer report magazine sub...  \n",
       "4                                                                                                                               I'm using html tidy at work to make the website more accessible and I'm \\nhaving a little problem. Everything seems to work great execept for one \\nthing. Tidy seems to be removing the <dl tags. This is causing the \\nalignment of the webpages to be off. I searched through google newsgroups \\nand the www.w3.org site and I couldnt find any questions or solutions \\nregarding this. There is my configs...\\n--clean yes\\n--output-xml no\\n--enclose-text yes\\n--enclose-block-text yes\\n--indent auto\\n--alt-text GraphicImage\\nOther then that problem I think this program is great. I have to make sure \\nover 1000 html files have alt attributes inside the img tag. This make file \\nmuch similar. Thanks\\nDavid\\n_________________________________________________________________\\nHelp STOP SPAM with the new MSN 8 and get 2 months FREE* \\nhttp://join.msn.com/?page=features/junkmail  "
      ],
      "text/html": "<div>\n<style scoped>\n    .dataframe tbody tr th:only-of-type {\n        vertical-align: middle;\n    }\n\n    .dataframe tbody tr th {\n        vertical-align: top;\n    }\n\n    .dataframe thead th {\n        text-align: right;\n    }\n</style>\n<table border=\"1\" class=\"dataframe\">\n  <thead>\n    <tr style=\"text-align: right;\">\n      <th></th>\n      <th>docno</th>\n      <th>received</th>\n      <th>isoreceived</th>\n      <th>sent</th>\n      <th>isosent</th>\n      <th>name</th>\n      <th>email</th>\n      <th>subject</th>\n      <th>id</th>\n      <th>charset</th>\n      <th>inreplyto</th>\n      <th>expires</th>\n      <th>to</th>\n      <th>cc</th>\n      <th>body</th>\n    </tr>\n  </thead>\n  <tbody>\n    <tr>\n      <th>0</th>\n      <td>lists-000-13503992</td>\n      <td>Fri Jul 14 12:48:10 2000</td>\n      <td>2000-07-14 16:48:10</td>\n      <td>Fri, 14 Jul 2000 08:19:41 -0400 (EDT)</td>\n      <td>2000-07-14 12:19:41</td>\n      <td>Georgopoulos N</td>\n      <td>ngeorgopoulos@city.ac.uk</td>\n      <td>Bug report</td>\n      <td>E13D4Rs-0004TB-00@mailswitch</td>\n      <td>US-ASCII</td>\n      <td>None</td>\n      <td>-1</td>\n      <td>html-tidy@w3.org</td>\n      <td>None</td>\n      <td>text/enriched attachment: stored</td>\n    </tr>\n    <tr>\n      <th>1</th>\n      <td>lists-001-9920622</td>\n      <td>Sat Jul 14 07:24:02 2001</td>\n      <td>2001-07-14 11:24:02</td>\n      <td>Sat, 14 Jul 2001 13:12:58 +0200</td>\n      <td>2001-07-14 11:12:58</td>\n      <td>Karl Ove Hufthammer</td>\n      <td>huftis@bigfoot.com</td>\n      <td>Re: entities in title tags</td>\n      <td>003b01c10c55$f0f62060$f3468ed5@huftis</td>\n      <td>iso-8859-1</td>\n      <td>000201c10c12$b894f900$4222e540@IanEvans</td>\n      <td>-1</td>\n      <td>html-tidy@w3.org</td>\n      <td>None</td>\n      <td>----- Original Message ----- \\nFrom: \"Ian M. Evans\" &lt;ianevans@digitalhit.com&gt;\\nSent: Saturday, July 14, 2001 5:11 AM\\nSubject: entities in title tags\\n Just wondering if there's anything wrong with entities in title tags.\\nNo.\\n I've noticed that the numeric entity for the apostrophe ends up showing up\\n in Google search results as:\\nThis is a bug in Google.\\n-- \\nKarl Ove Hufthammer</td>\n    </tr>\n    <tr>\n      <th>2</th>\n      <td>lists-001-9920622</td>\n      <td>Sat Jul 14 07:24:02 2001</td>\n      <td>2001-07-14 11:24:02</td>\n      <td>Sat, 14 Jul 2001 13:12:58 +0200</td>\n      <td>2001-07-14 11:12:58</td>\n      <td>Karl Ove Hufthammer</td>\n      <td>huftis@bigfoot.com</td>\n      <td>Re: entities in title tags</td>\n      <td>003b01c10c55$f0f62060$f3468ed5@huftis</td>\n      <td>iso-8859-1</td>\n      <td>000201c10c12$b894f900$4222e540@IanEvans</td>\n      <td>-1</td>\n      <td>ianevans@digitalhit.com</td>\n      <td>None</td>\n      <td>----- Original Message ----- \\nFrom: \"Ian M. Evans\" &lt;ianevans@digitalhit.com&gt;\\nSent: Saturday, July 14, 2001 5:11 AM\\nSubject: entities in title tags\\n Just wondering if there's anything wrong with entities in title tags.\\nNo.\\n I've noticed that the numeric entity for the apostrophe ends up showing up\\n in Google search results as:\\nThis is a bug in Google.\\n-- \\nKarl Ove Hufthammer</td>\n    </tr>\n    <tr>\n      <th>3</th>\n      <td>lists-002-10134409</td>\n      <td>Tue Apr 29 10:23:48 2003</td>\n      <td>2003-04-29 14:23:48</td>\n      <td>Tue, 29 Apr 2003 22:23:41 +0800</td>\n      <td>2003-04-29 14:23:41</td>\n      <td>lock mode</td>\n      <td>klcc70@hotmail.com</td>\n      <td>Stock markets rise on positive earnings, consumer spending ConsumerReportsorg</td>\n      <td>Law10-F458juXym3SjK00016b82@hotmail.com</td>\n      <td>None</td>\n      <td>None</td>\n      <td>-1</td>\n      <td>html-tidy@w3.org</td>\n      <td>None</td>\n      <td>Unbiased product Ratings from the experts at Product Ratings, product \\nreviews, buying guides, product safety recalls and consumer information from \\nthe experts at Consumer Union/Consumer Reports Magazine. Information, \\nratings, and advice on products, services, and decisions. new car reviews, \\nused car Consumer Reports Cars and Trucks: Stay informed with our latest new \\ncar reviews, used car reviews, auto ratings, car safety reports and auto \\nprice service. Provides car reviews, automobile safety information, car \\nbuying guidance.\\nhttp://www.geocities.com/webrobotic2/ConsumerReports.htm\\nconsumer report\\n12965 consumer report magazine\\n11859 consumer report car\\n9172 consumer report online\\n7784 consumer report auto\\n4280 consumer report vacuum cleaners\\n3970 consumer report digital camera\\n3764 consumer credit report\\n3633 consumer report automobile\\n2817 free consumer report\\n2477 consumer report mattress\\n2221 consumer report on health\\n1978 consumer report magazine sub...</td>\n    </tr>\n    <tr>\n      <th>4</th>\n      <td>lists-002-10233238</td>\n      <td>Sat May 17 03:24:47 2003</td>\n      <td>2003-05-17 07:24:47</td>\n      <td>Wed, 14 May 2003 09:32:46 -0400 (EDT)</td>\n      <td>2003-05-14 13:32:46</td>\n      <td>David Van Cott</td>\n      <td>dtvc17@msn.com</td>\n      <td>Tag problem</td>\n      <td>BAY4-F144h4Jzgi1Z8200004355@hotmail.com</td>\n      <td>None</td>\n      <td>None</td>\n      <td>-1</td>\n      <td>html-tidy@w3.org</td>\n      <td>dsr@w3.org</td>\n      <td>I'm using html tidy at work to make the website more accessible and I'm \\nhaving a little problem. Everything seems to work great execept for one \\nthing. Tidy seems to be removing the &lt;dl tags. This is causing the \\nalignment of the webpages to be off. I searched through google newsgroups \\nand the www.w3.org site and I couldnt find any questions or solutions \\nregarding this. There is my configs...\\n--clean yes\\n--output-xml no\\n--enclose-text yes\\n--enclose-block-text yes\\n--indent auto\\n--alt-text GraphicImage\\nOther then that problem I think this program is great. I have to make sure \\nover 1000 html files have alt attributes inside the img tag. This make file \\nmuch similar. Thanks\\nDavid\\n_________________________________________________________________\\nHelp STOP SPAM with the new MSN 8 and get 2 months FREE* \\nhttp://join.msn.com/?page=features/junkmail</td>\n    </tr>\n  </tbody>\n</table>\n</div>"
     },
     "metadata": {},
     "execution_count": 4
    }
   ],
   "source": [
    "mail_df.head()"
   ]
  },
  {
   "cell_type": "code",
   "execution_count": 11,
   "metadata": {},
   "outputs": [],
   "source": [
    "pattern = re.compile('\\W+')\n",
    "check = re.compile('')\n",
    "count = 0\n",
    "rows = []\n",
    "\n",
    "for value in mail_df.values:\n",
    "    docno = value[0]\n",
    "    uid = value[8]\n",
    "    body = value[14]\n",
    "    doc = nlp(body)\n",
    "\n",
    "    for sent in doc.sents:\n",
    "        sent_text = sent.text\n",
    "        if len(sent_text.split()) <= 5: # for uninformative sentence\n",
    "            pass\n",
    "        elif re.search('google', sent_text, flags=re.IGNORECASE):\n",
    "            rows.append([docno,uid,sent_text])\n",
    "        else:\n",
    "            pass"
   ]
  },
  {
   "cell_type": "code",
   "execution_count": 12,
   "metadata": {},
   "outputs": [
    {
     "output_type": "execute_result",
     "data": {
      "text/plain": [
       "696"
      ]
     },
     "metadata": {},
     "execution_count": 12
    }
   ],
   "source": [
    "len(rows)"
   ]
  },
  {
   "cell_type": "code",
   "execution_count": 13,
   "metadata": {},
   "outputs": [
    {
     "output_type": "execute_result",
     "data": {
      "text/plain": [
       "                docno                                      uid  \\\n",
       "0   lists-001-9920622    003b01c10c55$f0f62060$f3468ed5@huftis   \n",
       "1   lists-001-9920622    003b01c10c55$f0f62060$f3468ed5@huftis   \n",
       "2   lists-001-9920622    003b01c10c55$f0f62060$f3468ed5@huftis   \n",
       "3   lists-001-9920622    003b01c10c55$f0f62060$f3468ed5@huftis   \n",
       "4  lists-002-10233238  BAY4-F144h4Jzgi1Z8200004355@hotmail.com   \n",
       "\n",
       "                                                                                                                         sentence  \n",
       "0                     I've noticed that the numeric entity for the apostrophe ends up showing up\\n in Google search results as:\\n  \n",
       "1                                                                                                        This is a bug in Google.  \n",
       "2                     I've noticed that the numeric entity for the apostrophe ends up showing up\\n in Google search results as:\\n  \n",
       "3                                                                                                        This is a bug in Google.  \n",
       "4  I searched through google newsgroups \\nand the www.w3.org site and I couldnt find any questions or solutions \\nregarding this.  "
      ],
      "text/html": "<div>\n<style scoped>\n    .dataframe tbody tr th:only-of-type {\n        vertical-align: middle;\n    }\n\n    .dataframe tbody tr th {\n        vertical-align: top;\n    }\n\n    .dataframe thead th {\n        text-align: right;\n    }\n</style>\n<table border=\"1\" class=\"dataframe\">\n  <thead>\n    <tr style=\"text-align: right;\">\n      <th></th>\n      <th>docno</th>\n      <th>uid</th>\n      <th>sentence</th>\n    </tr>\n  </thead>\n  <tbody>\n    <tr>\n      <th>0</th>\n      <td>lists-001-9920622</td>\n      <td>003b01c10c55$f0f62060$f3468ed5@huftis</td>\n      <td>I've noticed that the numeric entity for the apostrophe ends up showing up\\n in Google search results as:\\n</td>\n    </tr>\n    <tr>\n      <th>1</th>\n      <td>lists-001-9920622</td>\n      <td>003b01c10c55$f0f62060$f3468ed5@huftis</td>\n      <td>This is a bug in Google.</td>\n    </tr>\n    <tr>\n      <th>2</th>\n      <td>lists-001-9920622</td>\n      <td>003b01c10c55$f0f62060$f3468ed5@huftis</td>\n      <td>I've noticed that the numeric entity for the apostrophe ends up showing up\\n in Google search results as:\\n</td>\n    </tr>\n    <tr>\n      <th>3</th>\n      <td>lists-001-9920622</td>\n      <td>003b01c10c55$f0f62060$f3468ed5@huftis</td>\n      <td>This is a bug in Google.</td>\n    </tr>\n    <tr>\n      <th>4</th>\n      <td>lists-002-10233238</td>\n      <td>BAY4-F144h4Jzgi1Z8200004355@hotmail.com</td>\n      <td>I searched through google newsgroups \\nand the www.w3.org site and I couldnt find any questions or solutions \\nregarding this.</td>\n    </tr>\n  </tbody>\n</table>\n</div>"
     },
     "metadata": {},
     "execution_count": 13
    }
   ],
   "source": [
    "checklist = pd.DataFrame(rows,columns=['docno','uid','sentence'])\n",
    "checklist.head()"
   ]
  },
  {
   "cell_type": "code",
   "execution_count": 14,
   "metadata": {},
   "outputs": [],
   "source": [
    "checklist.to_csv('/Users/taroaso/myprojects/OpenIE/trec/output/3/eval3_checklist.csv')"
   ]
  },
  {
   "cell_type": "code",
   "execution_count": 22,
   "metadata": {},
   "outputs": [],
   "source": [
    "with open('/Users/taroaso/myprojects/OpenIE/trec/output/3/openie_result.pickle', mode=\"rb\") as f:\n",
    "    openie = pickle.load(f)"
   ]
  },
  {
   "cell_type": "code",
   "execution_count": 23,
   "metadata": {},
   "outputs": [],
   "source": [
    "rows = []\n",
    "for uid, sents in openie.items():\n",
    "    for sent in sents:\n",
    "        if re.search('google', sent['sentence'], flags=re.IGNORECASE):\n",
    "            rows.append([uid, sent['sentence']])"
   ]
  },
  {
   "cell_type": "code",
   "execution_count": 25,
   "metadata": {},
   "outputs": [
    {
     "output_type": "execute_result",
     "data": {
      "text/plain": [
       "289"
      ]
     },
     "metadata": {},
     "execution_count": 25
    }
   ],
   "source": [
    "len(rows)"
   ]
  },
  {
   "cell_type": "code",
   "execution_count": 26,
   "metadata": {},
   "outputs": [
    {
     "output_type": "execute_result",
     "data": {
      "text/plain": [
       "                           uid  \\\n",
       "0  4084867E.9050502@kbc.net.au   \n",
       "1  4084867E.9050502@kbc.net.au   \n",
       "2  4084867E.9050502@kbc.net.au   \n",
       "3  4084867E.9050502@kbc.net.au   \n",
       "4  4084867E.9050502@kbc.net.au   \n",
       "\n",
       "                                                                                                                                                                                                sentence  \n",
       "0     Now, from the point of view of accessibility, when a website's pages are indexed by Google, wouldn't it be easier for people with disabilities to use a seach engine they are already used to use?  \n",
       "1                                               Should we actively promote the use of search engines like Google as local seach engine at any major website, if the pages are already indexed by Google?  \n",
       "2  Whilst I think that Google has a great product, I do not think it in the best \\ninterests of accessibility, or indeed of a stable infrastructure, to standardise \\non a single, proprietary solution.  \n",
       "3              If Google should fail as a company or start charging excessively for the Site \\nSearch service), if everyone were using it, the entire concept of Site Search \\nwould drop into a vacuum.  \n",
       "4                                                                                                                                                ie: not \\nall owned by Google), I might feel otherwise.  "
      ],
      "text/html": "<div>\n<style scoped>\n    .dataframe tbody tr th:only-of-type {\n        vertical-align: middle;\n    }\n\n    .dataframe tbody tr th {\n        vertical-align: top;\n    }\n\n    .dataframe thead th {\n        text-align: right;\n    }\n</style>\n<table border=\"1\" class=\"dataframe\">\n  <thead>\n    <tr style=\"text-align: right;\">\n      <th></th>\n      <th>uid</th>\n      <th>sentence</th>\n    </tr>\n  </thead>\n  <tbody>\n    <tr>\n      <th>0</th>\n      <td>4084867E.9050502@kbc.net.au</td>\n      <td>Now, from the point of view of accessibility, when a website's pages are indexed by Google, wouldn't it be easier for people with disabilities to use a seach engine they are already used to use?</td>\n    </tr>\n    <tr>\n      <th>1</th>\n      <td>4084867E.9050502@kbc.net.au</td>\n      <td>Should we actively promote the use of search engines like Google as local seach engine at any major website, if the pages are already indexed by Google?</td>\n    </tr>\n    <tr>\n      <th>2</th>\n      <td>4084867E.9050502@kbc.net.au</td>\n      <td>Whilst I think that Google has a great product, I do not think it in the best \\ninterests of accessibility, or indeed of a stable infrastructure, to standardise \\non a single, proprietary solution.</td>\n    </tr>\n    <tr>\n      <th>3</th>\n      <td>4084867E.9050502@kbc.net.au</td>\n      <td>If Google should fail as a company or start charging excessively for the Site \\nSearch service), if everyone were using it, the entire concept of Site Search \\nwould drop into a vacuum.</td>\n    </tr>\n    <tr>\n      <th>4</th>\n      <td>4084867E.9050502@kbc.net.au</td>\n      <td>ie: not \\nall owned by Google), I might feel otherwise.</td>\n    </tr>\n  </tbody>\n</table>\n</div>"
     },
     "metadata": {},
     "execution_count": 26
    }
   ],
   "source": [
    "checklist = pd.DataFrame(rows,columns=['uid','sentence'])\n",
    "checklist.head()"
   ]
  },
  {
   "cell_type": "code",
   "execution_count": 27,
   "metadata": {},
   "outputs": [],
   "source": [
    "checklist.to_csv('/Users/taroaso/myprojects/OpenIE/trec/output/3/eval3_checklist.csv')"
   ]
  },
  {
   "cell_type": "code",
   "execution_count": null,
   "metadata": {},
   "outputs": [],
   "source": []
  }
 ]
}