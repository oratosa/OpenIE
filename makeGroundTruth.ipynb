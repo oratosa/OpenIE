{
 "metadata": {
  "language_info": {
   "codemirror_mode": {
    "name": "ipython",
    "version": 3
   },
   "file_extension": ".py",
   "mimetype": "text/x-python",
   "name": "python",
   "nbconvert_exporter": "python",
   "pygments_lexer": "ipython3",
   "version": "3.7.7-final"
  },
  "orig_nbformat": 2,
  "kernelspec": {
   "name": "python3",
   "display_name": "Python 3",
   "language": "python"
  }
 },
 "nbformat": 4,
 "nbformat_minor": 2,
 "cells": [
  {
   "cell_type": "code",
   "execution_count": 16,
   "metadata": {},
   "outputs": [],
   "source": [
    "import os, sys, email, datetime, pprint, re, time, html, pickle\n",
    "import numpy as np\n",
    "import pandas as pd\n",
    "import nltk\n",
    "from nltk.metrics import *\n",
    "\n",
    "pd.options.display.max_colwidth = 1000"
   ]
  },
  {
   "cell_type": "code",
   "execution_count": 22,
   "metadata": {},
   "outputs": [],
   "source": [
    "with open('/Users/taroaso/myprojects/OpenIE/trec/output/3/openie_result.pickle', mode=\"rb\") as f:\n",
    "    openie = pickle.load(f)"
   ]
  },
  {
   "cell_type": "code",
   "execution_count": 23,
   "metadata": {},
   "outputs": [],
   "source": [
    "rows = []\n",
    "for uid, sents in openie.items():\n",
    "    for sent in sents:\n",
    "        if re.search('google', sent['sentence'], flags=re.IGNORECASE):\n",
    "            rows.append([uid, sent['sentence']])"
   ]
  },
  {
   "cell_type": "code",
   "execution_count": 25,
   "metadata": {},
   "outputs": [
    {
     "output_type": "execute_result",
     "data": {
      "text/plain": [
       "289"
      ]
     },
     "metadata": {},
     "execution_count": 25
    }
   ],
   "source": [
    "len(rows)"
   ]
  },
  {
   "cell_type": "code",
   "execution_count": 26,
   "metadata": {},
   "outputs": [
    {
     "output_type": "execute_result",
     "data": {
      "text/plain": [
       "                           uid  \\\n",
       "0  4084867E.9050502@kbc.net.au   \n",
       "1  4084867E.9050502@kbc.net.au   \n",
       "2  4084867E.9050502@kbc.net.au   \n",
       "3  4084867E.9050502@kbc.net.au   \n",
       "4  4084867E.9050502@kbc.net.au   \n",
       "\n",
       "                                                                                                                                                                                                sentence  \n",
       "0     Now, from the point of view of accessibility, when a website's pages are indexed by Google, wouldn't it be easier for people with disabilities to use a seach engine they are already used to use?  \n",
       "1                                               Should we actively promote the use of search engines like Google as local seach engine at any major website, if the pages are already indexed by Google?  \n",
       "2  Whilst I think that Google has a great product, I do not think it in the best \\ninterests of accessibility, or indeed of a stable infrastructure, to standardise \\non a single, proprietary solution.  \n",
       "3              If Google should fail as a company or start charging excessively for the Site \\nSearch service), if everyone were using it, the entire concept of Site Search \\nwould drop into a vacuum.  \n",
       "4                                                                                                                                                ie: not \\nall owned by Google), I might feel otherwise.  "
      ],
      "text/html": "<div>\n<style scoped>\n    .dataframe tbody tr th:only-of-type {\n        vertical-align: middle;\n    }\n\n    .dataframe tbody tr th {\n        vertical-align: top;\n    }\n\n    .dataframe thead th {\n        text-align: right;\n    }\n</style>\n<table border=\"1\" class=\"dataframe\">\n  <thead>\n    <tr style=\"text-align: right;\">\n      <th></th>\n      <th>uid</th>\n      <th>sentence</th>\n    </tr>\n  </thead>\n  <tbody>\n    <tr>\n      <th>0</th>\n      <td>4084867E.9050502@kbc.net.au</td>\n      <td>Now, from the point of view of accessibility, when a website's pages are indexed by Google, wouldn't it be easier for people with disabilities to use a seach engine they are already used to use?</td>\n    </tr>\n    <tr>\n      <th>1</th>\n      <td>4084867E.9050502@kbc.net.au</td>\n      <td>Should we actively promote the use of search engines like Google as local seach engine at any major website, if the pages are already indexed by Google?</td>\n    </tr>\n    <tr>\n      <th>2</th>\n      <td>4084867E.9050502@kbc.net.au</td>\n      <td>Whilst I think that Google has a great product, I do not think it in the best \\ninterests of accessibility, or indeed of a stable infrastructure, to standardise \\non a single, proprietary solution.</td>\n    </tr>\n    <tr>\n      <th>3</th>\n      <td>4084867E.9050502@kbc.net.au</td>\n      <td>If Google should fail as a company or start charging excessively for the Site \\nSearch service), if everyone were using it, the entire concept of Site Search \\nwould drop into a vacuum.</td>\n    </tr>\n    <tr>\n      <th>4</th>\n      <td>4084867E.9050502@kbc.net.au</td>\n      <td>ie: not \\nall owned by Google), I might feel otherwise.</td>\n    </tr>\n  </tbody>\n</table>\n</div>"
     },
     "metadata": {},
     "execution_count": 26
    }
   ],
   "source": [
    "checklist = pd.DataFrame(rows,columns=['uid','sentence'])\n",
    "checklist.head()"
   ]
  },
  {
   "cell_type": "code",
   "execution_count": 27,
   "metadata": {},
   "outputs": [],
   "source": [
    "checklist.to_csv('/Users/taroaso/myprojects/OpenIE/trec/output/3/eval3_checklist.csv')"
   ]
  },
  {
   "cell_type": "code",
   "execution_count": null,
   "metadata": {},
   "outputs": [],
   "source": []
  }
 ]
}