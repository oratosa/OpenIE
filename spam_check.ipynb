{
 "metadata": {
  "language_info": {
   "codemirror_mode": {
    "name": "ipython",
    "version": 3
   },
   "file_extension": ".py",
   "mimetype": "text/x-python",
   "name": "python",
   "nbconvert_exporter": "python",
   "pygments_lexer": "ipython3",
   "version": "3.7.7-final"
  },
  "orig_nbformat": 2,
  "kernelspec": {
   "name": "Python 3.7.7 64-bit ('allennlp': pyenv)",
   "display_name": "Python 3.7.7 64-bit ('allennlp': pyenv)",
   "metadata": {
    "interpreter": {
     "hash": "8f4757669d1e3b6bf7814273e110a25ebcc963326140dfe3c35ac4cabb3218b6"
    }
   }
  }
 },
 "nbformat": 4,
 "nbformat_minor": 2,
 "cells": [
  {
   "cell_type": "code",
   "execution_count": 2,
   "metadata": {},
   "outputs": [],
   "source": [
    "import os, sys, email\n",
    "import numpy as np\n",
    "import pandas as pd\n",
    "import nltk\n",
    "from nltk.metrics import *\n",
    "import pprint, re, time\n",
    "\n",
    "pd.options.display.max_colwidth = 1000"
   ]
  },
  {
   "cell_type": "code",
   "execution_count": 3,
   "metadata": {},
   "outputs": [],
   "source": [
    "from db import connect\n",
    "engine = connect()\n",
    "mail_df = pd.read_sql(sql='SELECT * FROM mail_3 ORDER BY docno ASC',con=engine, index_col=None)"
   ]
  },
  {
   "cell_type": "code",
   "execution_count": 12,
   "metadata": {},
   "outputs": [],
   "source": [
    "import spacy \n",
    "nlp = spacy.load(\"en_core_web_sm\")\n",
    "from spacy.pipeline import Sentencizer\n",
    "sentencizer = Sentencizer()\n",
    "nlp.add_pipe(sentencizer)"
   ]
  },
  {
   "cell_type": "code",
   "execution_count": 13,
   "metadata": {},
   "outputs": [],
   "source": [
    "result = []\n",
    "for mail in mail_df.values:\n",
    "    doc = nlp(mail[-1])\n",
    "    sentences = [sent.text for sent in doc.sents]\n",
    "    result.append([mail[0], len(sentences)])"
   ]
  },
  {
   "cell_type": "code",
   "execution_count": 14,
   "metadata": {},
   "outputs": [],
   "source": [
    "result_df = pd.DataFrame(result)"
   ]
  },
  {
   "cell_type": "code",
   "execution_count": 15,
   "metadata": {},
   "outputs": [],
   "source": [
    "result_df.to_csv('/Users/taroaso/myprojects/OpenIE/trec/output/spam_check_2.csv')"
   ]
  },
  {
   "cell_type": "code",
   "execution_count": 23,
   "metadata": {},
   "outputs": [],
   "source": [
    "from loadFile import getFileList\n",
    "\n",
    "# ディレクトリ 内のメールファイルを読み込む\n",
    "directory_path = \"/Users/taroaso/myprojects/OpenIE/trec/w3c-emails\"\n",
    "file_list = getFileList(directory_path)\n",
    "file_list.sort()"
   ]
  },
  {
   "cell_type": "code",
   "execution_count": 28,
   "metadata": {},
   "outputs": [],
   "source": [
    "### mail_df \n",
    "\n",
    "mail_cols = ['docno','row_count']\n",
    "mail_df = pd.DataFrame(index=[], columns=mail_cols)\n",
    "\n",
    "for file in file_list:\n",
    "    with open(file, 'r', encoding='utf-8', errors='ignore') as f:\n",
    "        mail = f.readlines()\n",
    "        row_count = len(mail)\n",
    "        match = re.search(r'(lists-.+txt)',file)\n",
    "        \n",
    "        record={}\n",
    "        record['docno'] = match.group()\n",
    "        record['row_count'] = row_count\n",
    "    \n",
    "    mail_df = mail_df.append(record, ignore_index=True)"
   ]
  },
  {
   "cell_type": "code",
   "execution_count": 22,
   "metadata": {},
   "outputs": [],
   "source": [
    "row_count_df = mail_df.loc[:,['docno','row_count']]\n",
    "row_count_df.to_csv('/Users/taroaso/myprojects/OpenIE/trec/output/spam_check_3.csv')"
   ]
  },
  {
   "cell_type": "code",
   "execution_count": 27,
   "metadata": {
    "tags": []
   },
   "outputs": [
    {
     "output_type": "stream",
     "name": "stdout",
     "text": "lists-000-0012197.txt\n"
    }
   ],
   "source": [
    "match = re.search(r'(lists-.+txt)',file_list[0])\n",
    "print(match.group())"
   ]
  },
  {
   "cell_type": "code",
   "execution_count": 30,
   "metadata": {},
   "outputs": [],
   "source": [
    "mail_df.to_csv('/Users/taroaso/myprojects/OpenIE/trec/output/spam_check_4.csv')"
   ]
  },
  {
   "cell_type": "code",
   "execution_count": null,
   "metadata": {},
   "outputs": [],
   "source": []
  }
 ]
}