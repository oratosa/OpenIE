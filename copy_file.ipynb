{
 "metadata": {
  "language_info": {
   "codemirror_mode": {
    "name": "ipython",
    "version": 3
   },
   "file_extension": ".py",
   "mimetype": "text/x-python",
   "name": "python",
   "nbconvert_exporter": "python",
   "pygments_lexer": "ipython3",
   "version": "3.7.7-final"
  },
  "orig_nbformat": 2,
  "kernelspec": {
   "name": "python_defaultSpec_1601625012898",
   "display_name": "Python 3.7.7 64-bit ('allennlp': conda)"
  }
 },
 "nbformat": 4,
 "nbformat_minor": 2,
 "cells": [
  {
   "cell_type": "code",
   "execution_count": 37,
   "metadata": {},
   "outputs": [],
   "source": [
    "import os\n",
    "import shutil\n",
    "import pandas as pd"
   ]
  },
  {
   "cell_type": "code",
   "execution_count": 29,
   "metadata": {},
   "outputs": [],
   "source": [
    "target_query = pd.read_csv('/Users/taroaso/myprojects/OpenIE/trec/2005/query.tsv',delimiter='\\t')\n",
    "target_query = target_query['num'].values"
   ]
  },
  {
   "cell_type": "code",
   "execution_count": 30,
   "metadata": {},
   "outputs": [],
   "source": [
    "all_query = pd.read_csv('/Users/taroaso/myprojects/OpenIE/trec/2005/ent05.discussion.official-qrels.txt',delimiter=' ',header=None)\n",
    "all_query = all_query.values"
   ]
  },
  {
   "cell_type": "code",
   "execution_count": 31,
   "metadata": {},
   "outputs": [],
   "source": [
    "extraction_file = []\n",
    "for tq in target_query:\n",
    "    tq_file = []\n",
    "    for q in all_query:\n",
    "        if tq == q[0]:\n",
    "            tq_file.append(q[2])\n",
    "    extraction_file.append(tq_file)"
   ]
  },
  {
   "cell_type": "code",
   "execution_count": 36,
   "metadata": {},
   "outputs": [],
   "source": [
    "w3c1 = '/Users/taroaso/myprojects/OpenIE/trec/w3c-emails'\n",
    "w3c2 = '/Users/taroaso/myprojects/OpenIE/trec/w3c-emails-part2'\n",
    "w3c3 = '/Users/taroaso/myprojects/OpenIE/trec/w3c-emails-part3'"
   ]
  },
  {
   "cell_type": "code",
   "execution_count": 48,
   "metadata": {
    "tags": []
   },
   "outputs": [
    {
     "output_type": "stream",
     "name": "stdout",
     "text": "No such file or directory: lists-019-12615302\nNo such file or directory: lists-019-12641779\nNo such file or directory: lists-019-12694296\nNo such file or directory: lists-028-13087347\nNo such file or directory: lists-028-13098462\nNo such file or directory: lists-028-13109342\nNo such file or directory: lists-028-13120494\nNo such file or directory: lists-028-5344693\nNo such file or directory: lists-028-5352671\nNo such file or directory: lists-028-5360407\nNo such file or directory: lists-028-5368053\nNo such file or directory: lists-079-9306309\nNo such file or directory: lists-079-9463342\nNo such file or directory: lists-079-9751390\nNo such file or directory: lists-111-1823392\nNo such file or directory: lists-111-1858699\nNo such file or directory: lists-111-1887533\nNo such file or directory: lists-111-1919700\nNo such file or directory: lists-111-1952964\nNo such file or directory: lists-111-2223711\nNo such file or directory: lists-111-2432646\nNo such file or directory: lists-111-2671089\nNo such file or directory: lists-111-2929010\nNo such file or directory: lists-111-3055435\nNo such file or directory: lists-111-3148738\nNo such file or directory: lists-111-3263861\nNo such file or directory: lists-111-3380096\nNo such file or directory: lists-111-3386803\nNo such file or directory: lists-111-3400273\nNo such file or directory: lists-111-3427632\nNo such file or directory: lists-111-3447710\nNo such file or directory: lists-111-3465468\nNo such file or directory: lists-111-3484575\nNo such file or directory: lists-111-3953206\nNo such file or directory: lists-111-3976674\nNo such file or directory: lists-111-3997053\nNo such file or directory: lists-111-4018921\nNo such file or directory: lists-111-4162368\nNo such file or directory: lists-111-4192789\nNo such file or directory: lists-111-4221101\nNo such file or directory: lists-111-4249572\nNo such file or directory: lists-111-4491426\nNo such file or directory: lists-111-4496179\nNo such file or directory: lists-111-4501031\nNo such file or directory: lists-111-4505755\nNo such file or directory: lists-115-5892513\nNo such file or directory: lists-115-5909830\nNo such file or directory: lists-115-5940315\nNo such file or directory: lists-116-14443703\nNo such file or directory: lists-116-14460204\nNo such file or directory: lists-116-14581725\nNo such file or directory: lists-116-14599438\nNo such file or directory: lists-116-14633794\nNo such file or directory: lists-116-14652360\nNo such file or directory: lists-116-14711847\nNo such file or directory: lists-116-14827576\nNo such file or directory: lists-116-14895435\nNo such file or directory: lists-116-14933915\nNo such file or directory: lists-116-15008006\nNo such file or directory: lists-116-15051330\nNo such file or directory: lists-116-15092941\nNo such file or directory: lists-116-15173077\nNo such file or directory: lists-116-15219123\nNo such file or directory: lists-116-15298837\nNo such file or directory: lists-117-0421452\nNo such file or directory: lists-117-0445035\nNo such file or directory: lists-117-0571208\nNo such file or directory: lists-117-0589044\nNo such file or directory: lists-117-0625247\nNo such file or directory: lists-117-0776641\nNo such file or directory: lists-117-0796248\nNo such file or directory: lists-117-0836339\nNo such file or directory: lists-117-0857782\nNo such file or directory: lists-117-0875822\nNo such file or directory: lists-118-4031809\nNo such file or directory: lists-118-4071229\nNo such file or directory: lists-118-4143197\nNo such file or directory: lists-118-4572807\nNo such file or directory: lists-118-4681906\nNo such file or directory: lists-118-4709515\nNo such file or directory: lists-118-4761816\nNo such file or directory: lists-118-4793020\nNo such file or directory: lists-118-4814870\nNo such file or directory: lists-118-4856612\nNo such file or directory: lists-118-4880603\nNo such file or directory: lists-118-4931037\nNo such file or directory: lists-118-5023229\nNo such file or directory: lists-118-5265107\nNo such file or directory: lists-118-5297513\nNo such file or directory: lists-118-5358085\nNo such file or directory: lists-118-5394072\nNo such file or directory: lists-118-5433018\nNo such file or directory: lists-118-5503271\nNo such file or directory: lists-118-5546567\nNo such file or directory: lists-118-5577689\nNo such file or directory: lists-118-5636255\nNo such file or directory: lists-118-5869447\nNo such file or directory: lists-118-5918745\nNo such file or directory: lists-118-6009105\nNo such file or directory: lists-118-6063794\nNo such file or directory: lists-118-6097426\nNo such file or directory: lists-118-6160209\nNo such file or directory: lists-118-6328632\nNo such file or directory: lists-118-6364363\nNo such file or directory: lists-118-6429826\nNo such file or directory: lists-118-6581628\nNo such file or directory: lists-118-6607432\nNo such file or directory: lists-118-6654867\nNo such file or directory: lists-118-7302557\nNo such file or directory: lists-118-7324539\nNo such file or directory: lists-118-7561473\nNo such file or directory: lists-118-7676832\nNo such file or directory: lists-118-7702460\nNo such file or directory: lists-118-7747666\nNo such file or directory: lists-118-7851116\nNo such file or directory: lists-118-7866273\nNo such file or directory: lists-014-13639934\nNo such file or directory: lists-014-13654099\nNo such file or directory: lists-014-13669103\nNo such file or directory: lists-014-13682896\nNo such file or directory: lists-112-5705733\nNo such file or directory: lists-112-5722024\nNo such file or directory: lists-112-5738250\nNo such file or directory: lists-112-5754271\nNo such file or directory: lists-116-14443703\nNo such file or directory: lists-116-14460204\nNo such file or directory: lists-116-14895435\nNo such file or directory: lists-116-14933915\nNo such file or directory: lists-118-7608447\nNo such file or directory: lists-118-7625709\nNo such file or directory: lists-110-2006979\nNo such file or directory: lists-110-2014268\nNo such file or directory: lists-110-2028629\nNo such file or directory: lists-112-0821293\nNo such file or directory: lists-114-10312544\nNo such file or directory: lists-114-10322813\nNo such file or directory: lists-114-10342520\nNo such file or directory: lists-114-15812214\nNo such file or directory: lists-114-15831157\nNo such file or directory: lists-114-15851281\nNo such file or directory: lists-114-15874092\nNo such file or directory: lists-114-16026690\nNo such file or directory: lists-114-16063544\nNo such file or directory: lists-114-16147585\nNo such file or directory: lists-114-8033520\nNo such file or directory: lists-114-8059640\nNo such file or directory: lists-114-8105989\nNo such file or directory: lists-110-13168598\nNo such file or directory: lists-110-13175610\nNo such file or directory: lists-110-13188920\nNo such file or directory: lists-110-13214454\nNo such file or directory: lists-110-13221274\nNo such file or directory: lists-110-13234274\nNo such file or directory: lists-110-13307300\nNo such file or directory: lists-110-13314350\nNo such file or directory: lists-110-13327761\nNo such file or directory: lists-110-13334906\nNo such file or directory: lists-110-13347328\nNo such file or directory: lists-110-13369836\nNo such file or directory: lists-110-13403897\nNo such file or directory: lists-110-13412302\nNo such file or directory: lists-110-13427498\nNo such file or directory: lists-110-13455375\nNo such file or directory: lists-110-13464165\nNo such file or directory: lists-110-13481460\nNo such file or directory: lists-110-13490829\nNo such file or directory: lists-110-13499470\nNo such file or directory: lists-110-13516343\nNo such file or directory: lists-113-7199692\nNo such file or directory: lists-113-7315169\nNo such file or directory: lists-116-6986672\nNo such file or directory: lists-116-6993680\nNo such file or directory: lists-116-7006989\nNo such file or directory: lists-030-13774787\nNo such file or directory: lists-030-13783553\nNo such file or directory: lists-030-13800600\nNo such file or directory: lists-030-14470749\nNo such file or directory: lists-037-13264459\nNo such file or directory: lists-110-15466320\nNo such file or directory: lists-110-15472733\nNo such file or directory: lists-110-15485657\nNo such file or directory: lists-110-15574267\nNo such file or directory: lists-110-15579457\nNo such file or directory: lists-110-15589670\nNo such file or directory: lists-111-7754604\nNo such file or directory: lists-111-7769991\nNo such file or directory: lists-111-7801273\nNo such file or directory: lists-007-16459730\nNo such file or directory: lists-007-16472469\nNo such file or directory: lists-007-16485266\nNo such file or directory: lists-007-16495743\nNo such file or directory: lists-116-7194586\nNo such file or directory: lists-116-7205510\nNo such file or directory: lists-116-7227366\nNo such file or directory: lists-000-000000\nNo such file or directory: lists-110-7862101\nNo such file or directory: lists-110-7896195\nNo such file or directory: lists-110-7963934\nNo such file or directory: lists-110-8119808\nNo such file or directory: lists-110-8166118\nNo such file or directory: lists-110-8258640\nNo such file or directory: lists-110-9146269\nNo such file or directory: lists-110-9164582\nNo such file or directory: lists-110-9200905\nNo such file or directory: lists-021-11628794\nNo such file or directory: lists-021-11640929\nNo such file or directory: lists-021-11653152\nNo such file or directory: lists-021-11662996\nNo such file or directory: lists-022-5214818\nNo such file or directory: lists-109-12425725\nNo such file or directory: lists-109-12437254\nNo such file or directory: lists-109-12458169\nNo such file or directory: lists-000-00000000\nNo such file or directory: lists-045-7604858\nNo such file or directory: lists-045-7616634\nNo such file or directory: lists-045-7669532\nNo such file or directory: lists-045-7724354\nNo such file or directory: lists-045-7769849\nNo such file or directory: lists-117-14582528\nNo such file or directory: lists-117-14721138\nNo such file or directory: lists-117-14733709\nNo such file or directory: lists-117-14747019\nNo such file or directory: lists-117-14758784\nNo such file or directory: lists-113-6928244\nNo such file or directory: lists-113-6970813\nNo such file or directory: lists-113-7046052\nNo such file or directory: lists-066-8803081\nNo such file or directory: lists-066-8876429\nNo such file or directory: lists-066-8946804\nNo such file or directory: lists-109-12751206\nNo such file or directory: lists-109-12788165\nNo such file or directory: lists-109-12858157\nNo such file or directory: lists-112-14237229\nNo such file or directory: lists-113-0548306\nNo such file or directory: lists-113-0554027\nNo such file or directory: lists-113-0565043\nNo such file or directory: lists-113-0702540\nNo such file or directory: lists-113-0710411\nNo such file or directory: lists-113-0725133\nNo such file or directory: lists-000-00000000\nNo such file or directory: lists-016-1289342\nNo such file or directory: lists-016-1301055\nNo such file or directory: lists-016-1325585\nNo such file or directory: lists-109-6088853\nNo such file or directory: lists-109-6133632\nNo such file or directory: lists-109-6214547\nNo such file or directory: lists-109-6783725\nNo such file or directory: lists-109-6806381\nNo such file or directory: lists-109-6846869\nNo such file or directory: lists-109-7227592\nNo such file or directory: lists-109-7246898\nNo such file or directory: lists-109-7372848\nNo such file or directory: lists-109-7392824\nNo such file or directory: lists-109-7427839\nNo such file or directory: lists-033-13987816\nNo such file or directory: lists-033-13990640\nNo such file or directory: lists-033-13993573\nNo such file or directory: lists-033-13996410\nNo such file or directory: lists-105-3591712\nNo such file or directory: lists-105-3596452\nNo such file or directory: lists-105-3602544\nNo such file or directory: lists-105-3608564\nNo such file or directory: lists-105-3614056\nNo such file or directory: lists-105-4115172\nNo such file or directory: lists-105-4121017\nNo such file or directory: lists-105-4127056\nNo such file or directory: lists-105-4132604\nNo such file or directory: lists-105-4517652\nNo such file or directory: lists-105-4525046\nNo such file or directory: lists-105-4538559\nNo such file or directory: lists-105-5113841\nNo such file or directory: lists-105-5118125\nNo such file or directory: lists-105-5122485\nNo such file or directory: lists-105-5126755\nNo such file or directory: lists-017-8250689\nNo such file or directory: lists-017-8255856\nNo such file or directory: lists-017-8266852\nNo such file or directory: lists-017-8288804\nNo such file or directory: lists-024-6151339\nNo such file or directory: lists-024-6158625\nNo such file or directory: lists-024-6166006\nNo such file or directory: lists-024-6172900\nNo such file or directory: lists-025-13941796\nNo such file or directory: lists-025-13974636\nNo such file or directory: lists-025-14034159\nNo such file or directory: lists-116-4955581\nNo such file or directory: lists-116-4962546\nNo such file or directory: lists-116-4969504\nNo such file or directory: lists-116-4976064\nNo such file or directory: lists-105-1225813\nNo such file or directory: lists-105-1242131\nNo such file or directory: lists-105-2732575\nNo such file or directory: lists-105-2754933\nNo such file or directory: lists-105-2798075\nNo such file or directory: lists-012-13598266\nNo such file or directory: lists-012-13618300\nNo such file or directory: lists-012-13638187\nNo such file or directory: lists-012-13655427\nNo such file or directory: lists-000-00000000\nNo such file or directory: lists-017-15906966\nNo such file or directory: lists-017-15915235\nNo such file or directory: lists-017-15923314\nNo such file or directory: lists-017-15931044\nNo such file or directory: lists-018-0684303\nNo such file or directory: lists-018-0702802\nNo such file or directory: lists-018-0721540\nNo such file or directory: lists-018-0738631\nNo such file or directory: lists-018-3027500\nNo such file or directory: lists-018-3050662\nNo such file or directory: lists-018-3074002\nNo such file or directory: lists-018-3098342\nNo such file or directory: lists-019-6255373\nNo such file or directory: lists-019-6305320\nNo such file or directory: lists-019-6404189\nNo such file or directory: lists-109-10857909\nNo such file or directory: lists-109-10876144\nNo such file or directory: lists-117-3487423\nNo such file or directory: lists-117-3506156\nNo such file or directory: lists-027-12827832\nNo such file or directory: lists-060-6955536\nNo such file or directory: lists-113-1450380\nNo such file or directory: lists-115-8064881\nNo such file or directory: lists-115-8072202\nNo such file or directory: lists-115-8086167\nNo such file or directory: lists-115-8093942\nNo such file or directory: lists-115-8113453\nNo such file or directory: lists-115-8149171\nNo such file or directory: lists-117-6828770\nNo such file or directory: lists-117-6835395\nNo such file or directory: lists-117-6848090\n"
    }
   ],
   "source": [
    "not_exist = []\n",
    "for tq_num, tq_file in zip(target_query, extraction_file):\n",
    "    dir_name = str(tq_num)\n",
    "    path_name ='/Users/taroaso/myprojects/OpenIE/trec/2005/each_dataset/' + dir_name\n",
    "    for file in tq_file:\n",
    "        try:\n",
    "            shutil.copyfile(w3c1+'/'+file+'.txt', path_name+'/'+file+'.txt')\n",
    "        except FileNotFoundError:\n",
    "            try:\n",
    "                shutil.copyfile(w3c2+'/'+file+'.txt', path_name+'/'+file+'.txt')\n",
    "            except FileNotFoundError:\n",
    "                try:\n",
    "                    shutil.copyfile(w3c3+'/'+file+'.txt', path_name+'/'+file+'.txt')\n",
    "                except FileNotFoundError:\n",
    "                    not_exist.append(file)\n",
    "                    print(\"No such file or directory: {}\".format(file))"
   ]
  },
  {
   "cell_type": "code",
   "execution_count": 50,
   "metadata": {
    "tags": []
   },
   "outputs": [],
   "source": [
    "check = {}\n",
    "for tq_num, tq_file in zip(target_query, extraction_file):\n",
    "    check[tq_num]=[]\n",
    "    for f in tq_file:\n",
    "        if f in not_exist:\n",
    "            check[tq_num].append(f)"
   ]
  },
  {
   "cell_type": "code",
   "execution_count": 61,
   "metadata": {
    "tags": []
   },
   "outputs": [],
   "source": [
    "not_exist2 = []\n",
    "for query in all_query:\n",
    "    if query[2] in not_exist:\n",
    "        not_exist2.append([query[0],query[1],query[2],query[3]])"
   ]
  },
  {
   "cell_type": "code",
   "execution_count": 64,
   "metadata": {},
   "outputs": [],
   "source": [
    "with open('/Users/taroaso/myprojects/OpenIE/trec/2005/ent05.discussion.not-exist.official-qrels.txt', 'wt') as f:\n",
    "    for lst in not_exist2:\n",
    "        lst = map(str,lst)\n",
    "        row = \",\".join(lst)\n",
    "        f.write(row+'\\n')"
   ]
  },
  {
   "cell_type": "code",
   "execution_count": null,
   "metadata": {},
   "outputs": [],
   "source": []
  }
 ]
}