{
 "metadata": {
  "language_info": {
   "codemirror_mode": {
    "name": "ipython",
    "version": 3
   },
   "file_extension": ".py",
   "mimetype": "text/x-python",
   "name": "python",
   "nbconvert_exporter": "python",
   "pygments_lexer": "ipython3",
   "version": "3.7.7-final"
  },
  "orig_nbformat": 2,
  "kernelspec": {
   "name": "python3",
   "display_name": "Python 3.7.7 64-bit ('allennlp': conda)",
   "metadata": {
    "interpreter": {
     "hash": "8f4757669d1e3b6bf7814273e110a25ebcc963326140dfe3c35ac4cabb3218b6"
    }
   }
  }
 },
 "nbformat": 4,
 "nbformat_minor": 2,
 "cells": [
  {
   "cell_type": "code",
   "execution_count": 1,
   "metadata": {},
   "outputs": [],
   "source": [
    "import os, sys, email, datetime, pprint, re, time, html\n",
    "import numpy as np\n",
    "import pandas as pd\n",
    "import nltk\n",
    "from nltk.metrics import *\n",
    "\n",
    "pd.options.display.max_colwidth = 1000"
   ]
  },
  {
   "cell_type": "code",
   "execution_count": 2,
   "metadata": {},
   "outputs": [],
   "source": [
    "from db import connect\n",
    "engine = connect()\n",
    "mail_df = pd.read_sql(sql='SELECT * FROM mail_21 ORDER BY docno ASC',con=engine, index_col=None)"
   ]
  },
  {
   "source": [
    "## RDFグラフ生成"
   ],
   "cell_type": "markdown",
   "metadata": {}
  },
  {
   "cell_type": "code",
   "execution_count": 3,
   "metadata": {
    "tags": []
   },
   "outputs": [],
   "source": [
    "from rdflib import Graph, Literal, RDF, URIRef, BNode, Namespace\n",
    "from rdflib.namespace import CSVW, DC, DCAT, DCTERMS, DOAP, FOAF, ODRL2, ORG, OWL, \\\n",
    "                           PROF, PROV, RDF, RDFS, SDO, SH, SKOS, SOSA, SSN, TIME, \\\n",
    "                           VOID, XMLNS, XSD\n",
    "BASE = Namespace(\"http://www.kde.cs.tsukuba.ac.jp/~aso/w3c-email/\")\n",
    "EMAIL = Namespace(\"http://www.w3.org/2000/10/swap/pim/email#\")"
   ]
  },
  {
   "cell_type": "code",
   "execution_count": 4,
   "metadata": {},
   "outputs": [],
   "source": [
    "# RDFグラフ\n",
    "g = Graph()\n",
    "g.bind('',BASE)\n",
    "g.bind('schema',SDO)\n",
    "g.bind('email',EMAIL)\n",
    "g.bind('foaf',FOAF)\n",
    "g.bind('owl',OWL)\n",
    "g.bind('rdf',RDF)"
   ]
  },
  {
   "cell_type": "code",
   "execution_count": 5,
   "metadata": {
    "tags": []
   },
   "outputs": [],
   "source": [
    "def header2rdf(g,value): #g:RDFグラフ，value:dataframe.valuesの1array(numpy.ndarray)\n",
    "    docid = value[0]\n",
    "    isoreceived = value[2].isoformat()\n",
    "    isosent = value[4].isoformat()\n",
    "    name = value[5]\n",
    "    email = value[6]\n",
    "    subject = value[7]\n",
    "    uid = value[8]\n",
    "    inreplyto = value[10]\n",
    "    to = value[12]\n",
    "    cc = value[13]\n",
    "    body = value[14]\n",
    "\n",
    "    #Creating Nodes\n",
    "    ##URI参照されるリソースは表記を変換する\n",
    "    if uid is not None:\n",
    "        emailmessage = re.sub(r'[^a-zA-Z_0-9]','_',uid) \n",
    "\n",
    "        #tripleを作成\n",
    "        g.add((BASE[emailmessage],RDF.type,SDO.EmailMessage))\n",
    "        g.add((BASE[emailmessage],SDO.identifier,Literal(uid)))\n",
    "        g.add((BASE[emailmessage],SDO.alternateName,Literal(docid)))\n",
    "\n",
    "        if isosent is not None:\n",
    "            g.add((BASE[emailmessage],SDO.dateSent,Literal(isosent,datatype=XSD.dateTime)))\n",
    "\n",
    "        if isoreceived is not None:\n",
    "            g.add((BASE[emailmessage],SDO.dateReceived,Literal(isoreceived,datatype=XSD.dateTime)))\n",
    "\n",
    "        if inreplyto is not None:\n",
    "            reply_emailmessage = re.sub(r'[^a-zA-Z_0-9]','_',inreplyto)\n",
    "            g.add((BASE[emailmessage],EMAIL.References,BASE[reply_emailmessage]))\n",
    "\n",
    "        if name is not None:\n",
    "            sender = re.sub(r'[^a-zA-Z_0-9]','_',name)\n",
    "            g.add((BASE[emailmessage],SDO.sender,BASE[sender]))\n",
    "            g.add((BASE[sender],RDF.type,FOAF.Agent))\n",
    "            if email is not None:\n",
    "                sender_email = 'mailto:' + email.strip()\n",
    "                g.add((BASE[sender],FOAF.mbox,URIRef(sender_email)))\n",
    "\n",
    "        if to is not None:\n",
    "            to_recipient = re.sub(r'[^a-zA-Z_0-9]','_',to)\n",
    "            to_email = 'mailto:' + to.strip()\n",
    "            g.add((BASE[emailmessage],SDO.toRecipient,BASE[to_recipient]))\n",
    "            g.add((BASE[to_recipient],FOAF.mbox,URIRef(to_email)))\n",
    "\n",
    "        if cc is not None:\n",
    "            cc_recipient = re.sub(r'[^a-zA-Z_0-9]','_',cc)\n",
    "            cc_email = 'mailto:' + cc.strip()\n",
    "            g.add((BASE[emailmessage],SDO.ccRecipient,BASE[cc_recipient]))\n",
    "            g.add((BASE[cc_recipient],FOAF.mbox,URIRef(cc_email)))\n",
    "\n",
    "        if subject is not None:\n",
    "            g.add((BASE[emailmessage],SDO.headline,Literal(subject)))\n",
    "\n",
    "        if body is not None:\n",
    "            g.add((BASE[emailmessage],SDO.text,Literal(body)))"
   ]
  },
  {
   "cell_type": "code",
   "execution_count": 6,
   "metadata": {},
   "outputs": [],
   "source": [
    "for value in mail_df.values:\n",
    "    header2rdf(g,value)"
   ]
  },
  {
   "cell_type": "code",
   "execution_count": 7,
   "metadata": {
    "tags": []
   },
   "outputs": [],
   "source": [
    "new_dir_path = '/Users/taroaso/myprojects/OpenIE/trec/output/21'\n",
    "\n",
    "os.mkdir(new_dir_path)\n",
    "\n",
    "# turtle形式でファイル出力\n",
    "g.serialize(destination='/Users/taroaso/myprojects/OpenIE/trec/output/21/mail_header.ttl', format='turtle')"
   ]
  },
  {
   "cell_type": "code",
   "execution_count": 8,
   "metadata": {
    "tags": []
   },
   "outputs": [],
   "source": [
    "#print(g.serialize(format=\"turtle\").decode(\"utf-8\"))"
   ]
  },
  {
   "cell_type": "code",
   "execution_count": null,
   "metadata": {},
   "outputs": [],
   "source": []
  }
 ]
}