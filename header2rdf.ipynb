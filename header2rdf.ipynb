{
 "metadata": {
  "language_info": {
   "codemirror_mode": {
    "name": "ipython",
    "version": 3
   },
   "file_extension": ".py",
   "mimetype": "text/x-python",
   "name": "python",
   "nbconvert_exporter": "python",
   "pygments_lexer": "ipython3",
   "version": "3.7.7-final"
  },
  "orig_nbformat": 2,
  "kernelspec": {
   "name": "Python 3.7.7 64-bit ('allennlp': pyenv)",
   "display_name": "Python 3.7.7 64-bit ('allennlp': pyenv)",
   "metadata": {
    "interpreter": {
     "hash": "8f4757669d1e3b6bf7814273e110a25ebcc963326140dfe3c35ac4cabb3218b6"
    }
   }
  }
 },
 "nbformat": 4,
 "nbformat_minor": 2,
 "cells": [
  {
   "cell_type": "code",
   "execution_count": 27,
   "metadata": {},
   "outputs": [],
   "source": [
    "import os, sys, email, datetime, pprint, re, time, html\n",
    "import numpy as np\n",
    "import pandas as pd\n",
    "import nltk\n",
    "from nltk.metrics import *\n",
    "\n",
    "pd.options.display.max_colwidth = 1000"
   ]
  },
  {
   "cell_type": "code",
   "execution_count": 12,
   "metadata": {},
   "outputs": [],
   "source": [
    "from db import connect\n",
    "engine = connect()\n",
    "mail_df = pd.read_sql(sql='SELECT * FROM mail ORDER BY docno ASC',con=engine, index_col=None)"
   ]
  },
  {
   "cell_type": "code",
   "execution_count": 15,
   "metadata": {
    "tags": []
   },
   "outputs": [
    {
     "output_type": "execute_result",
     "data": {
      "text/plain": "                docno                  received         isoreceived  \\\n0  lists-000-13503992  Fri Jul 14 12:48:10 2000 2000-07-14 16:48:10   \n1   lists-001-9920622  Sat Jul 14 07:24:02 2001 2001-07-14 11:24:02   \n2   lists-001-9920622  Sat Jul 14 07:24:02 2001 2001-07-14 11:24:02   \n3  lists-002-10134409  Tue Apr 29 10:23:48 2003 2003-04-29 14:23:48   \n4  lists-002-10233238  Sat May 17 03:24:47 2003 2003-05-17 07:24:47   \n5  lists-002-15997816  Sat Nov 22 17:30:35 2003 2003-11-22 22:30:35   \n6   lists-002-7747530  Wed Apr  9 04:51:51 2003 2003-04-09 08:51:51   \n7   lists-002-7903543  Mon Apr 14 02:05:51 2003 2003-04-14 06:05:51   \n8   lists-002-8367648  Tue Apr 15 06:22:41 2003 2003-04-15 10:22:41   \n9   lists-003-0885404  Mon Feb  9 16:35:38 2004 2004-02-09 21:35:38   \n\n                                    sent             isosent  \\\n0  Fri, 14 Jul 2000 08:19:41 -0400 (EDT) 2000-07-14 12:19:41   \n1        Sat, 14 Jul 2001 13:12:58 +0200 2001-07-14 11:12:58   \n2        Sat, 14 Jul 2001 13:12:58 +0200 2001-07-14 11:12:58   \n3        Tue, 29 Apr 2003 22:23:41 +0800 2003-04-29 14:23:41   \n4  Wed, 14 May 2003 09:32:46 -0400 (EDT) 2003-05-14 13:32:46   \n5        Wed, 19 Nov 2003 18:42:25 -0800 2003-11-20 02:42:25   \n6        Wed, 09 Apr 2003 08:51:45 +0000 2003-04-09 08:51:45   \n7        Mon, 14 Apr 2003 06:05:44 +0000 2003-04-14 06:05:44   \n8        Tue, 15 Apr 2003 10:22:35 +0000 2003-04-15 10:22:35   \n9         Mon, 9 Feb 2004 15:59:21 -0500 2004-02-09 20:59:21   \n\n                                 name                          email  \\\n0                      Georgopoulos N       ngeorgopoulos@city.ac.uk   \n1                 Karl Ove Hufthammer             huftis@bigfoot.com   \n2                 Karl Ove Hufthammer             huftis@bigfoot.com   \n3                           lock mode             klcc70@hotmail.com   \n4                      David Van Cott                 dtvc17@msn.com   \n5                              Azigan                 azigan@fix.net   \n6                     Surfer&#39;s Choice  surfing_worldwide@hotmail.com   \n7                     Surfer&#39;s Choice  surfing_worldwide@hotmail.com   \n8                     Surfer&#39;s Choice  surfing_worldwide@hotmail.com   \n9  Harold Baughan [RockSolidSite.com]     hbaughan@rocksolidsite.com   \n\n                                                                         subject  \\\n0                                                                     Bug report   \n1                                                     Re: entities in title tags   \n2                                                     Re: entities in title tags   \n3  Stock markets rise on positive earnings, consumer spending ConsumerReportsorg   \n4                                                                    Tag problem   \n5                          www.worldwidewoodworking would like to exchange links   \n6       Google Advertise Google Groups Google News Google Image Google Directory   \n7    Toolbar increases your ability to find information from anywhere on the web   \n8  Morpheus the foremost software for sharing mp3 music from independent artists   \n9                                      Comments on Tidy Beta version 15-Jan-2004   \n\n                                        id     charset  \\\n0             E13D4Rs-0004TB-00@mailswitch    US-ASCII   \n1    003b01c10c55$f0f62060$f3468ed5@huftis  iso-8859-1   \n2    003b01c10c55$f0f62060$f3468ed5@huftis  iso-8859-1   \n3  Law10-F458juXym3SjK00016b82@hotmail.com        None   \n4  BAY4-F144h4Jzgi1Z8200004355@hotmail.com        None   \n5    0HOM00LVHQ68TB@a34-mta02.direcway.com        None   \n6  F15OdKMnap2SAWQ8AZn0004a566@hotmail.com        None   \n7  F104evp6zmPtp4IOrkW00054d47@hotmail.com        None   \n8  F69MkqpsJvHDtfIxZ190001f4f8@hotmail.com        None   \n9    003101c3ef4f$9c2dadc0$b72e4b43@e3f3y7  iso-8859-1   \n\n                                 inreplyto expires                       to  \\\n0                                     None      -1         html-tidy@w3.org   \n1  000201c10c12$b894f900$4222e540@IanEvans      -1  ianevans@digitalhit.com   \n2  000201c10c12$b894f900$4222e540@IanEvans      -1         html-tidy@w3.org   \n3                                     None      -1         html-tidy@w3.org   \n4                                     None      -1         html-tidy@w3.org   \n5                                     None      -1         html-tidy@w3.org   \n6                                     None      -1         html-tidy@w3.org   \n7                                     None      -1         html-tidy@w3.org   \n8                                     None      -1         html-tidy@w3.org   \n9                                     None      -1         html-tidy@w3.org   \n\n           cc  \\\n0        None   \n1        None   \n2        None   \n3        None   \n4  dsr@w3.org   \n5        None   \n6        None   \n7        None   \n8        None   \n9        None   \n\n                                                                                                                                                                                                                                                                                                                                                                                                                                                                                                                                                                                                                                                                                                                                                                                                                                                                                                                                                                                                                                      body  \n0                                                                                                                                                                                                                                                                                                                                                                                                                                                                                                                                                                                                                                                                                                                                                                                                                                                                                                                                                                   \\n\\n\\n\\n\\n\\n\\n\\n\\n\\ntext/enriched attachment: stored\\n\\n\\n\\n\\n\\n\\n\\n\\n  \n1                                                                                                                                                                                                                                                                                                                                                                                                                                                                                                                                                              \\n\\n\\n\\n\\n\\n----- Original Message ----- \\n\\nFrom: &quot;Ian M. Evans&quot; &lt;ianevans@digitalhit.com&gt;\\n\\nSent: Saturday, July 14, 2001 5:11 AM\\n\\nSubject: entities in title tags\\n\\n\\n\\n\\n\\n&gt; Just wondering if there&#39;s anything wrong with entities in title tags.\\n\\n\\n\\nNo.\\n\\n\\n\\n&gt; I&#39;ve noticed that the numeric entity for the apostrophe ends up showing up\\n\\n&gt; in Google search results as:\\n\\n\\n\\nThis is a bug in Google.\\n\\n\\n\\n-- \\n\\nKarl Ove Hufthammer\\n\\n\\n\\n\\n\\n\\n  \n2                                                                                                                                                                                                                                                                                                                                                                                                                                                                                                                                                              \\n\\n\\n\\n\\n\\n----- Original Message ----- \\n\\nFrom: &quot;Ian M. Evans&quot; &lt;ianevans@digitalhit.com&gt;\\n\\nSent: Saturday, July 14, 2001 5:11 AM\\n\\nSubject: entities in title tags\\n\\n\\n\\n\\n\\n&gt; Just wondering if there&#39;s anything wrong with entities in title tags.\\n\\n\\n\\nNo.\\n\\n\\n\\n&gt; I&#39;ve noticed that the numeric entity for the apostrophe ends up showing up\\n\\n&gt; in Google search results as:\\n\\n\\n\\nThis is a bug in Google.\\n\\n\\n\\n-- \\n\\nKarl Ove Hufthammer\\n\\n\\n\\n\\n\\n\\n  \n3  \\n\\n\\n\\n\\n\\n\\n\\nUnbiased product Ratings from the experts at Product Ratings, product \\n\\nreviews, buying guides, product safety recalls and consumer information from \\n\\nthe experts at Consumer Union/Consumer Reports Magazine. Information, \\n\\nratings, and advice on products, services, and decisions. new car reviews, \\n\\nused car Consumer Reports Cars and Trucks: Stay informed with our latest new \\n\\ncar reviews, used car reviews, auto ratings, car safety reports and auto \\n\\nprice service. Provides car reviews, automobile safety information, car \\n\\nbuying guidance.\\n\\n\\n\\n\\n\\n\\n\\nhttp://www.geocities.com/webrobotic2/ConsumerReports.htm\\n\\n\\n\\n\\n\\nconsumer report\\n\\n12965  consumer report magazine\\n\\n11859  consumer report car\\n\\n9172  consumer report online\\n\\n7784  consumer report auto\\n\\n4280  consumer report vacuum cleaners\\n\\n3970  consumer report digital camera\\n\\n3764  consumer credit report\\n\\n3633  consumer report automobile\\n\\n2817  free consumer report\\n\\n2477  consume...  \n4                                \\n\\n\\n\\n\\n\\n\\n\\n\\n\\n\\n\\n\\n\\nI&#39;m using html tidy at work to make the website more accessible and I&#39;m \\n\\nhaving a little problem.  Everything seems to work great execept for one \\n\\nthing. Tidy seems to be removing the &lt;dl&gt; tags.  This is causing the \\n\\nalignment of the webpages to be off.  I searched through google newsgroups \\n\\nand the www.w3.org site and I couldnt find any questions or solutions \\n\\nregarding this.  There is my configs...\\n\\n--clean yes\\n\\n--output-xml no\\n\\n--enclose-text yes\\n\\n--enclose-block-text yes\\n\\n--indent auto\\n\\n--alt-text GraphicImage\\n\\n\\n\\nOther then that problem I think this program is great.  I have to make sure \\n\\nover 1000 html files have alt attributes inside the img tag.  This make file \\n\\nmuch similar.  Thanks\\n\\nDavid\\n\\n\\n\\n_________________________________________________________________\\n\\nHelp STOP SPAM with the new MSN 8 and get 2 months FREE*  \\n\\nhttp://join.msn.com/?page=features/junkmail\\n\\n\\n\\n\\n\\n\\n  \n5                                                                                                                                                                                     \\n\\n\\n\\n\\n\\n\\n\\nWe both know the importance on having multiple links on the internet. \\n\\nThe more links we have \\n\\nthe easier it is for robots to spider and the result is that we get \\n\\nmore hits to our webpages.\\n\\nPlease link to my page and send me your info so that I can add a link \\n\\nto your site.\\n\\n\\n\\nZigans Woodcrafts your online plans store\\n\\n\\n\\nhttp://www.worldwidewoodworking.com\\n\\n My Logo is at:\\n\\nhttp://www.worldwidewoodworking.com/zigan-logo-small.gif\\n\\n\\n\\nOr copy and paste this banner code:\\n\\n&lt;a href=&quot;http://www.worldwidewoodworking.com&quot;&gt;&lt;IMG\\n\\nSRC=&quot;http://www.worldwidewoodworking.com/zigan-logo-small.gif&quot;\\n\\nALT=&quot;Zigan&#39;s Woodcrafts. We are adding new woodworking plans weekly for all\\n\\nlevels of\\n\\nwoodworking&quot;&gt;&lt;/A&gt;\\n\\n\\n\\n\\n\\n\\n\\nThank You for your time\\n\\nAndy Zigan\\n\\n\\n\\n\\n\\n\\n  \n6  \\n\\n\\n\\n\\n\\n\\n\\nWith Us - Business Solutions - Services &amp; Tools - Jobs,Press, &amp; Help ?2003 \\n\\nGoogle - Searching 3,083,324,652 web pages.\\n\\nEnables users to search the Web, Usenet, and images. Features include \\n\\nPageRank, caching and translation groups Advertise with Us - Business \\n\\nSolutions - Services &amp; Tools - Jobs, Press, &amp; Help. ?2003 Google - Searching \\n\\n700,000,000 messages. Search and browse 4,500 news sources updated \\n\\ncontinuously. Aggregated headlines and a search engine of many of the \\n\\nworld&#39;s news sources. The local version of this pre-eminent search engine, \\n\\noffering UK-specific pages as well as world results. Search web. Advertise \\n\\nwith Us - Business Solutions - Services &amp; Tools - Jobs, Press, &amp; Help. ?2003 \\n\\nGoogle - Searching 425,000,000 images. Svenska Advertise with Us - Jobs, \\n\\nPress, &amp; Help. ?2003 Google Help build the largest human-edited directory on \\n\\nthe web. Submit A popular search engine with many features. It uses the ODP \\n\\nRDF...  \n7  \\n\\n\\n\\n\\n\\n\\n\\nTakes only seconds to install. Integrates with Internet Explorer&#39;s toolbar. \\n\\nFeatures include web search, image search, search site The Google Toolbar \\n\\nintegrates the world&#39;s best web search into Internet Explorer (IE) Windows \\n\\nNT/2000/XP. Windows 95/98/ME. The Preferences toolbar allows mozilla users \\n\\nto quickly toggle preferences, access utility functions, change browser \\n\\nsettings and more. Sneaky Toolbar Hijacks Browsers Xupiter is an Internet \\n\\nExplorer toolbar program.\\n\\n\\n\\n\\n\\n\\n\\nhttp://www.geocities.com/emailpacket18/toolbar.htm\\n\\n\\n\\n\\n\\nhacker\\n\\ntoolbar\\n\\n8918  google toolbar\\n\\n5499  yahoo toolbar\\n\\n1365  toolbar xupiter\\n\\n1229  toolbar skin\\n\\n970  toolbar wallpaper\\n\\n940  ebay toolbar\\n\\n896  google google toolbar\\n\\n665  ie toolbar\\n\\n463  excite toolbar\\n\\n448  toolbar icon\\n\\n394  msn toolbar\\n\\n377  internet explorer toolbar\\n\\n367  companion toolbar yahoo\\n\\n333  browser toolbar\\n\\n326  search toolbar\\n\\n280  download googl...  \n8  \\n\\n\\n\\n\\n\\n\\n\\nMusicCitycom is the creator of morpheus . Download Morpheus 2.0. Home of the \\n\\n  self-organizing, file-sharing system with features including chatrooms, \\n\\ngeneral Morpheus Software - Download Morpheus Morpheus is an award-winning \\n\\ngraphics program that lets you morph your photos, web images, movies, and \\n\\nmore. Morpheus 1.80 lets Morpheus is a graphics program that will morph/warp \\n\\ntwo images or movies in Flash, Animated GIF, and\\n\\n\\n\\n\\n\\n\\n\\nhttp://www.geocities.com/adfunk52/morpheus.htm\\n\\n\\n\\n\\n\\nmorpheus\\n\\n11348  morpheus download\\n\\n5134  morpheus 2.0\\n\\n3342  morpheus free\\n\\n2813  morpheus music\\n\\n2452  morpheus 1.9\\n\\n2362  free morpheus download\\n\\n1771  morpheus mac\\n\\n1621  music city morpheus\\n\\n1287  morpheus kazaa\\n\\n1244  morpheus mp3\\n\\n1079  morpheus downloads\\n\\n1056  free morpheus downloads\\n\\n878  file sharing morpheus\\n\\n781  morpheus lite\\n\\n729  morpheus software\\n\\n672  download morpheus morpheus\\n\\n657  morpheus 2\\n\\n631  mor...  \n9  \\n\\n\\n\\n\\n\\n\\n\\nGood afternoon,\\n\\n\\n\\nNot (yet) being on your distribution list, I do not know if these topics\\n\\nhave already been covered.  I&#39;ve been using Tidy Beta (15 Jan 2004) for the\\n\\nlast week or so.  (I&#39;m using it as a plug-in to Chami&#39;s HTML-Kit Version\\n\\n1.0, Build 292, on Win-98.)  Nice program.  However, I have just noticed a\\n\\nfew items.\\n\\n\\n\\nAt the top of my page  is the expected\\n\\n&lt;?xml version=&quot;1.0&quot; encoding=&quot;us-ascii&quot;?&gt;\\n\\n&lt;!DOCTYPE html PUBLIC &quot;-//W3C//DTD XHTML 1.0 Strict//EN&quot;\\n\\n&quot;http://www.w3.org/TR/xhtml1/DTD/xhtml1-strict.dtd&quot;&gt;\\n\\nbut I wanted to test 1.1.  So, I changed this to\\n\\n\\n\\n&lt;?xml version=&quot;1.1&quot; encoding=&quot;us-ascii&quot;?&gt;\\n\\n&lt;!DOCTYPE html PUBLIC &quot;-//W3C//DTD XHTML 1.1 Strict//EN&quot;\\n\\n&quot;http://www.w3.org/TR/xhtml1/DTD/xhtml1-strict.dtd&quot;&gt;\\n\\n\\n\\nTidy responds with\\n\\n&gt; Doctype given is &quot;(null).&quot;\\n\\n\\n\\na) It might be useful to make the response something like, &quot;Doctype given is\\n\\nnot yet supported by Tidy.&quot;\\n\\n\\n\\nb)  Also, it would be nice if we ...  ",
      "text/html": "<div>\n<style scoped>\n    .dataframe tbody tr th:only-of-type {\n        vertical-align: middle;\n    }\n\n    .dataframe tbody tr th {\n        vertical-align: top;\n    }\n\n    .dataframe thead th {\n        text-align: right;\n    }\n</style>\n<table border=\"1\" class=\"dataframe\">\n  <thead>\n    <tr style=\"text-align: right;\">\n      <th></th>\n      <th>docno</th>\n      <th>received</th>\n      <th>isoreceived</th>\n      <th>sent</th>\n      <th>isosent</th>\n      <th>name</th>\n      <th>email</th>\n      <th>subject</th>\n      <th>id</th>\n      <th>charset</th>\n      <th>inreplyto</th>\n      <th>expires</th>\n      <th>to</th>\n      <th>cc</th>\n      <th>body</th>\n    </tr>\n  </thead>\n  <tbody>\n    <tr>\n      <th>0</th>\n      <td>lists-000-13503992</td>\n      <td>Fri Jul 14 12:48:10 2000</td>\n      <td>2000-07-14 16:48:10</td>\n      <td>Fri, 14 Jul 2000 08:19:41 -0400 (EDT)</td>\n      <td>2000-07-14 12:19:41</td>\n      <td>Georgopoulos N</td>\n      <td>ngeorgopoulos@city.ac.uk</td>\n      <td>Bug report</td>\n      <td>E13D4Rs-0004TB-00@mailswitch</td>\n      <td>US-ASCII</td>\n      <td>None</td>\n      <td>-1</td>\n      <td>html-tidy@w3.org</td>\n      <td>None</td>\n      <td>\\n\\n\\n\\n\\n\\n\\n\\n\\n\\ntext/enriched attachment: stored\\n\\n\\n\\n\\n\\n\\n\\n\\n</td>\n    </tr>\n    <tr>\n      <th>1</th>\n      <td>lists-001-9920622</td>\n      <td>Sat Jul 14 07:24:02 2001</td>\n      <td>2001-07-14 11:24:02</td>\n      <td>Sat, 14 Jul 2001 13:12:58 +0200</td>\n      <td>2001-07-14 11:12:58</td>\n      <td>Karl Ove Hufthammer</td>\n      <td>huftis@bigfoot.com</td>\n      <td>Re: entities in title tags</td>\n      <td>003b01c10c55$f0f62060$f3468ed5@huftis</td>\n      <td>iso-8859-1</td>\n      <td>000201c10c12$b894f900$4222e540@IanEvans</td>\n      <td>-1</td>\n      <td>ianevans@digitalhit.com</td>\n      <td>None</td>\n      <td>\\n\\n\\n\\n\\n\\n----- Original Message ----- \\n\\nFrom: \"Ian M. Evans\" &lt;ianevans@digitalhit.com&gt;\\n\\nSent: Saturday, July 14, 2001 5:11 AM\\n\\nSubject: entities in title tags\\n\\n\\n\\n\\n\\n&gt; Just wondering if there's anything wrong with entities in title tags.\\n\\n\\n\\nNo.\\n\\n\\n\\n&gt; I've noticed that the numeric entity for the apostrophe ends up showing up\\n\\n&gt; in Google search results as:\\n\\n\\n\\nThis is a bug in Google.\\n\\n\\n\\n-- \\n\\nKarl Ove Hufthammer\\n\\n\\n\\n\\n\\n\\n</td>\n    </tr>\n    <tr>\n      <th>2</th>\n      <td>lists-001-9920622</td>\n      <td>Sat Jul 14 07:24:02 2001</td>\n      <td>2001-07-14 11:24:02</td>\n      <td>Sat, 14 Jul 2001 13:12:58 +0200</td>\n      <td>2001-07-14 11:12:58</td>\n      <td>Karl Ove Hufthammer</td>\n      <td>huftis@bigfoot.com</td>\n      <td>Re: entities in title tags</td>\n      <td>003b01c10c55$f0f62060$f3468ed5@huftis</td>\n      <td>iso-8859-1</td>\n      <td>000201c10c12$b894f900$4222e540@IanEvans</td>\n      <td>-1</td>\n      <td>html-tidy@w3.org</td>\n      <td>None</td>\n      <td>\\n\\n\\n\\n\\n\\n----- Original Message ----- \\n\\nFrom: \"Ian M. Evans\" &lt;ianevans@digitalhit.com&gt;\\n\\nSent: Saturday, July 14, 2001 5:11 AM\\n\\nSubject: entities in title tags\\n\\n\\n\\n\\n\\n&gt; Just wondering if there's anything wrong with entities in title tags.\\n\\n\\n\\nNo.\\n\\n\\n\\n&gt; I've noticed that the numeric entity for the apostrophe ends up showing up\\n\\n&gt; in Google search results as:\\n\\n\\n\\nThis is a bug in Google.\\n\\n\\n\\n-- \\n\\nKarl Ove Hufthammer\\n\\n\\n\\n\\n\\n\\n</td>\n    </tr>\n    <tr>\n      <th>3</th>\n      <td>lists-002-10134409</td>\n      <td>Tue Apr 29 10:23:48 2003</td>\n      <td>2003-04-29 14:23:48</td>\n      <td>Tue, 29 Apr 2003 22:23:41 +0800</td>\n      <td>2003-04-29 14:23:41</td>\n      <td>lock mode</td>\n      <td>klcc70@hotmail.com</td>\n      <td>Stock markets rise on positive earnings, consumer spending ConsumerReportsorg</td>\n      <td>Law10-F458juXym3SjK00016b82@hotmail.com</td>\n      <td>None</td>\n      <td>None</td>\n      <td>-1</td>\n      <td>html-tidy@w3.org</td>\n      <td>None</td>\n      <td>\\n\\n\\n\\n\\n\\n\\n\\nUnbiased product Ratings from the experts at Product Ratings, product \\n\\nreviews, buying guides, product safety recalls and consumer information from \\n\\nthe experts at Consumer Union/Consumer Reports Magazine. Information, \\n\\nratings, and advice on products, services, and decisions. new car reviews, \\n\\nused car Consumer Reports Cars and Trucks: Stay informed with our latest new \\n\\ncar reviews, used car reviews, auto ratings, car safety reports and auto \\n\\nprice service. Provides car reviews, automobile safety information, car \\n\\nbuying guidance.\\n\\n\\n\\n\\n\\n\\n\\nhttp://www.geocities.com/webrobotic2/ConsumerReports.htm\\n\\n\\n\\n\\n\\nconsumer report\\n\\n12965  consumer report magazine\\n\\n11859  consumer report car\\n\\n9172  consumer report online\\n\\n7784  consumer report auto\\n\\n4280  consumer report vacuum cleaners\\n\\n3970  consumer report digital camera\\n\\n3764  consumer credit report\\n\\n3633  consumer report automobile\\n\\n2817  free consumer report\\n\\n2477  consume...</td>\n    </tr>\n    <tr>\n      <th>4</th>\n      <td>lists-002-10233238</td>\n      <td>Sat May 17 03:24:47 2003</td>\n      <td>2003-05-17 07:24:47</td>\n      <td>Wed, 14 May 2003 09:32:46 -0400 (EDT)</td>\n      <td>2003-05-14 13:32:46</td>\n      <td>David Van Cott</td>\n      <td>dtvc17@msn.com</td>\n      <td>Tag problem</td>\n      <td>BAY4-F144h4Jzgi1Z8200004355@hotmail.com</td>\n      <td>None</td>\n      <td>None</td>\n      <td>-1</td>\n      <td>html-tidy@w3.org</td>\n      <td>dsr@w3.org</td>\n      <td>\\n\\n\\n\\n\\n\\n\\n\\n\\n\\n\\n\\n\\n\\nI'm using html tidy at work to make the website more accessible and I'm \\n\\nhaving a little problem.  Everything seems to work great execept for one \\n\\nthing. Tidy seems to be removing the &lt;dl&gt; tags.  This is causing the \\n\\nalignment of the webpages to be off.  I searched through google newsgroups \\n\\nand the www.w3.org site and I couldnt find any questions or solutions \\n\\nregarding this.  There is my configs...\\n\\n--clean yes\\n\\n--output-xml no\\n\\n--enclose-text yes\\n\\n--enclose-block-text yes\\n\\n--indent auto\\n\\n--alt-text GraphicImage\\n\\n\\n\\nOther then that problem I think this program is great.  I have to make sure \\n\\nover 1000 html files have alt attributes inside the img tag.  This make file \\n\\nmuch similar.  Thanks\\n\\nDavid\\n\\n\\n\\n_________________________________________________________________\\n\\nHelp STOP SPAM with the new MSN 8 and get 2 months FREE*  \\n\\nhttp://join.msn.com/?page=features/junkmail\\n\\n\\n\\n\\n\\n\\n</td>\n    </tr>\n    <tr>\n      <th>5</th>\n      <td>lists-002-15997816</td>\n      <td>Sat Nov 22 17:30:35 2003</td>\n      <td>2003-11-22 22:30:35</td>\n      <td>Wed, 19 Nov 2003 18:42:25 -0800</td>\n      <td>2003-11-20 02:42:25</td>\n      <td>Azigan</td>\n      <td>azigan@fix.net</td>\n      <td>www.worldwidewoodworking would like to exchange links</td>\n      <td>0HOM00LVHQ68TB@a34-mta02.direcway.com</td>\n      <td>None</td>\n      <td>None</td>\n      <td>-1</td>\n      <td>html-tidy@w3.org</td>\n      <td>None</td>\n      <td>\\n\\n\\n\\n\\n\\n\\n\\nWe both know the importance on having multiple links on the internet. \\n\\nThe more links we have \\n\\nthe easier it is for robots to spider and the result is that we get \\n\\nmore hits to our webpages.\\n\\nPlease link to my page and send me your info so that I can add a link \\n\\nto your site.\\n\\n\\n\\nZigans Woodcrafts your online plans store\\n\\n\\n\\nhttp://www.worldwidewoodworking.com\\n\\n My Logo is at:\\n\\nhttp://www.worldwidewoodworking.com/zigan-logo-small.gif\\n\\n\\n\\nOr copy and paste this banner code:\\n\\n&lt;a href=\"http://www.worldwidewoodworking.com\"&gt;&lt;IMG\\n\\nSRC=\"http://www.worldwidewoodworking.com/zigan-logo-small.gif\"\\n\\nALT=\"Zigan's Woodcrafts. We are adding new woodworking plans weekly for all\\n\\nlevels of\\n\\nwoodworking\"&gt;&lt;/A&gt;\\n\\n\\n\\n\\n\\n\\n\\nThank You for your time\\n\\nAndy Zigan\\n\\n\\n\\n\\n\\n\\n</td>\n    </tr>\n    <tr>\n      <th>6</th>\n      <td>lists-002-7747530</td>\n      <td>Wed Apr  9 04:51:51 2003</td>\n      <td>2003-04-09 08:51:51</td>\n      <td>Wed, 09 Apr 2003 08:51:45 +0000</td>\n      <td>2003-04-09 08:51:45</td>\n      <td>Surfer's Choice</td>\n      <td>surfing_worldwide@hotmail.com</td>\n      <td>Google Advertise Google Groups Google News Google Image Google Directory</td>\n      <td>F15OdKMnap2SAWQ8AZn0004a566@hotmail.com</td>\n      <td>None</td>\n      <td>None</td>\n      <td>-1</td>\n      <td>html-tidy@w3.org</td>\n      <td>None</td>\n      <td>\\n\\n\\n\\n\\n\\n\\n\\nWith Us - Business Solutions - Services &amp; Tools - Jobs,Press, &amp; Help ?2003 \\n\\nGoogle - Searching 3,083,324,652 web pages.\\n\\nEnables users to search the Web, Usenet, and images. Features include \\n\\nPageRank, caching and translation groups Advertise with Us - Business \\n\\nSolutions - Services &amp; Tools - Jobs, Press, &amp; Help. ?2003 Google - Searching \\n\\n700,000,000 messages. Search and browse 4,500 news sources updated \\n\\ncontinuously. Aggregated headlines and a search engine of many of the \\n\\nworld's news sources. The local version of this pre-eminent search engine, \\n\\noffering UK-specific pages as well as world results. Search web. Advertise \\n\\nwith Us - Business Solutions - Services &amp; Tools - Jobs, Press, &amp; Help. ?2003 \\n\\nGoogle - Searching 425,000,000 images. Svenska Advertise with Us - Jobs, \\n\\nPress, &amp; Help. ?2003 Google Help build the largest human-edited directory on \\n\\nthe web. Submit A popular search engine with many features. It uses the ODP \\n\\nRDF...</td>\n    </tr>\n    <tr>\n      <th>7</th>\n      <td>lists-002-7903543</td>\n      <td>Mon Apr 14 02:05:51 2003</td>\n      <td>2003-04-14 06:05:51</td>\n      <td>Mon, 14 Apr 2003 06:05:44 +0000</td>\n      <td>2003-04-14 06:05:44</td>\n      <td>Surfer's Choice</td>\n      <td>surfing_worldwide@hotmail.com</td>\n      <td>Toolbar increases your ability to find information from anywhere on the web</td>\n      <td>F104evp6zmPtp4IOrkW00054d47@hotmail.com</td>\n      <td>None</td>\n      <td>None</td>\n      <td>-1</td>\n      <td>html-tidy@w3.org</td>\n      <td>None</td>\n      <td>\\n\\n\\n\\n\\n\\n\\n\\nTakes only seconds to install. Integrates with Internet Explorer's toolbar. \\n\\nFeatures include web search, image search, search site The Google Toolbar \\n\\nintegrates the world's best web search into Internet Explorer (IE) Windows \\n\\nNT/2000/XP. Windows 95/98/ME. The Preferences toolbar allows mozilla users \\n\\nto quickly toggle preferences, access utility functions, change browser \\n\\nsettings and more. Sneaky Toolbar Hijacks Browsers Xupiter is an Internet \\n\\nExplorer toolbar program.\\n\\n\\n\\n\\n\\n\\n\\nhttp://www.geocities.com/emailpacket18/toolbar.htm\\n\\n\\n\\n\\n\\nhacker\\n\\ntoolbar\\n\\n8918  google toolbar\\n\\n5499  yahoo toolbar\\n\\n1365  toolbar xupiter\\n\\n1229  toolbar skin\\n\\n970  toolbar wallpaper\\n\\n940  ebay toolbar\\n\\n896  google google toolbar\\n\\n665  ie toolbar\\n\\n463  excite toolbar\\n\\n448  toolbar icon\\n\\n394  msn toolbar\\n\\n377  internet explorer toolbar\\n\\n367  companion toolbar yahoo\\n\\n333  browser toolbar\\n\\n326  search toolbar\\n\\n280  download googl...</td>\n    </tr>\n    <tr>\n      <th>8</th>\n      <td>lists-002-8367648</td>\n      <td>Tue Apr 15 06:22:41 2003</td>\n      <td>2003-04-15 10:22:41</td>\n      <td>Tue, 15 Apr 2003 10:22:35 +0000</td>\n      <td>2003-04-15 10:22:35</td>\n      <td>Surfer's Choice</td>\n      <td>surfing_worldwide@hotmail.com</td>\n      <td>Morpheus the foremost software for sharing mp3 music from independent artists</td>\n      <td>F69MkqpsJvHDtfIxZ190001f4f8@hotmail.com</td>\n      <td>None</td>\n      <td>None</td>\n      <td>-1</td>\n      <td>html-tidy@w3.org</td>\n      <td>None</td>\n      <td>\\n\\n\\n\\n\\n\\n\\n\\nMusicCitycom is the creator of morpheus . Download Morpheus 2.0. Home of the \\n\\n  self-organizing, file-sharing system with features including chatrooms, \\n\\ngeneral Morpheus Software - Download Morpheus Morpheus is an award-winning \\n\\ngraphics program that lets you morph your photos, web images, movies, and \\n\\nmore. Morpheus 1.80 lets Morpheus is a graphics program that will morph/warp \\n\\ntwo images or movies in Flash, Animated GIF, and\\n\\n\\n\\n\\n\\n\\n\\nhttp://www.geocities.com/adfunk52/morpheus.htm\\n\\n\\n\\n\\n\\nmorpheus\\n\\n11348  morpheus download\\n\\n5134  morpheus 2.0\\n\\n3342  morpheus free\\n\\n2813  morpheus music\\n\\n2452  morpheus 1.9\\n\\n2362  free morpheus download\\n\\n1771  morpheus mac\\n\\n1621  music city morpheus\\n\\n1287  morpheus kazaa\\n\\n1244  morpheus mp3\\n\\n1079  morpheus downloads\\n\\n1056  free morpheus downloads\\n\\n878  file sharing morpheus\\n\\n781  morpheus lite\\n\\n729  morpheus software\\n\\n672  download morpheus morpheus\\n\\n657  morpheus 2\\n\\n631  mor...</td>\n    </tr>\n    <tr>\n      <th>9</th>\n      <td>lists-003-0885404</td>\n      <td>Mon Feb  9 16:35:38 2004</td>\n      <td>2004-02-09 21:35:38</td>\n      <td>Mon, 9 Feb 2004 15:59:21 -0500</td>\n      <td>2004-02-09 20:59:21</td>\n      <td>Harold Baughan [RockSolidSite.com]</td>\n      <td>hbaughan@rocksolidsite.com</td>\n      <td>Comments on Tidy Beta version 15-Jan-2004</td>\n      <td>003101c3ef4f$9c2dadc0$b72e4b43@e3f3y7</td>\n      <td>iso-8859-1</td>\n      <td>None</td>\n      <td>-1</td>\n      <td>html-tidy@w3.org</td>\n      <td>None</td>\n      <td>\\n\\n\\n\\n\\n\\n\\n\\nGood afternoon,\\n\\n\\n\\nNot (yet) being on your distribution list, I do not know if these topics\\n\\nhave already been covered.  I've been using Tidy Beta (15 Jan 2004) for the\\n\\nlast week or so.  (I'm using it as a plug-in to Chami's HTML-Kit Version\\n\\n1.0, Build 292, on Win-98.)  Nice program.  However, I have just noticed a\\n\\nfew items.\\n\\n\\n\\nAt the top of my page  is the expected\\n\\n&lt;?xml version=\"1.0\" encoding=\"us-ascii\"?&gt;\\n\\n&lt;!DOCTYPE html PUBLIC \"-//W3C//DTD XHTML 1.0 Strict//EN\"\\n\\n\"http://www.w3.org/TR/xhtml1/DTD/xhtml1-strict.dtd\"&gt;\\n\\nbut I wanted to test 1.1.  So, I changed this to\\n\\n\\n\\n&lt;?xml version=\"1.1\" encoding=\"us-ascii\"?&gt;\\n\\n&lt;!DOCTYPE html PUBLIC \"-//W3C//DTD XHTML 1.1 Strict//EN\"\\n\\n\"http://www.w3.org/TR/xhtml1/DTD/xhtml1-strict.dtd\"&gt;\\n\\n\\n\\nTidy responds with\\n\\n&gt; Doctype given is \"(null).\"\\n\\n\\n\\na) It might be useful to make the response something like, \"Doctype given is\\n\\nnot yet supported by Tidy.\"\\n\\n\\n\\nb)  Also, it would be nice if we ...</td>\n    </tr>\n  </tbody>\n</table>\n</div>"
     },
     "metadata": {},
     "execution_count": 15
    }
   ],
   "source": [
    "mail_df.head(10)"
   ]
  },
  {
   "cell_type": "code",
   "execution_count": 44,
   "metadata": {
    "tags": []
   },
   "outputs": [
    {
     "output_type": "stream",
     "name": "stdout",
     "text": "Georgopoulos_N\nKarl_Ove_Hufthammer\nKarl_Ove_Hufthammer\nlock_mode\nDavid_Van_Cott\nAzigan\nSurfer_s_Choice\nSurfer_s_Choice\nSurfer_s_Choice\nHarold_Baughan__RockSolidSite_com_\n"
    }
   ],
   "source": [
    "for i in mail_df['name'].head(10):\n",
    "    uri_i = re.sub(r'[^a-zA-Z_0-9]','_',i)\n",
    "    print(uri_i)"
   ]
  },
  {
   "source": [
    "## RDFグラフ生成"
   ],
   "cell_type": "markdown",
   "metadata": {}
  },
  {
   "cell_type": "code",
   "execution_count": 68,
   "metadata": {
    "tags": []
   },
   "outputs": [],
   "source": [
    "from rdflib import Graph, Literal, RDF, URIRef, BNode, Namespace\n",
    "from rdflib.namespace import CSVW, DC, DCAT, DCTERMS, DOAP, FOAF, ODRL2, ORG, OWL, \\\n",
    "                           PROF, PROV, RDF, RDFS, SDO, SH, SKOS, SOSA, SSN, TIME, \\\n",
    "                           VOID, XMLNS, XSD\n",
    "BASE = Namespace(\"http://www.kde.cs.tsukuba.ac.jp/~aso/trec#\")\n",
    "EMAIL = Namespace(\"http://www.w3.org/2000/10/swap/pim/email#\")"
   ]
  },
  {
   "cell_type": "code",
   "execution_count": 69,
   "metadata": {},
   "outputs": [],
   "source": [
    "test_instance = mail_df.head(1).values[0]"
   ]
  },
  {
   "cell_type": "code",
   "execution_count": 79,
   "metadata": {},
   "outputs": [],
   "source": [
    "# RDFぐらふ\n",
    "g = Graph()\n",
    "g.bind('',BASE)\n",
    "g.bind('schema',SDO)\n",
    "g.bind('email',EMAIL)\n",
    "g.bind('foaf',FOAF)\n",
    "g.bind('owl',OWL)\n",
    "g.bind('rdf',RDF)"
   ]
  },
  {
   "cell_type": "code",
   "execution_count": 80,
   "metadata": {
    "tags": []
   },
   "outputs": [],
   "source": [
    "docid = test_instance[0]\n",
    "isoreceived = test_instance[2].isoformat()\n",
    "isosent = test_instance[4].isoformat()\n",
    "name = test_instance[5]\n",
    "email = test_instance[6]\n",
    "subject = test_instance[7]\n",
    "uid = test_instance[8]\n",
    "inreplyto = test_instance[10]\n",
    "to = test_instance[12] \n",
    "cc = test_instance[13]\n",
    "body = test_instance[14]\n",
    "\n",
    "#Creating Nodes\n",
    "##URI参照されるリソースは表記を変換する\n",
    "emailmessage = re.sub(r'[^a-zA-Z_0-9]','_',uid) \n",
    "\n",
    "#tripleを作成\n",
    "g.add((BASE[emailmessage],RDF.type,SDO.EmailMessage))\n",
    "g.add((BASE[emailmessage],SDO.identifier,Literal(uid)))\n",
    "g.add((BASE[emailmessage],SDO.alternateName,Literal(docid)))\n",
    "\n",
    "if isosent is not None:\n",
    "    g.add((BASE[emailmessage],SDO.dateSent,Literal(isosent,datatype=XSD.dateTime)))\n",
    "\n",
    "if isoreceived is not None:\n",
    "    g.add((BASE[emailmessage],SDO.dateReceived,Literal(isoreceived,datatype=XSD.dateTime)))\n",
    "\n",
    "if inreplyto is not None:\n",
    "    reply_emailmessage = re.sub(r'[^a-zA-Z_0-9]','_',inreplyto)\n",
    "    g.add((BASE[emailmessage],EMAIL.References,BASE[reply_emailmessage]))\n",
    "\n",
    "if name is not None:\n",
    "    sender = re.sub(r'[^a-zA-Z_0-9]','_',name)\n",
    "    g.add((BASE[emailmessage],SDO.sender,BASE[sender]))\n",
    "    if email is not None:\n",
    "        sender_email = 'mailto:' + email\n",
    "        g.add((BASE[sender],FOAF.mbox,URIRef(sender_email)))\n",
    "\n",
    "if to is not None:\n",
    "    to_recipient = re.sub(r'[^a-zA-Z_0-9]','_',to)\n",
    "    to_email = 'mailto:' + to\n",
    "    g.add((BASE[emailmessage],SDO.toRecipient,BASE[to_recipient]))\n",
    "    g.add((BASE[to_recipient],FOAF.mbox,URIRef(to_email)))\n",
    "\n",
    "if cc is not None:\n",
    "    cc_recipient = re.sub(r'[^a-zA-Z_0-9]','_',cc)\n",
    "    cc_email = 'mailto:' + cc\n",
    "    g.add((BASE[emailmessage],SDO.ccRecipient,BASE[cc_recipient]))\n",
    "    g.add((BASE[cc_recipient],FOAF.mbox,URIRef(cc_email)))\n",
    "\n",
    "if subject is not None:\n",
    "    subject = re.sub(r'[^a-zA-Z_0-9]','_',subject)\n",
    "    g.add((BASE[emailmessage],SDO.headline,Literal(subject)))\n",
    "\n",
    "if body is not None:\n",
    "    g.add((BASE[emailmessage],SDO.text,Literal(body)))"
   ]
  },
  {
   "cell_type": "code",
   "execution_count": 81,
   "metadata": {
    "tags": []
   },
   "outputs": [
    {
     "output_type": "stream",
     "name": "stdout",
     "text": "@prefix : &lt;http://www.kde.cs.tsukuba.ac.jp/~aso/trec#&gt; .\n@prefix foaf: &lt;http://xmlns.com/foaf/0.1/&gt; .\n@prefix schema: &lt;https://schema.org/&gt; .\n@prefix xsd: &lt;http://www.w3.org/2001/XMLSchema#&gt; .\n\n:E13D4Rs_0004TB_00_mailswitch a schema:EmailMessage ;\n    schema:alternateName &quot;lists-000-13503992&quot; ;\n    schema:dateReceived &quot;2000-07-14T16:48:10&quot;^^xsd:dateTime ;\n    schema:dateSent &quot;2000-07-14T12:19:41&quot;^^xsd:dateTime ;\n    schema:headline &quot;Bug_report&quot; ;\n    schema:identifier &quot;E13D4Rs-0004TB-00@mailswitch&quot; ;\n    schema:sender :Georgopoulos_N ;\n    schema:text &quot;&quot;&quot;\n\n\n\n\n\n\n\n\n\ntext/enriched attachment: stored\n\n\n\n\n\n\n\n\n&quot;&quot;&quot; ;\n    schema:toRecipient :html_tidy_w3_org .\n\n:Georgopoulos_N foaf:mbox &lt;mailto:ngeorgopoulos@city.ac.uk&gt; .\n\n:html_tidy_w3_org foaf:mbox &lt;mailto:html-tidy@w3.org&gt; .\n\n\n"
    }
   ],
   "source": [
    "print(g.serialize(format=\"turtle\").decode(\"utf-8\"))"
   ]
  },
  {
   "cell_type": "code",
   "execution_count": null,
   "metadata": {},
   "outputs": [],
   "source": []
  }
 ]
}